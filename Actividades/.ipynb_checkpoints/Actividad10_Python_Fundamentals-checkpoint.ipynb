{
 "cells": [
  {
   "cell_type": "markdown",
   "id": "b16e87e3",
   "metadata": {},
   "source": [
    "# Llenar diccionario"
   ]
  },
  {
   "cell_type": "code",
   "execution_count": 7,
   "id": "78863c32",
   "metadata": {},
   "outputs": [
    {
     "name": "stdout",
     "output_type": "stream",
     "text": [
      "Ingrese la cantidad de personas: 3\n",
      "Nombre de la persona 1: Maria\n",
      "Numero de la persona 1:23\n",
      "Nombre de la persona 2: Rosmery\n",
      "Numero de la persona 2:45\n",
      "Nombre de la persona 3: Bruno\n",
      "Numero de la persona 3:22\n"
     ]
    }
   ],
   "source": [
    "# cantidad de personas\n",
    "cantidad_personas=int(input('Ingrese la cantidad de personas: '))\n",
    "\n",
    "# llenar diccionario\n",
    "diccionario=dict([(input(f'Nombre de la persona {i+1}: '),int(input(f'Numero de la persona {i+1}:'))) for i in range(cantidad_personas)])"
   ]
  },
  {
   "cell_type": "markdown",
   "id": "d5a4fb80",
   "metadata": {},
   "source": [
    "# Actividad: Básica"
   ]
  },
  {
   "cell_type": "code",
   "execution_count": 8,
   "id": "6a30db2b",
   "metadata": {
    "scrolled": true
   },
   "outputs": [
    {
     "name": "stdout",
     "output_type": "stream",
     "text": [
      "Nombre de la persona: Maria, Numero:23\n",
      "Nombre de la persona: Rosmery, Numero:45\n",
      "Nombre de la persona: Bruno, Numero:22\n",
      "\n",
      "El número más grande es: 45\n",
      "El número más pequeño es: 22\n"
     ]
    }
   ],
   "source": [
    "# imprimir valores\n",
    "for nombre,numero in diccionario.items():\n",
    "    print(f'Nombre de la persona: {nombre}, Numero:{numero}')\n",
    "\n",
    "# imprimir numero mas grande y mas pequeño\n",
    "print(f'\\nEl número más grande es: {max(diccionario.values())}')\n",
    "print(f'El número más pequeño es: {min(diccionario.values())}')"
   ]
  },
  {
   "cell_type": "markdown",
   "id": "1619f735",
   "metadata": {},
   "source": [
    "# Actividad: Avanzada"
   ]
  },
  {
   "cell_type": "code",
   "execution_count": 9,
   "id": "d6878f7b",
   "metadata": {},
   "outputs": [
    {
     "name": "stdout",
     "output_type": "stream",
     "text": [
      "Nombre de la persona: Maria, Numero:15\n",
      "Nombre de la persona: Rosmery, Numero:3\n",
      "Nombre de la persona: Bruno, Numero:13\n",
      "\n",
      "El número más grande es: 15\n",
      "El número más pequeño es: 3\n"
     ]
    }
   ],
   "source": [
    "# importar libreria para numeros aleatorios\n",
    "from random import randrange\n",
    "\n",
    "# asignar un numero aleatorio al diccionario de nombres anterior\n",
    "diccionario=dict([(i,randrange(1,31)) for i in diccionario.keys()])\n",
    "\n",
    "# imprimir valores del diccionario\n",
    "for nombre,numero in diccionario.items():\n",
    "    print(f'Nombre de la persona: {nombre}, Numero:{numero}')\n",
    "    \n",
    "# imprimir numero mas grande y mas pequeño\n",
    "print(f'\\nEl número más grande es: {max(diccionario.values())}')\n",
    "print(f'El número más pequeño es: {min(diccionario.values())}')"
   ]
  }
 ],
 "metadata": {
  "kernelspec": {
   "display_name": "Python 3",
   "language": "python",
   "name": "python3"
  },
  "language_info": {
   "codemirror_mode": {
    "name": "ipython",
    "version": 3
   },
   "file_extension": ".py",
   "mimetype": "text/x-python",
   "name": "python",
   "nbconvert_exporter": "python",
   "pygments_lexer": "ipython3",
   "version": "3.6.13"
  }
 },
 "nbformat": 4,
 "nbformat_minor": 5
}
