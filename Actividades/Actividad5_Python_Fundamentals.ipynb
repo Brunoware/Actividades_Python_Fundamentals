{
 "cells": [
  {
   "cell_type": "markdown",
   "id": "a859c2ae",
   "metadata": {},
   "source": [
    "El doble de mi edad tiene 24 años, ¿cuantos años tengo?"
   ]
  },
  {
   "cell_type": "code",
   "execution_count": 8,
   "id": "c506ce1a",
   "metadata": {},
   "outputs": [
    {
     "name": "stdout",
     "output_type": "stream",
     "text": [
      "Tengo 12 años\n"
     ]
    }
   ],
   "source": [
    "# mi edad\n",
    "mi_edad=int(24/2)\n",
    "# mostrar mi edad\n",
    "print(f'Tengo {mi_edad} años')"
   ]
  },
  {
   "cell_type": "markdown",
   "id": "52cd2d20",
   "metadata": {},
   "source": [
    "A un tercio de la edad de mi hermana la disminuyo en 15 años. Tengo 6 años. ¿Que edad tiene?"
   ]
  },
  {
   "cell_type": "code",
   "execution_count": 9,
   "id": "5e4f829e",
   "metadata": {},
   "outputs": [
    {
     "name": "stdout",
     "output_type": "stream",
     "text": [
      "Mi hermana tiene 63 años\n"
     ]
    }
   ],
   "source": [
    "# mi edad\n",
    "mi_edad=6\n",
    "# edad hermana\n",
    "edad_hermana=int((mi_edad+15)*3)\n",
    "# mostrar edad hermana\n",
    "print(f'Mi hermana tiene {edad_hermana} años')"
   ]
  },
  {
   "cell_type": "markdown",
   "id": "f3f5059b",
   "metadata": {},
   "source": [
    "Determina quien es mas grande"
   ]
  },
  {
   "cell_type": "code",
   "execution_count": 10,
   "id": "6f6f2e54",
   "metadata": {},
   "outputs": [
    {
     "name": "stdout",
     "output_type": "stream",
     "text": [
      "Mi hermana es mayor\n"
     ]
    }
   ],
   "source": [
    "print('Yo soy mayor' if mi_edad>edad_hermana else 'Mi hermana es mayor')"
   ]
  }
 ],
 "metadata": {
  "kernelspec": {
   "display_name": "Python 3",
   "language": "python",
   "name": "python3"
  },
  "language_info": {
   "codemirror_mode": {
    "name": "ipython",
    "version": 3
   },
   "file_extension": ".py",
   "mimetype": "text/x-python",
   "name": "python",
   "nbconvert_exporter": "python",
   "pygments_lexer": "ipython3",
   "version": "3.6.13"
  }
 },
 "nbformat": 4,
 "nbformat_minor": 5
}
