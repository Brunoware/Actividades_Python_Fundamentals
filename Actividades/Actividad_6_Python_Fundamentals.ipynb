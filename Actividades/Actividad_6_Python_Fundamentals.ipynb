{
 "cells": [
  {
   "cell_type": "markdown",
   "id": "957c247f",
   "metadata": {},
   "source": [
    "Crear un algoritmo"
   ]
  },
  {
   "cell_type": "code",
   "execution_count": 6,
   "id": "00e8e10f",
   "metadata": {},
   "outputs": [
    {
     "name": "stdout",
     "output_type": "stream",
     "text": [
      "Ingrese un numero entero: 2\n",
      "\n",
      "Para verificar que sea palidromo el numero debe tener al menos 3 dígitos\n",
      "\n",
      "La suma de digitos es 2\n"
     ]
    }
   ],
   "source": [
    "# Este algoritmo verifica si el número es palindromo y también devuelve la suma de sus caracteres\n",
    "# Primero se pide que el usuario ingrese un numero\n",
    "numero=input('Ingrese un numero entero: ')\n",
    "\n",
    "# Verificar que sea palindromo\n",
    "if len(numero)>=3:\n",
    "    print('\\nEs palindromo\\n' if numero==numero[::-1] else '\\nNo es palindromo\\n')\n",
    "else:\n",
    "    print('\\nPara verificar que sea palidromo el numero debe tener al menos 3 dígitos\\n')\n",
    "    \n",
    "# Devolver la suma de sus caracteres\n",
    "numero=list(numero)\n",
    "suma_digitos=sum((map(int,numero)))\n",
    "print(f'La suma de digitos es {suma_digitos}')"
   ]
  }
 ],
 "metadata": {
  "kernelspec": {
   "display_name": "Python 3",
   "language": "python",
   "name": "python3"
  },
  "language_info": {
   "codemirror_mode": {
    "name": "ipython",
    "version": 3
   },
   "file_extension": ".py",
   "mimetype": "text/x-python",
   "name": "python",
   "nbconvert_exporter": "python",
   "pygments_lexer": "ipython3",
   "version": "3.6.13"
  }
 },
 "nbformat": 4,
 "nbformat_minor": 5
}
