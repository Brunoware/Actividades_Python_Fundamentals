{
 "cells": [
  {
   "cell_type": "code",
   "execution_count": 9,
   "id": "f74511fb",
   "metadata": {},
   "outputs": [
    {
     "name": "stdout",
     "output_type": "stream",
     "text": [
      "Ingrese numero 1: 100\n",
      "Ingrese numero 2: 100\n",
      "Los numeros son iguales, ingrese distintos\n"
     ]
    }
   ],
   "source": [
    "# pedir que ingrese dos numeros\n",
    "numeros=[int(input(f'Ingrese numero {i+1}: ')) for i in range(2)]\n",
    "\n",
    "# buscar que número es mayor\n",
    "print(f'El número menor es {min(numeros)}' if len(set(numeros))==len(numeros) else 'Los numeros son iguales, ingrese distintos')"
   ]
  }
 ],
 "metadata": {
  "kernelspec": {
   "display_name": "Python 3",
   "language": "python",
   "name": "python3"
  },
  "language_info": {
   "codemirror_mode": {
    "name": "ipython",
    "version": 3
   },
   "file_extension": ".py",
   "mimetype": "text/x-python",
   "name": "python",
   "nbconvert_exporter": "python",
   "pygments_lexer": "ipython3",
   "version": "3.6.13"
  }
 },
 "nbformat": 4,
 "nbformat_minor": 5
}
