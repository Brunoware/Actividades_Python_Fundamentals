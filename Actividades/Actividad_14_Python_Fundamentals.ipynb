{
 "cells": [
  {
   "cell_type": "markdown",
   "id": "c2645324",
   "metadata": {},
   "source": [
    "# Ingresar valores"
   ]
  },
  {
   "cell_type": "code",
   "execution_count": 75,
   "id": "6d88c49d",
   "metadata": {},
   "outputs": [
    {
     "name": "stdout",
     "output_type": "stream",
     "text": [
      "Ingresar valores, escribir 'done' para salir\n",
      "Ingrese numero 1: 50\n",
      "Ingrese numero 2: 25\n",
      "Ingrese numero 3: blabla\n",
      "El valor ingresado debe ser numérico\n",
      "Ingrese numero 3: 10\n",
      "Ingrese numero 4: 5\n",
      "Ingrese numero 5: done\n"
     ]
    }
   ],
   "source": [
    "# funcion para verificar que es numerico float \n",
    "def isfloat(num):\n",
    "    try:\n",
    "        float(num)\n",
    "        return True\n",
    "    except:\n",
    "        return False\n",
    "    \n",
    "# ingresar valores para las clases    \n",
    "print('Ingresar valores, escribir \\'done\\' para salir')\n",
    "valor_actual=1 # valor actual inicial para ingresar al while\n",
    "list_valores=list() # definir una lista donde se acumularan los valores\n",
    "indice_numero=1 # el indice inicial del numero actual\n",
    "while valor_actual!='done':\n",
    "    # pedir que ingrese el numero\n",
    "    valor_ingresado=input(f'Ingrese numero {indice_numero}: ')\n",
    "    # validacion\n",
    "    if isfloat(valor_ingresado) or valor_ingresado=='done':\n",
    "        list_valores.append(valor_ingresado)\n",
    "        valor_actual=list_valores[-1]\n",
    "        indice_numero+=1\n",
    "    else:\n",
    "        print('El valor ingresado debe ser numérico')\n",
    "# convertir valores a numericos\n",
    "list_valores=list_valores[:-1] # quitar el 'done' de la lista\n",
    "list_valores=list(map(float,list_valores)) # convertir los valores a float"
   ]
  },
  {
   "cell_type": "markdown",
   "id": "065b8df3",
   "metadata": {},
   "source": [
    "# Actividad: Básica"
   ]
  },
  {
   "cell_type": "markdown",
   "id": "cf24882c",
   "metadata": {},
   "source": [
    "Crear una calculadora con al menos 4 operaciones básicas"
   ]
  },
  {
   "cell_type": "code",
   "execution_count": 76,
   "id": "524e78de",
   "metadata": {},
   "outputs": [],
   "source": [
    "import numpy as np\n",
    "\n",
    "class Calculadora_basica:\n",
    "    '''Calculadora que realiza suma, resta, multiplicación y promedio'''\n",
    "    def __init__(self,valores):\n",
    "        self.valores=np.array(valores)\n",
    "        \n",
    "    def suma(self):\n",
    "        return np.sum(self.valores)\n",
    "    \n",
    "    def resta(self):\n",
    "        return np.sum(np.append(self.valores[0],(np.negative(self.valores[1:]))))\n",
    "    \n",
    "    def multiplicacion(self):\n",
    "        return np.product(self.valores)\n",
    "    \n",
    "    def promedio(self):\n",
    "        return np.average(self.valores)  "
   ]
  },
  {
   "cell_type": "code",
   "execution_count": 77,
   "id": "e242620f",
   "metadata": {},
   "outputs": [
    {
     "name": "stdout",
     "output_type": "stream",
     "text": [
      "Números a evaluar:... [50. 25. 10.  5.]\n",
      "Suma:................ 90.0\n",
      "Resta:............... 10.0\n",
      "Multiplicación:...... 62500.0\n",
      "Promedio:............ 22.5\n"
     ]
    }
   ],
   "source": [
    "# crear instancia con numeros\n",
    "numeros=Calculadora_basica()\n",
    "\n",
    "# probar metodos\n",
    "print(f'Números a evaluar:... {numeros.valores}')\n",
    "print(f'Suma:................ {numeros.suma()}')\n",
    "print(f'Resta:............... {numeros.resta()}')\n",
    "print(f'Multiplicación:...... {numeros.multiplicacion()}')\n",
    "print(f'Promedio:............ {numeros.promedio()}')"
   ]
  },
  {
   "cell_type": "markdown",
   "id": "c625eb96",
   "metadata": {},
   "source": [
    "# Actividad: Avanzada"
   ]
  },
  {
   "cell_type": "markdown",
   "id": "128c383f",
   "metadata": {},
   "source": [
    "Crear una calculadora con al menos 4 operaciones básicas + raíz cuadrada y elevar a una potencia."
   ]
  },
  {
   "cell_type": "code",
   "execution_count": 81,
   "id": "813e8848",
   "metadata": {},
   "outputs": [],
   "source": [
    "class Calculadora_avanzada(Calculadora_basica):\n",
    "    '''Calculadora que realiza suma, resta, multiplicación, promedio, raiz cuadrada y elevar a la potencia'''\n",
    "    def __init__(self,valores,exponente):\n",
    "        super().__init__(valores)\n",
    "        self.exponente=exponente\n",
    "        \n",
    "    def raiz_cuadrada(self):\n",
    "        return np.sqrt(self.valores)\n",
    "    \n",
    "    def potencia(self):\n",
    "        return np.power(self.valores,self.exponente)"
   ]
  },
  {
   "cell_type": "code",
   "execution_count": 82,
   "id": "ac439b41",
   "metadata": {},
   "outputs": [
    {
     "name": "stdout",
     "output_type": "stream",
     "text": [
      "Números a evaluar:... [50. 25. 10.  5.]\n",
      "Suma:................ 90.0\n",
      "Resta:............... 10.0\n",
      "Multiplicación:...... 62500.0\n",
      "Promedio:............ 22.5\n",
      "Raíz cuadrada:....... [7.07 5.   3.16 2.24]\n",
      "Potencia:............ [2500.  625.  100.   25.]\n"
     ]
    }
   ],
   "source": [
    "# probar instancia de calculadora avanzada\n",
    "# crear instancia con numeros\n",
    "numeros_avanzados=Calculadora_avanzada(list_valores,exponente=2)\n",
    "\n",
    "# probar metodos\n",
    "print(f'Números a evaluar:... {numeros_avanzados.valores}')\n",
    "print(f'Suma:................ {numeros_avanzados.suma()}')\n",
    "print(f'Resta:............... {numeros_avanzados.resta()}')\n",
    "print(f'Multiplicación:...... {numeros_avanzados.multiplicacion()}')\n",
    "print(f'Promedio:............ {numeros_avanzados.promedio()}')\n",
    "print(f'Raíz cuadrada:....... {np.round(numeros_avanzados.raiz_cuadrada(),2)}')\n",
    "print(f'Potencia:............ {numeros_avanzados.potencia()}')"
   ]
  }
 ],
 "metadata": {
  "kernelspec": {
   "display_name": "Python 3",
   "language": "python",
   "name": "python3"
  },
  "language_info": {
   "codemirror_mode": {
    "name": "ipython",
    "version": 3
   },
   "file_extension": ".py",
   "mimetype": "text/x-python",
   "name": "python",
   "nbconvert_exporter": "python",
   "pygments_lexer": "ipython3",
   "version": "3.6.13"
  }
 },
 "nbformat": 4,
 "nbformat_minor": 5
}
