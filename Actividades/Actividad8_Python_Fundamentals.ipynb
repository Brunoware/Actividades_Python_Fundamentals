{
 "cells": [
  {
   "cell_type": "markdown",
   "id": "49cea57f",
   "metadata": {},
   "source": [
    "Determinar si soy mayor de edad o no"
   ]
  },
  {
   "cell_type": "code",
   "execution_count": 9,
   "id": "d2613b66",
   "metadata": {},
   "outputs": [
    {
     "name": "stdout",
     "output_type": "stream",
     "text": [
      "Ingrese su edad: 22\n",
      "Eres mayor de edad\n"
     ]
    }
   ],
   "source": [
    "# imprimir si soy o no mayor de edad\n",
    "print(\"Eres mayor de edad\" if int(input('Ingrese su edad: '))>=18 else \" Aún no eres mayor de edad\")"
   ]
  }
 ],
 "metadata": {
  "kernelspec": {
   "display_name": "Python 3",
   "language": "python",
   "name": "python3"
  },
  "language_info": {
   "codemirror_mode": {
    "name": "ipython",
    "version": 3
   },
   "file_extension": ".py",
   "mimetype": "text/x-python",
   "name": "python",
   "nbconvert_exporter": "python",
   "pygments_lexer": "ipython3",
   "version": "3.6.13"
  }
 },
 "nbformat": 4,
 "nbformat_minor": 5
}
