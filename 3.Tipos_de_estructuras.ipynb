{
 "cells": [
  {
   "cell_type": "markdown",
   "id": "da510923",
   "metadata": {},
   "source": [
    "# Módulo"
   ]
  },
  {
   "cell_type": "code",
   "execution_count": 2,
   "id": "301ebf4b",
   "metadata": {},
   "outputs": [
    {
     "data": {
      "text/plain": [
       "3"
      ]
     },
     "execution_count": 2,
     "metadata": {},
     "output_type": "execute_result"
    }
   ],
   "source": [
    "3%216"
   ]
  },
  {
   "cell_type": "markdown",
   "id": "25e8b76f",
   "metadata": {},
   "source": [
    "# Impresiones"
   ]
  },
  {
   "cell_type": "code",
   "execution_count": 3,
   "id": "3ab91f38",
   "metadata": {},
   "outputs": [
    {
     "name": "stdout",
     "output_type": "stream",
     "text": [
      "Hola clase Python Fundamentals\n"
     ]
    }
   ],
   "source": [
    "print('Hola clase Python Fundamentals')"
   ]
  },
  {
   "cell_type": "markdown",
   "id": "259922a4",
   "metadata": {},
   "source": [
    "# Potencia"
   ]
  },
  {
   "cell_type": "code",
   "execution_count": 4,
   "id": "a653cc14",
   "metadata": {},
   "outputs": [
    {
     "data": {
      "text/plain": [
       "16"
      ]
     },
     "execution_count": 4,
     "metadata": {},
     "output_type": "execute_result"
    }
   ],
   "source": [
    "2**4 # potencia de 2 a la 4a"
   ]
  },
  {
   "cell_type": "markdown",
   "id": "a968f65d",
   "metadata": {},
   "source": [
    "# Variables"
   ]
  },
  {
   "cell_type": "code",
   "execution_count": 5,
   "id": "f474e307",
   "metadata": {},
   "outputs": [
    {
     "name": "stdout",
     "output_type": "stream",
     "text": [
      "99\n"
     ]
    }
   ],
   "source": [
    "# Precio total de 3 compras\n",
    "c1=19\n",
    "c2=24\n",
    "c3=56\n",
    "print(c1+c2+c3)"
   ]
  },
  {
   "cell_type": "code",
   "execution_count": 6,
   "id": "297e7a1f",
   "metadata": {},
   "outputs": [
    {
     "name": "stdout",
     "output_type": "stream",
     "text": [
      "99\n"
     ]
    }
   ],
   "source": [
    "# Precio total de 3 compras\n",
    "c1=19\n",
    "c2=24\n",
    "c3=56\n",
    "total=c1+c2+c3\n",
    "print(total)"
   ]
  },
  {
   "cell_type": "markdown",
   "id": "fa9ee444",
   "metadata": {},
   "source": [
    "# Eliminar variables"
   ]
  },
  {
   "cell_type": "code",
   "execution_count": 14,
   "id": "a638d1de",
   "metadata": {},
   "outputs": [],
   "source": [
    "del c3 #eliminar c3"
   ]
  },
  {
   "cell_type": "code",
   "execution_count": 16,
   "id": "04267b3f",
   "metadata": {},
   "outputs": [
    {
     "name": "stdout",
     "output_type": "stream",
     "text": [
      "No existe tal variable\n"
     ]
    }
   ],
   "source": [
    "try:\n",
    "    c3\n",
    "except NameError:\n",
    "    print('No existe tal variable')"
   ]
  },
  {
   "cell_type": "markdown",
   "id": "fcacf31e",
   "metadata": {},
   "source": [
    "# Definir variable global"
   ]
  },
  {
   "cell_type": "code",
   "execution_count": 18,
   "id": "02a6a463",
   "metadata": {},
   "outputs": [],
   "source": [
    "variable1='variable original'\n",
    "def variable_global():\n",
    "    global variable1\n",
    "    variable1='variable global modificada'"
   ]
  },
  {
   "cell_type": "code",
   "execution_count": 19,
   "id": "ef3473ce",
   "metadata": {},
   "outputs": [
    {
     "name": "stdout",
     "output_type": "stream",
     "text": [
      "Antes de llamar a la función\n",
      "variable original\n",
      "Después de imprimir la función\n",
      "variable global modificada\n"
     ]
    }
   ],
   "source": [
    "print('Antes de llamar a la función')\n",
    "print(variable1)\n",
    "variable_global()\n",
    "print('Después de imprimir la función')\n",
    "print(variable1)"
   ]
  },
  {
   "cell_type": "markdown",
   "id": "455a78f0",
   "metadata": {},
   "source": [
    "# Comparaciones"
   ]
  },
  {
   "cell_type": "code",
   "execution_count": 20,
   "id": "1d250496",
   "metadata": {},
   "outputs": [
    {
     "data": {
      "text/plain": [
       "True"
      ]
     },
     "execution_count": 20,
     "metadata": {},
     "output_type": "execute_result"
    }
   ],
   "source": [
    "False==False"
   ]
  },
  {
   "cell_type": "code",
   "execution_count": 21,
   "id": "d3766b35",
   "metadata": {},
   "outputs": [
    {
     "data": {
      "text/plain": [
       "True"
      ]
     },
     "execution_count": 21,
     "metadata": {},
     "output_type": "execute_result"
    }
   ],
   "source": [
    "0==False"
   ]
  },
  {
   "cell_type": "code",
   "execution_count": 22,
   "id": "967936e1",
   "metadata": {},
   "outputs": [
    {
     "data": {
      "text/plain": [
       "0"
      ]
     },
     "execution_count": 22,
     "metadata": {},
     "output_type": "execute_result"
    }
   ],
   "source": [
    "int(False)"
   ]
  },
  {
   "cell_type": "code",
   "execution_count": 23,
   "id": "74349602",
   "metadata": {},
   "outputs": [
    {
     "data": {
      "text/plain": [
       "1"
      ]
     },
     "execution_count": 23,
     "metadata": {},
     "output_type": "execute_result"
    }
   ],
   "source": [
    "int(True)"
   ]
  },
  {
   "cell_type": "code",
   "execution_count": 24,
   "id": "2d9f5cb7",
   "metadata": {},
   "outputs": [
    {
     "data": {
      "text/plain": [
       "False"
      ]
     },
     "execution_count": 24,
     "metadata": {},
     "output_type": "execute_result"
    }
   ],
   "source": [
    "None==False"
   ]
  },
  {
   "cell_type": "markdown",
   "id": "61a3fc84",
   "metadata": {},
   "source": [
    "# Listas"
   ]
  },
  {
   "cell_type": "code",
   "execution_count": 25,
   "id": "e3d5096a",
   "metadata": {},
   "outputs": [
    {
     "data": {
      "text/plain": [
       "['queso', 70, 'pollo', 80]"
      ]
     },
     "execution_count": 25,
     "metadata": {},
     "output_type": "execute_result"
    }
   ],
   "source": [
    "factura=['queso',70,'pollo',80]\n",
    "factura"
   ]
  },
  {
   "cell_type": "code",
   "execution_count": 26,
   "id": "414c7289",
   "metadata": {},
   "outputs": [
    {
     "data": {
      "text/plain": [
       "list"
      ]
     },
     "execution_count": 26,
     "metadata": {},
     "output_type": "execute_result"
    }
   ],
   "source": [
    "type(factura)"
   ]
  },
  {
   "cell_type": "markdown",
   "id": "c9364fc8",
   "metadata": {},
   "source": [
    "Acceder a elementos de una lista por el índice, por defecto el índice inicia en 0 desde la izquierda.\n",
    "El índice negativo inicia en la derecha"
   ]
  },
  {
   "cell_type": "code",
   "execution_count": 29,
   "id": "68ee0f62",
   "metadata": {},
   "outputs": [
    {
     "data": {
      "text/plain": [
       "'queso'"
      ]
     },
     "execution_count": 29,
     "metadata": {},
     "output_type": "execute_result"
    }
   ],
   "source": [
    "factura[0]"
   ]
  },
  {
   "cell_type": "code",
   "execution_count": 30,
   "id": "cad718ec",
   "metadata": {},
   "outputs": [
    {
     "data": {
      "text/plain": [
       "80"
      ]
     },
     "execution_count": 30,
     "metadata": {},
     "output_type": "execute_result"
    }
   ],
   "source": [
    "factura[-1]"
   ]
  },
  {
   "cell_type": "markdown",
   "id": "2f3e4df3",
   "metadata": {},
   "source": [
    "Cambiar elemento de una lista"
   ]
  },
  {
   "cell_type": "code",
   "execution_count": 32,
   "id": "5582e957",
   "metadata": {},
   "outputs": [
    {
     "data": {
      "text/plain": [
       "['papas', 70, 'pollo', 80]"
      ]
     },
     "execution_count": 32,
     "metadata": {},
     "output_type": "execute_result"
    }
   ],
   "source": [
    "factura[0]='papas'\n",
    "factura"
   ]
  },
  {
   "cell_type": "code",
   "execution_count": 33,
   "id": "c638cd58",
   "metadata": {},
   "outputs": [],
   "source": [
    "factura.append(100)"
   ]
  },
  {
   "cell_type": "code",
   "execution_count": 34,
   "id": "a2f433c9",
   "metadata": {},
   "outputs": [],
   "source": [
    "factura.append(100)\n",
    "factura.append(100)"
   ]
  },
  {
   "cell_type": "code",
   "execution_count": 35,
   "id": "01b13104",
   "metadata": {},
   "outputs": [
    {
     "data": {
      "text/plain": [
       "['papas', 70, 'pollo', 80, 100, 100, 100]"
      ]
     },
     "execution_count": 35,
     "metadata": {},
     "output_type": "execute_result"
    }
   ],
   "source": [
    "factura"
   ]
  },
  {
   "cell_type": "code",
   "execution_count": 36,
   "id": "5ae5f207",
   "metadata": {},
   "outputs": [
    {
     "data": {
      "text/plain": [
       "3"
      ]
     },
     "execution_count": 36,
     "metadata": {},
     "output_type": "execute_result"
    }
   ],
   "source": [
    "factura.count(100)"
   ]
  },
  {
   "cell_type": "code",
   "execution_count": 37,
   "id": "d5352d6f",
   "metadata": {},
   "outputs": [
    {
     "data": {
      "text/plain": [
       "['papas', 70, 'pollo', 80, 100, 100, 100, 5, 6]"
      ]
     },
     "execution_count": 37,
     "metadata": {},
     "output_type": "execute_result"
    }
   ],
   "source": [
    "factura.extend(range(5,7))\n",
    "factura"
   ]
  },
  {
   "cell_type": "code",
   "execution_count": 38,
   "id": "6905931d",
   "metadata": {},
   "outputs": [],
   "source": [
    "b=factura.copy()"
   ]
  },
  {
   "cell_type": "code",
   "execution_count": 45,
   "id": "e9c31a1e",
   "metadata": {},
   "outputs": [
    {
     "data": {
      "text/plain": [
       "['papas', 70, 'pollo', 80, 100, 100, 100, 5, 6, [5, 6]]"
      ]
     },
     "execution_count": 45,
     "metadata": {},
     "output_type": "execute_result"
    }
   ],
   "source": [
    "b.append(list(range(5,7)))\n",
    "b"
   ]
  },
  {
   "cell_type": "code",
   "execution_count": 46,
   "id": "2ce5e201",
   "metadata": {},
   "outputs": [
    {
     "data": {
      "text/plain": [
       "4"
      ]
     },
     "execution_count": 46,
     "metadata": {},
     "output_type": "execute_result"
    }
   ],
   "source": [
    "factura.index(100)"
   ]
  },
  {
   "cell_type": "code",
   "execution_count": 47,
   "id": "dd179b40",
   "metadata": {},
   "outputs": [
    {
     "data": {
      "text/plain": [
       "6"
      ]
     },
     "execution_count": 47,
     "metadata": {},
     "output_type": "execute_result"
    }
   ],
   "source": [
    "factura.pop()"
   ]
  },
  {
   "cell_type": "code",
   "execution_count": 48,
   "id": "bfceaf7a",
   "metadata": {},
   "outputs": [],
   "source": [
    "factura.remove('pollo')"
   ]
  },
  {
   "cell_type": "code",
   "execution_count": 50,
   "id": "6ade351e",
   "metadata": {},
   "outputs": [],
   "source": [
    "factura.insert(2,10)"
   ]
  },
  {
   "cell_type": "code",
   "execution_count": 51,
   "id": "8764e86a",
   "metadata": {},
   "outputs": [
    {
     "data": {
      "text/plain": [
       "['papas', 70, 10, 80, 100, 100, 100, 5]"
      ]
     },
     "execution_count": 51,
     "metadata": {},
     "output_type": "execute_result"
    }
   ],
   "source": [
    "factura"
   ]
  },
  {
   "cell_type": "code",
   "execution_count": 52,
   "id": "f9994470",
   "metadata": {},
   "outputs": [],
   "source": [
    "factura.remove(100)"
   ]
  },
  {
   "cell_type": "code",
   "execution_count": 53,
   "id": "4859d337",
   "metadata": {},
   "outputs": [
    {
     "data": {
      "text/plain": [
       "['papas', 70, 10, 80, 100, 100, 5]"
      ]
     },
     "execution_count": 53,
     "metadata": {},
     "output_type": "execute_result"
    }
   ],
   "source": [
    "factura"
   ]
  },
  {
   "cell_type": "code",
   "execution_count": 54,
   "id": "85b12332",
   "metadata": {},
   "outputs": [
    {
     "data": {
      "text/plain": [
       "10"
      ]
     },
     "execution_count": 54,
     "metadata": {},
     "output_type": "execute_result"
    }
   ],
   "source": [
    "factura.pop(2)"
   ]
  },
  {
   "cell_type": "code",
   "execution_count": 55,
   "id": "87d2b861",
   "metadata": {
    "scrolled": true
   },
   "outputs": [
    {
     "data": {
      "text/plain": [
       "['papas', 70, 80, 100, 100, 5]"
      ]
     },
     "execution_count": 55,
     "metadata": {},
     "output_type": "execute_result"
    }
   ],
   "source": [
    "factura"
   ]
  },
  {
   "cell_type": "markdown",
   "id": "300830e5",
   "metadata": {},
   "source": [
    "# Tuplas"
   ]
  },
  {
   "cell_type": "code",
   "execution_count": 1,
   "id": "c7104fe3",
   "metadata": {},
   "outputs": [],
   "source": [
    "tupla=('Python',3.6,True,5)"
   ]
  },
  {
   "cell_type": "code",
   "execution_count": 2,
   "id": "02b169cc",
   "metadata": {},
   "outputs": [
    {
     "name": "stdout",
     "output_type": "stream",
     "text": [
      "Una tupla es inmutable\n"
     ]
    }
   ],
   "source": [
    "try:\n",
    "    tupla.append('Nuevo elemento')\n",
    "except:\n",
    "    print('Una tupla es inmutable')"
   ]
  },
  {
   "cell_type": "markdown",
   "id": "43c460a0",
   "metadata": {},
   "source": [
    "Se convierte a lista, se agrega el elemento y se regresa a tupla"
   ]
  },
  {
   "cell_type": "code",
   "execution_count": 3,
   "id": "152636b9",
   "metadata": {},
   "outputs": [
    {
     "data": {
      "text/plain": [
       "('Python', 3.6, True, 5, 'Nuevo elemento')"
      ]
     },
     "execution_count": 3,
     "metadata": {},
     "output_type": "execute_result"
    }
   ],
   "source": [
    "flag=list(tupla)\n",
    "flag.append('Nuevo elemento')\n",
    "tupla=tuple(flag)\n",
    "tupla"
   ]
  },
  {
   "cell_type": "code",
   "execution_count": 6,
   "id": "ad21675c",
   "metadata": {},
   "outputs": [
    {
     "name": "stdout",
     "output_type": "stream",
     "text": [
      "<class 'tuple'> <class 'list'>\n"
     ]
    }
   ],
   "source": [
    "print(type(tupla),type(flag))"
   ]
  },
  {
   "cell_type": "markdown",
   "id": "ad50eb76",
   "metadata": {},
   "source": [
    "# Diccionarios"
   ]
  },
  {
   "cell_type": "code",
   "execution_count": 14,
   "id": "4f45182b",
   "metadata": {},
   "outputs": [],
   "source": [
    "diccionario1={'reg1':{'Nombre':'Victor','Pelicula':'Nope','Numero':3},\n",
    "             'reg2':{'Nombre':'Carlos','Pelicula':'Avengers','Numero':6},\n",
    "             'reg3':{'Nombre':'Claudia','Pelicula':'Parasitos','Numero':10}}"
   ]
  },
  {
   "cell_type": "code",
   "execution_count": 15,
   "id": "11498ad8",
   "metadata": {},
   "outputs": [
    {
     "data": {
      "text/plain": [
       "dict"
      ]
     },
     "execution_count": 15,
     "metadata": {},
     "output_type": "execute_result"
    }
   ],
   "source": [
    "type(diccionario1)"
   ]
  },
  {
   "cell_type": "code",
   "execution_count": 17,
   "id": "668dac50",
   "metadata": {},
   "outputs": [
    {
     "data": {
      "text/plain": [
       "'Carlos'"
      ]
     },
     "execution_count": 17,
     "metadata": {},
     "output_type": "execute_result"
    }
   ],
   "source": [
    "diccionario1['reg2']['Nombre']"
   ]
  },
  {
   "cell_type": "code",
   "execution_count": 18,
   "id": "d3edb563",
   "metadata": {
    "scrolled": true
   },
   "outputs": [
    {
     "data": {
      "text/plain": [
       "{}"
      ]
     },
     "execution_count": 18,
     "metadata": {},
     "output_type": "execute_result"
    }
   ],
   "source": [
    "diccionario1.clear()\n",
    "diccionario1"
   ]
  },
  {
   "cell_type": "markdown",
   "id": "cb95d061",
   "metadata": {},
   "source": [
    "Crear diccionario a partir de las keys"
   ]
  },
  {
   "cell_type": "code",
   "execution_count": 20,
   "id": "89174c82",
   "metadata": {},
   "outputs": [
    {
     "data": {
      "text/plain": [
       "{'Nombre': None, 'Pelicula': None, 'Numero': None}"
      ]
     },
     "execution_count": 20,
     "metadata": {},
     "output_type": "execute_result"
    }
   ],
   "source": [
    "keys=['Nombre','Pelicula','Numero']\n",
    "diccionario2=dict.fromkeys(keys)\n",
    "diccionario2"
   ]
  },
  {
   "cell_type": "markdown",
   "id": "b12126a4",
   "metadata": {},
   "source": [
    "Crear diccionario con el metodo dict"
   ]
  },
  {
   "cell_type": "code",
   "execution_count": 23,
   "id": "af0b8533",
   "metadata": {},
   "outputs": [
    {
     "data": {
      "text/plain": [
       "{'Windows': 11, 'Core': 'i7', 'Python': 3.6}"
      ]
     },
     "execution_count": 23,
     "metadata": {},
     "output_type": "execute_result"
    }
   ],
   "source": [
    "sistema=dict(Windows=11,Core='i7',Python=3.6)\n",
    "sistema"
   ]
  },
  {
   "cell_type": "code",
   "execution_count": 26,
   "id": "e89de1a2",
   "metadata": {
    "scrolled": true
   },
   "outputs": [
    {
     "data": {
      "text/plain": [
       "[('Windows', 11), ('Core', 'i7'), ('Python', 3.6)]"
      ]
     },
     "execution_count": 26,
     "metadata": {},
     "output_type": "execute_result"
    }
   ],
   "source": [
    "list(sistema.items())"
   ]
  },
  {
   "cell_type": "code",
   "execution_count": 25,
   "id": "e5674157",
   "metadata": {},
   "outputs": [
    {
     "data": {
      "text/plain": [
       "11"
      ]
     },
     "execution_count": 25,
     "metadata": {},
     "output_type": "execute_result"
    }
   ],
   "source": [
    "sistema.get('Windows') # obtener valor desde el key"
   ]
  },
  {
   "cell_type": "code",
   "execution_count": 27,
   "id": "1825f86a",
   "metadata": {},
   "outputs": [
    {
     "data": {
      "text/plain": [
       "['Windows', 'Core', 'Python']"
      ]
     },
     "execution_count": 27,
     "metadata": {},
     "output_type": "execute_result"
    }
   ],
   "source": [
    "list(sistema.keys())"
   ]
  },
  {
   "cell_type": "code",
   "execution_count": 28,
   "id": "9916b444",
   "metadata": {},
   "outputs": [
    {
     "data": {
      "text/plain": [
       "3.6"
      ]
     },
     "execution_count": 28,
     "metadata": {},
     "output_type": "execute_result"
    }
   ],
   "source": [
    "sistema.pop('Python') # eliminar key+valor y obtener valor eliminado"
   ]
  },
  {
   "cell_type": "code",
   "execution_count": 29,
   "id": "d97155fa",
   "metadata": {},
   "outputs": [
    {
     "data": {
      "text/plain": [
       "{'Windows': 11, 'Core': 'i7'}"
      ]
     },
     "execution_count": 29,
     "metadata": {},
     "output_type": "execute_result"
    }
   ],
   "source": [
    "sistema"
   ]
  },
  {
   "cell_type": "markdown",
   "id": "c63d82ef",
   "metadata": {},
   "source": [
    "Metodo update para agregar elementos al diccionario"
   ]
  },
  {
   "cell_type": "code",
   "execution_count": 30,
   "id": "7f764d97",
   "metadata": {},
   "outputs": [
    {
     "data": {
      "text/plain": [
       "{'Windows': 11, 'Core': 'i7', 'Grafica': 'Intelx'}"
      ]
     },
     "execution_count": 30,
     "metadata": {},
     "output_type": "execute_result"
    }
   ],
   "source": [
    "sistema2=dict(Grafica='Intelx')\n",
    "sistema.update(sistema2)\n",
    "sistema"
   ]
  },
  {
   "cell_type": "code",
   "execution_count": 32,
   "id": "ec96c6b3",
   "metadata": {},
   "outputs": [
    {
     "data": {
      "text/plain": [
       "('Grafica', 'Intelx')"
      ]
     },
     "execution_count": 32,
     "metadata": {},
     "output_type": "execute_result"
    }
   ],
   "source": [
    "sistema.popitem()"
   ]
  },
  {
   "cell_type": "code",
   "execution_count": 33,
   "id": "02ad9156",
   "metadata": {},
   "outputs": [
    {
     "data": {
      "text/plain": [
       "{'Windows': 11, 'Core': 'i7'}"
      ]
     },
     "execution_count": 33,
     "metadata": {},
     "output_type": "execute_result"
    }
   ],
   "source": [
    "sistema"
   ]
  },
  {
   "cell_type": "markdown",
   "id": "ceafaaa1",
   "metadata": {},
   "source": [
    "Crear diccionario desde el inicio"
   ]
  },
  {
   "cell_type": "code",
   "execution_count": 34,
   "id": "1c24ae45",
   "metadata": {},
   "outputs": [],
   "source": [
    "diccionario1={'Nombre':'Victor','Pelicula':'Nope','Numero':3}"
   ]
  },
  {
   "cell_type": "markdown",
   "id": "a6d84755",
   "metadata": {},
   "source": [
    "Crear lista con iteraciones"
   ]
  },
  {
   "cell_type": "code",
   "execution_count": 35,
   "id": "6b3eabf1",
   "metadata": {},
   "outputs": [],
   "source": [
    "list1=['M','nom','e','Is']\n",
    "list2=['i','bre','s','aac']"
   ]
  },
  {
   "cell_type": "code",
   "execution_count": 42,
   "id": "f70e36eb",
   "metadata": {},
   "outputs": [
    {
     "data": {
      "text/plain": [
       "'Mi nombre es Isaac'"
      ]
     },
     "execution_count": 42,
     "metadata": {},
     "output_type": "execute_result"
    }
   ],
   "source": [
    "lista3=' '.join([i+j for i,j in zip(list1,list2)])\n",
    "lista3"
   ]
  },
  {
   "cell_type": "markdown",
   "id": "e59b7dec",
   "metadata": {},
   "source": [
    "# Listas anidadas"
   ]
  },
  {
   "cell_type": "code",
   "execution_count": 44,
   "id": "ede3f630",
   "metadata": {},
   "outputs": [
    {
     "data": {
      "text/plain": [
       "[25, [36, 33, 32, [28, 20], 27], [26, 33, 20]]"
      ]
     },
     "execution_count": 44,
     "metadata": {},
     "output_type": "execute_result"
    }
   ],
   "source": [
    "lista_anidada=[25,[36,33,32,[28,20],27],[26,33,20]]\n",
    "lista_anidada"
   ]
  },
  {
   "cell_type": "markdown",
   "id": "acec455b",
   "metadata": {},
   "source": [
    "Acceder al nivel principal"
   ]
  },
  {
   "cell_type": "code",
   "execution_count": 51,
   "id": "1b549f35",
   "metadata": {},
   "outputs": [
    {
     "data": {
      "text/plain": [
       "[36, 33, 32, [28, 20], 27]"
      ]
     },
     "execution_count": 51,
     "metadata": {},
     "output_type": "execute_result"
    }
   ],
   "source": [
    "lista_anidada[1]"
   ]
  },
  {
   "cell_type": "markdown",
   "id": "346f8f06",
   "metadata": {},
   "source": [
    "Acceder a los niveles secundarios"
   ]
  },
  {
   "cell_type": "code",
   "execution_count": 52,
   "id": "3695b1cb",
   "metadata": {},
   "outputs": [
    {
     "data": {
      "text/plain": [
       "[28, 20]"
      ]
     },
     "execution_count": 52,
     "metadata": {},
     "output_type": "execute_result"
    }
   ],
   "source": [
    "lista_anidada[1][3]"
   ]
  },
  {
   "cell_type": "code",
   "execution_count": 53,
   "id": "00f02526",
   "metadata": {},
   "outputs": [
    {
     "data": {
      "text/plain": [
       "20"
      ]
     },
     "execution_count": 53,
     "metadata": {},
     "output_type": "execute_result"
    }
   ],
   "source": [
    "lista_anidada[1][3][1]"
   ]
  },
  {
   "cell_type": "markdown",
   "id": "a2185b72",
   "metadata": {},
   "source": [
    "Añadir elemento a la sublista"
   ]
  },
  {
   "cell_type": "code",
   "execution_count": 54,
   "id": "7ed10583",
   "metadata": {},
   "outputs": [
    {
     "data": {
      "text/plain": [
       "[25, [36, 33, 32, [28, 20, 45], 27], [26, 33, 20]]"
      ]
     },
     "execution_count": 54,
     "metadata": {},
     "output_type": "execute_result"
    }
   ],
   "source": [
    "lista_anidada[1][3].append(45)\n",
    "lista_anidada"
   ]
  },
  {
   "cell_type": "markdown",
   "id": "bdbf4e88",
   "metadata": {},
   "source": [
    "Remover elemento de sublista"
   ]
  },
  {
   "cell_type": "code",
   "execution_count": 55,
   "id": "49712357",
   "metadata": {},
   "outputs": [
    {
     "data": {
      "text/plain": [
       "[25, [36, 33, [28, 20, 45], 27], [26, 33, 20]]"
      ]
     },
     "execution_count": 55,
     "metadata": {},
     "output_type": "execute_result"
    }
   ],
   "source": [
    "lista_anidada[1].remove(32)\n",
    "lista_anidada"
   ]
  },
  {
   "cell_type": "markdown",
   "id": "b2423ee2",
   "metadata": {},
   "source": [
    "# Diccionario anidado"
   ]
  },
  {
   "cell_type": "code",
   "execution_count": 56,
   "id": "c89ca123",
   "metadata": {},
   "outputs": [],
   "source": [
    "diccionario1={\n",
    "        'P1':{'Nombre':'Victor','Pelicula':'Nope','Numero':3},\n",
    "        'P2':{'Nombre':'Carlos','Pelicula':'Avengers','Numero':6},\n",
    "        'P3':{'Nombre':'Claudia','Pelicula':'Parasitos','Numero':10}}"
   ]
  },
  {
   "cell_type": "code",
   "execution_count": 57,
   "id": "2d48cb07",
   "metadata": {},
   "outputs": [
    {
     "data": {
      "text/plain": [
       "'Nope'"
      ]
     },
     "execution_count": 57,
     "metadata": {},
     "output_type": "execute_result"
    }
   ],
   "source": [
    "diccionario1['P1']['Pelicula']"
   ]
  },
  {
   "cell_type": "markdown",
   "id": "c58dd96b",
   "metadata": {},
   "source": [
    "Cambiar elemento de diccinario anidado"
   ]
  },
  {
   "cell_type": "code",
   "execution_count": 58,
   "id": "dc37bb24",
   "metadata": {},
   "outputs": [
    {
     "data": {
      "text/plain": [
       "{'P1': {'Nombre': 'Victor', 'Pelicula': 'Duro de matar', 'Numero': 3},\n",
       " 'P2': {'Nombre': 'Carlos', 'Pelicula': 'Avengers', 'Numero': 6},\n",
       " 'P3': {'Nombre': 'Claudia', 'Pelicula': 'Parasitos', 'Numero': 10}}"
      ]
     },
     "execution_count": 58,
     "metadata": {},
     "output_type": "execute_result"
    }
   ],
   "source": [
    "diccionario1['P1']['Pelicula']='Duro de matar'\n",
    "diccionario1"
   ]
  },
  {
   "cell_type": "markdown",
   "id": "ae8bde24",
   "metadata": {},
   "source": [
    "# Numeros inmutables"
   ]
  },
  {
   "cell_type": "code",
   "execution_count": 59,
   "id": "e000a13d",
   "metadata": {},
   "outputs": [
    {
     "data": {
      "text/plain": [
       "10"
      ]
     },
     "execution_count": 59,
     "metadata": {},
     "output_type": "execute_result"
    }
   ],
   "source": [
    "x5=10\n",
    "x5"
   ]
  },
  {
   "cell_type": "code",
   "execution_count": 60,
   "id": "5e6eedd9",
   "metadata": {},
   "outputs": [
    {
     "name": "stdout",
     "output_type": "stream",
     "text": [
      "Espacio en memoria de x5: 1767354848\n"
     ]
    }
   ],
   "source": [
    "print(f'Espacio en memoria de x5: {id(x5)}')"
   ]
  },
  {
   "cell_type": "code",
   "execution_count": 61,
   "id": "b4a45dd3",
   "metadata": {},
   "outputs": [
    {
     "data": {
      "text/plain": [
       "20"
      ]
     },
     "execution_count": 61,
     "metadata": {},
     "output_type": "execute_result"
    }
   ],
   "source": [
    "x5=20\n",
    "x5"
   ]
  },
  {
   "cell_type": "code",
   "execution_count": 62,
   "id": "ab3523c8",
   "metadata": {},
   "outputs": [
    {
     "name": "stdout",
     "output_type": "stream",
     "text": [
      "Espacio en memoria de x5: 1767355168\n"
     ]
    }
   ],
   "source": [
    "print(f'Espacio en memoria de x5: {id(x5)}')"
   ]
  },
  {
   "cell_type": "markdown",
   "id": "29bc969a",
   "metadata": {},
   "source": [
    "Cambiando entrada a listas"
   ]
  },
  {
   "cell_type": "code",
   "execution_count": 63,
   "id": "5235aeb8",
   "metadata": {},
   "outputs": [
    {
     "data": {
      "text/plain": [
       "[10]"
      ]
     },
     "execution_count": 63,
     "metadata": {},
     "output_type": "execute_result"
    }
   ],
   "source": [
    "x6=[10]\n",
    "x6"
   ]
  },
  {
   "cell_type": "code",
   "execution_count": 64,
   "id": "ecc8128f",
   "metadata": {},
   "outputs": [
    {
     "name": "stdout",
     "output_type": "stream",
     "text": [
      "Espacio en memoria de x6: 2203142276424\n"
     ]
    }
   ],
   "source": [
    "print(f'Espacio en memoria de x6: {id(x6)}')"
   ]
  },
  {
   "cell_type": "code",
   "execution_count": 65,
   "id": "b8298c69",
   "metadata": {},
   "outputs": [
    {
     "data": {
      "text/plain": [
       "[10, 25]"
      ]
     },
     "execution_count": 65,
     "metadata": {},
     "output_type": "execute_result"
    }
   ],
   "source": [
    "x6.append(25)\n",
    "x6"
   ]
  },
  {
   "cell_type": "code",
   "execution_count": 66,
   "id": "09d80ea0",
   "metadata": {},
   "outputs": [
    {
     "name": "stdout",
     "output_type": "stream",
     "text": [
      "Espacio en memoria de x6: 2203142276424\n"
     ]
    }
   ],
   "source": [
    "print(f'Espacio en memoria de x6: {id(x6)}')"
   ]
  }
 ],
 "metadata": {
  "kernelspec": {
   "display_name": "Python 3",
   "language": "python",
   "name": "python3"
  },
  "language_info": {
   "codemirror_mode": {
    "name": "ipython",
    "version": 3
   },
   "file_extension": ".py",
   "mimetype": "text/x-python",
   "name": "python",
   "nbconvert_exporter": "python",
   "pygments_lexer": "ipython3",
   "version": "3.6.13"
  }
 },
 "nbformat": 4,
 "nbformat_minor": 5
}
