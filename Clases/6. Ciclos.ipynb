{
 "cells": [
  {
   "cell_type": "code",
   "execution_count": 1,
   "id": "f92eca18",
   "metadata": {},
   "outputs": [],
   "source": [
    "a=5"
   ]
  },
  {
   "cell_type": "code",
   "execution_count": 2,
   "id": "4c73a4e2",
   "metadata": {},
   "outputs": [
    {
     "name": "stdout",
     "output_type": "stream",
     "text": [
      "No es igual a 3\n"
     ]
    }
   ],
   "source": [
    "if a==3:\n",
    "    a*=3\n",
    "    print(a)\n",
    "else:\n",
    "    print('No es igual a 3')"
   ]
  },
  {
   "cell_type": "code",
   "execution_count": 3,
   "id": "543262c9",
   "metadata": {},
   "outputs": [],
   "source": [
    "a=3"
   ]
  },
  {
   "cell_type": "code",
   "execution_count": 4,
   "id": "5861064d",
   "metadata": {},
   "outputs": [
    {
     "name": "stdout",
     "output_type": "stream",
     "text": [
      "9\n"
     ]
    }
   ],
   "source": [
    "if a==3:\n",
    "    a*=3\n",
    "    print(a)\n",
    "else:\n",
    "    print('No es igual a 3')"
   ]
  },
  {
   "cell_type": "code",
   "execution_count": 7,
   "id": "7d13fcca",
   "metadata": {},
   "outputs": [],
   "source": [
    "a=1"
   ]
  },
  {
   "cell_type": "code",
   "execution_count": 9,
   "id": "bcb9c54f",
   "metadata": {},
   "outputs": [
    {
     "name": "stdout",
     "output_type": "stream",
     "text": [
      "1\n"
     ]
    }
   ],
   "source": [
    "if a==3:\n",
    "    a*=3\n",
    "    print(a)\n",
    "elif a>10:\n",
    "    a%=2\n",
    "    print(a)\n",
    "else:\n",
    "    print(a)"
   ]
  },
  {
   "cell_type": "code",
   "execution_count": 10,
   "id": "e5e82ca7",
   "metadata": {},
   "outputs": [],
   "source": [
    "animal=['leon','perro','gato','tigre','toro','murcielago']"
   ]
  },
  {
   "cell_type": "code",
   "execution_count": 13,
   "id": "ba8aae26",
   "metadata": {},
   "outputs": [
    {
     "name": "stdout",
     "output_type": "stream",
     "text": [
      "El primer animal es leon, su longitud es 4\n"
     ]
    }
   ],
   "source": [
    "print('El primer animal es {0}, su longitud es {1}'.format(animal[0],len(animal[0])))"
   ]
  }
 ],
 "metadata": {
  "kernelspec": {
   "display_name": "Python 3",
   "language": "python",
   "name": "python3"
  },
  "language_info": {
   "codemirror_mode": {
    "name": "ipython",
    "version": 3
   },
   "file_extension": ".py",
   "mimetype": "text/x-python",
   "name": "python",
   "nbconvert_exporter": "python",
   "pygments_lexer": "ipython3",
   "version": "3.6.13"
  }
 },
 "nbformat": 4,
 "nbformat_minor": 5
}
