{
 "cells": [
  {
   "cell_type": "code",
   "execution_count": 1,
   "id": "f92eca18",
   "metadata": {},
   "outputs": [],
   "source": [
    "a=5"
   ]
  },
  {
   "cell_type": "code",
   "execution_count": 2,
   "id": "4c73a4e2",
   "metadata": {},
   "outputs": [
    {
     "name": "stdout",
     "output_type": "stream",
     "text": [
      "No es igual a 3\n"
     ]
    }
   ],
   "source": [
    "if a==3:\n",
    "    a*=3\n",
    "    print(a)\n",
    "else:\n",
    "    print('No es igual a 3')"
   ]
  },
  {
   "cell_type": "code",
   "execution_count": 3,
   "id": "543262c9",
   "metadata": {},
   "outputs": [],
   "source": [
    "a=3"
   ]
  },
  {
   "cell_type": "code",
   "execution_count": 4,
   "id": "5861064d",
   "metadata": {},
   "outputs": [
    {
     "name": "stdout",
     "output_type": "stream",
     "text": [
      "9\n"
     ]
    }
   ],
   "source": [
    "if a==3:\n",
    "    a*=3\n",
    "    print(a)\n",
    "else:\n",
    "    print('No es igual a 3')"
   ]
  },
  {
   "cell_type": "code",
   "execution_count": 7,
   "id": "7d13fcca",
   "metadata": {},
   "outputs": [],
   "source": [
    "a=1"
   ]
  },
  {
   "cell_type": "code",
   "execution_count": 9,
   "id": "bcb9c54f",
   "metadata": {},
   "outputs": [
    {
     "name": "stdout",
     "output_type": "stream",
     "text": [
      "1\n"
     ]
    }
   ],
   "source": [
    "if a==3:\n",
    "    a*=3\n",
    "    print(a)\n",
    "elif a>10:\n",
    "    a%=2\n",
    "    print(a)\n",
    "else:\n",
    "    print(a)"
   ]
  },
  {
   "cell_type": "code",
   "execution_count": 10,
   "id": "e5e82ca7",
   "metadata": {},
   "outputs": [],
   "source": [
    "animal=['leon','perro','gato','tigre','toro','murcielago']"
   ]
  },
  {
   "cell_type": "code",
   "execution_count": 13,
   "id": "ba8aae26",
   "metadata": {},
   "outputs": [
    {
     "name": "stdout",
     "output_type": "stream",
     "text": [
      "El primer animal es leon, su longitud es 4\n"
     ]
    }
   ],
   "source": [
    "print('El primer animal es {0}, su longitud es {1}'.format(animal[0],len(animal[0])))"
   ]
  },
  {
   "cell_type": "markdown",
   "id": "d733dc09",
   "metadata": {},
   "source": [
    "# For"
   ]
  },
  {
   "cell_type": "code",
   "execution_count": 1,
   "id": "fac2a408",
   "metadata": {},
   "outputs": [
    {
     "name": "stdout",
     "output_type": "stream",
     "text": [
      "1\n",
      "2\n",
      "3\n",
      "4\n",
      "5\n",
      "6\n",
      "7\n"
     ]
    }
   ],
   "source": [
    "for i in range(1,8):\n",
    "    print(i)"
   ]
  },
  {
   "cell_type": "code",
   "execution_count": 2,
   "id": "7063c22a",
   "metadata": {},
   "outputs": [
    {
     "name": "stdout",
     "output_type": "stream",
     "text": [
      "La llave es A\n",
      "El valor es 23\n",
      "La llave es B\n",
      "El valor es 45\n",
      "La llave es C\n",
      "El valor es 22\n"
     ]
    }
   ],
   "source": [
    "diccionario={'A':23,'B':45,'C':22}\n",
    "for key,value in diccionario.items():\n",
    "    print(f'La llave es {key}')\n",
    "    print(f'El valor es {value}')"
   ]
  },
  {
   "cell_type": "code",
   "execution_count": 3,
   "id": "63e4d607",
   "metadata": {},
   "outputs": [],
   "source": [
    "numeros=range(1,8)"
   ]
  },
  {
   "cell_type": "code",
   "execution_count": 4,
   "id": "30c103e5",
   "metadata": {},
   "outputs": [
    {
     "name": "stdout",
     "output_type": "stream",
     "text": [
      "1\n",
      "2\n",
      "3\n",
      "4\n"
     ]
    }
   ],
   "source": [
    "for n in numeros:\n",
    "    if n==5:\n",
    "        break\n",
    "    print(n)"
   ]
  },
  {
   "cell_type": "code",
   "execution_count": 5,
   "id": "6f02316d",
   "metadata": {},
   "outputs": [
    {
     "name": "stdout",
     "output_type": "stream",
     "text": [
      "1\n",
      "2\n",
      "3\n",
      "4\n",
      "6\n",
      "7\n"
     ]
    }
   ],
   "source": [
    "for n in numeros:\n",
    "    if n==5:\n",
    "        continue\n",
    "    print(n)"
   ]
  },
  {
   "cell_type": "code",
   "execution_count": 6,
   "id": "e1d07b55",
   "metadata": {},
   "outputs": [
    {
     "name": "stdout",
     "output_type": "stream",
     "text": [
      "No se encontro el numero 30\n"
     ]
    }
   ],
   "source": [
    "for n in numeros:\n",
    "    if n==30:\n",
    "        break\n",
    "else:\n",
    "    print('No se encontro el numero 30')"
   ]
  },
  {
   "cell_type": "markdown",
   "id": "14b9034b",
   "metadata": {},
   "source": [
    "# While"
   ]
  },
  {
   "cell_type": "code",
   "execution_count": 2,
   "id": "46d270ab",
   "metadata": {},
   "outputs": [
    {
     "name": "stdout",
     "output_type": "stream",
     "text": [
      "Escribe un número positivo: -3\n",
      "El numero escrito no es positivo, intente de nuevo\n",
      "Escribe un número positivo: -45\n",
      "El numero escrito no es positivo, intente de nuevo\n",
      "Escribe un número positivo: 3\n",
      "Número positivo, gracias!\n"
     ]
    }
   ],
   "source": [
    "numero=int(input('Escribe un número positivo: '))\n",
    "while numero<0:\n",
    "    print('El numero escrito no es positivo, intente de nuevo')\n",
    "    numero=int(input('Escribe un número positivo: '))\n",
    "print('Número positivo, gracias!')"
   ]
  },
  {
   "cell_type": "code",
   "execution_count": 3,
   "id": "b65e2743",
   "metadata": {},
   "outputs": [
    {
     "name": "stdout",
     "output_type": "stream",
     "text": [
      "Ingrese la nota del estudiante (-1 para salir): \n",
      "1.5\n",
      "Ingrese la nota del estudiante (-1 para salir): 3\n",
      "Ingrese la nota del estudiante (-1 para salir): 6.8\n",
      "Ingrese la nota del estudiante (-1 para salir): 10\n",
      "Ingrese la nota del estudiante (-1 para salir): 7\n",
      "Ingrese la nota del estudiante (-1 para salir): 3\n",
      "Ingrese la nota del estudiante (-1 para salir): 98\n",
      "Ingrese la nota del estudiante (-1 para salir): 89\n",
      "Ingrese la nota del estudiante (-1 para salir): 954\n",
      "Ingrese la nota del estudiante (-1 para salir): 9764\n",
      "Ingrese la nota del estudiante (-1 para salir): -1\n",
      "El promedio de las notas del estudiante es: 1093.6299999999999\n"
     ]
    }
   ],
   "source": [
    "total=0\n",
    "conteo=0\n",
    "print('Ingrese la nota del estudiante (-1 para salir): ')\n",
    "grado=float(input())\n",
    "while grado!=-1:\n",
    "    total=total+grado\n",
    "    conteo=conteo+1\n",
    "    grado=float(input('Ingrese la nota del estudiante (-1 para salir): '))\n",
    "promedio=total/conteo\n",
    "print('El promedio de las notas del estudiante es: '+str(promedio))"
   ]
  }
 ],
 "metadata": {
  "kernelspec": {
   "display_name": "Python 3",
   "language": "python",
   "name": "python3"
  },
  "language_info": {
   "codemirror_mode": {
    "name": "ipython",
    "version": 3
   },
   "file_extension": ".py",
   "mimetype": "text/x-python",
   "name": "python",
   "nbconvert_exporter": "python",
   "pygments_lexer": "ipython3",
   "version": "3.6.13"
  }
 },
 "nbformat": 4,
 "nbformat_minor": 5
}
