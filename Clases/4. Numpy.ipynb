{
 "cells": [
  {
   "cell_type": "markdown",
   "id": "34cb6530",
   "metadata": {},
   "source": [
    "# Instalar librería"
   ]
  },
  {
   "cell_type": "code",
   "execution_count": 10,
   "id": "69cd02c5",
   "metadata": {},
   "outputs": [
    {
     "name": "stdout",
     "output_type": "stream",
     "text": [
      "Requirement already satisfied: numpy in c:\\users\\bmirandaq\\anaconda3\\envs\\python_fundamentals\\lib\\site-packages (1.19.5)\n"
     ]
    }
   ],
   "source": [
    "!pip install numpy"
   ]
  },
  {
   "cell_type": "markdown",
   "id": "6a354f09",
   "metadata": {},
   "source": [
    "# Importar librerias a utilizar en este libro"
   ]
  },
  {
   "cell_type": "code",
   "execution_count": 11,
   "id": "7f0af6ac",
   "metadata": {},
   "outputs": [],
   "source": [
    "import numpy as np"
   ]
  },
  {
   "cell_type": "markdown",
   "id": "77f6be7e",
   "metadata": {},
   "source": [
    "# Crear arreglo/matriz de numpy"
   ]
  },
  {
   "cell_type": "code",
   "execution_count": 12,
   "id": "d0f0cc70",
   "metadata": {},
   "outputs": [
    {
     "data": {
      "text/plain": [
       "array([1, 2, 3])"
      ]
     },
     "execution_count": 12,
     "metadata": {},
     "output_type": "execute_result"
    }
   ],
   "source": [
    "# crear lista\n",
    "lista=list(range(1,4))\n",
    "\n",
    "# crear matriz\n",
    "matriz=np.array(lista)\n",
    "\n",
    "# mostrar matriz\n",
    "matriz"
   ]
  },
  {
   "cell_type": "markdown",
   "id": "9a730433",
   "metadata": {},
   "source": [
    "Mostrar tipo de dato"
   ]
  },
  {
   "cell_type": "code",
   "execution_count": 13,
   "id": "732ae760",
   "metadata": {},
   "outputs": [
    {
     "data": {
      "text/plain": [
       "numpy.ndarray"
      ]
     },
     "execution_count": 13,
     "metadata": {},
     "output_type": "execute_result"
    }
   ],
   "source": [
    "type(matriz)"
   ]
  },
  {
   "cell_type": "markdown",
   "id": "12256449",
   "metadata": {},
   "source": [
    "Dimensión de la matriz"
   ]
  },
  {
   "cell_type": "code",
   "execution_count": 14,
   "id": "d67202f3",
   "metadata": {},
   "outputs": [
    {
     "data": {
      "text/plain": [
       "1"
      ]
     },
     "execution_count": 14,
     "metadata": {},
     "output_type": "execute_result"
    }
   ],
   "source": [
    "matriz.ndim"
   ]
  },
  {
   "cell_type": "markdown",
   "id": "220c60f7",
   "metadata": {},
   "source": [
    "Cantidad de elementos de la matriz"
   ]
  },
  {
   "cell_type": "code",
   "execution_count": 15,
   "id": "880e2fae",
   "metadata": {},
   "outputs": [
    {
     "data": {
      "text/plain": [
       "(3,)"
      ]
     },
     "execution_count": 15,
     "metadata": {},
     "output_type": "execute_result"
    }
   ],
   "source": [
    "matriz.shape"
   ]
  },
  {
   "cell_type": "markdown",
   "id": "3693c33c",
   "metadata": {},
   "source": [
    "Transformar lista con elementos diferentes a matriz"
   ]
  },
  {
   "cell_type": "code",
   "execution_count": 18,
   "id": "548beb4b",
   "metadata": {},
   "outputs": [
    {
     "data": {
      "text/plain": [
       "array(['1.0', 'True', 'a', '3'], dtype='<U32')"
      ]
     },
     "execution_count": 18,
     "metadata": {},
     "output_type": "execute_result"
    }
   ],
   "source": [
    "# lista\n",
    "lista2=[1.0,True,'a',3]\n",
    "\n",
    "# matriz\n",
    "matriz2=np.array(lista2)\n",
    "\n",
    "# mostrar matriz, se observa que diferentes tipos de datos son convertidos a string\n",
    "matriz2"
   ]
  },
  {
   "cell_type": "markdown",
   "id": "045f0181",
   "metadata": {},
   "source": [
    "Impirimir tipo de caracter para verificar los datos"
   ]
  },
  {
   "cell_type": "code",
   "execution_count": 20,
   "id": "25d28de1",
   "metadata": {
    "scrolled": true
   },
   "outputs": [
    {
     "name": "stdout",
     "output_type": "stream",
     "text": [
      "int32\n",
      "<U32\n"
     ]
    }
   ],
   "source": [
    "print(matriz.dtype)\n",
    "print(matriz2.dtype)"
   ]
  },
  {
   "cell_type": "markdown",
   "id": "7eb87fd5",
   "metadata": {},
   "source": [
    "# Otras formas de crear una matriz"
   ]
  },
  {
   "cell_type": "code",
   "execution_count": 21,
   "id": "912f5bbc",
   "metadata": {},
   "outputs": [
    {
     "data": {
      "text/plain": [
       "array([1., 2., 3.])"
      ]
     },
     "execution_count": 21,
     "metadata": {},
     "output_type": "execute_result"
    }
   ],
   "source": [
    "matriz3=np.array([1,2,3],dtype='float')\n",
    "c"
   ]
  },
  {
   "cell_type": "code",
   "execution_count": 22,
   "id": "0c38f1a6",
   "metadata": {
    "scrolled": true
   },
   "outputs": [
    {
     "data": {
      "text/plain": [
       "dtype('float64')"
      ]
     },
     "execution_count": 22,
     "metadata": {},
     "output_type": "execute_result"
    }
   ],
   "source": [
    "matriz3.dtype"
   ]
  },
  {
   "cell_type": "code",
   "execution_count": 23,
   "id": "31be8b56",
   "metadata": {},
   "outputs": [
    {
     "data": {
      "text/plain": [
       "[1, 2, 3, 3, 4, 5]"
      ]
     },
     "execution_count": 23,
     "metadata": {},
     "output_type": "execute_result"
    }
   ],
   "source": [
    "m=list(range(1,4))\n",
    "n=list(range(3,6))\n",
    "m+n"
   ]
  },
  {
   "cell_type": "markdown",
   "id": "366a0249",
   "metadata": {},
   "source": [
    "Operacion suma con matrices"
   ]
  },
  {
   "cell_type": "code",
   "execution_count": 25,
   "id": "f48874fa",
   "metadata": {},
   "outputs": [],
   "source": [
    "matriz_m=np.array(m)\n",
    "matriz_n=np.array(n)"
   ]
  },
  {
   "cell_type": "markdown",
   "id": "219e3f56",
   "metadata": {},
   "source": [
    "Suma de matrices"
   ]
  },
  {
   "cell_type": "code",
   "execution_count": 27,
   "id": "66b3a160",
   "metadata": {},
   "outputs": [
    {
     "data": {
      "text/plain": [
       "array([4, 6, 8])"
      ]
     },
     "execution_count": 27,
     "metadata": {},
     "output_type": "execute_result"
    }
   ],
   "source": [
    "matriz_m+matriz_n"
   ]
  },
  {
   "cell_type": "markdown",
   "id": "09b0dadf",
   "metadata": {},
   "source": [
    "Elevar al cuadrado"
   ]
  },
  {
   "cell_type": "code",
   "execution_count": 28,
   "id": "3fc12dc2",
   "metadata": {},
   "outputs": [
    {
     "data": {
      "text/plain": [
       "array([1, 4, 9], dtype=int32)"
      ]
     },
     "execution_count": 28,
     "metadata": {},
     "output_type": "execute_result"
    }
   ],
   "source": [
    "np.square(matriz_m)"
   ]
  },
  {
   "cell_type": "markdown",
   "id": "8897ac5f",
   "metadata": {},
   "source": [
    "Buscar elementos"
   ]
  },
  {
   "cell_type": "code",
   "execution_count": 29,
   "id": "b863d54b",
   "metadata": {},
   "outputs": [
    {
     "data": {
      "text/plain": [
       "1"
      ]
     },
     "execution_count": 29,
     "metadata": {},
     "output_type": "execute_result"
    }
   ],
   "source": [
    "matriz_m[0]"
   ]
  },
  {
   "cell_type": "code",
   "execution_count": 30,
   "id": "477ab48f",
   "metadata": {},
   "outputs": [
    {
     "data": {
      "text/plain": [
       "3"
      ]
     },
     "execution_count": 30,
     "metadata": {},
     "output_type": "execute_result"
    }
   ],
   "source": [
    "matriz_m[-1]"
   ]
  },
  {
   "cell_type": "code",
   "execution_count": 31,
   "id": "6df39044",
   "metadata": {},
   "outputs": [
    {
     "data": {
      "text/plain": [
       "array([1, 1, 3])"
      ]
     },
     "execution_count": 31,
     "metadata": {},
     "output_type": "execute_result"
    }
   ],
   "source": [
    "matriz_m[1]=True\n",
    "matriz_m"
   ]
  },
  {
   "cell_type": "markdown",
   "id": "ac008087",
   "metadata": {},
   "source": [
    "Añadir tipo de dato distinto"
   ]
  },
  {
   "cell_type": "code",
   "execution_count": 33,
   "id": "de557778",
   "metadata": {},
   "outputs": [
    {
     "name": "stdout",
     "output_type": "stream",
     "text": [
      "La matriz debe tener el mismo tipo de dato\n"
     ]
    }
   ],
   "source": [
    "try:\n",
    "    matriz_m[1]='abc'\n",
    "except ValueError:\n",
    "    print(\"La matriz debe tener el mismo tipo de dato\")"
   ]
  },
  {
   "cell_type": "markdown",
   "id": "b6345ac6",
   "metadata": {},
   "source": [
    "Sumar matrices de longitud distinta"
   ]
  },
  {
   "cell_type": "code",
   "execution_count": 34,
   "id": "88739b91",
   "metadata": {},
   "outputs": [],
   "source": [
    "matriz_o=np.array([6,7,8,9])"
   ]
  },
  {
   "cell_type": "code",
   "execution_count": 35,
   "id": "62575473",
   "metadata": {},
   "outputs": [
    {
     "name": "stdout",
     "output_type": "stream",
     "text": [
      "Matrices de distinta dimension\n"
     ]
    }
   ],
   "source": [
    "try:\n",
    "    matriz_m+matriz_o\n",
    "except ValueError:\n",
    "    print('Matrices de distinta dimension')"
   ]
  },
  {
   "cell_type": "markdown",
   "id": "ed8df8ab",
   "metadata": {},
   "source": [
    "Valor absoluto"
   ]
  },
  {
   "cell_type": "code",
   "execution_count": 36,
   "id": "4a280020",
   "metadata": {},
   "outputs": [
    {
     "name": "stdout",
     "output_type": "stream",
     "text": [
      "Matriz negativos: [-2 -3 -2]\n",
      "Matriz absolutos: [2 3 2]\n"
     ]
    }
   ],
   "source": [
    "matriz_negativos=matriz_m-matriz_n\n",
    "print(f'Matriz negativos: {matriz_negativos}')\n",
    "print(f'Matriz absolutos: {np.absolute(matriz_negativos)}')"
   ]
  },
  {
   "cell_type": "code",
   "execution_count": 38,
   "id": "8a901450",
   "metadata": {},
   "outputs": [
    {
     "name": "stdout",
     "output_type": "stream",
     "text": [
      "Norma de la matriz m: 3.317\n",
      "Norma de la matriz n: 7.071\n"
     ]
    }
   ],
   "source": [
    "norm_m=np.linalg.norm(matriz_m)\n",
    "norm_n=np.linalg.norm(matriz_n)\n",
    "print(f'Norma de la matriz m: {norm_m:.3f}')\n",
    "print(f'Norma de la matriz n: {norm_n:.3f}')"
   ]
  },
  {
   "cell_type": "markdown",
   "id": "249a403f",
   "metadata": {},
   "source": [
    "Maximos y minimos"
   ]
  },
  {
   "cell_type": "code",
   "execution_count": 41,
   "id": "f8e3a1fb",
   "metadata": {},
   "outputs": [
    {
     "name": "stdout",
     "output_type": "stream",
     "text": [
      "Matriz m: [1 1 3]\n",
      "Matriz n: [3 4 5]\n",
      "Norma de la matriz m: 3.317\n",
      "Norma de la matriz n: 7.071\n",
      "Maximo entre la matriz m y n: [3 4 5]\n",
      "Minimo entre la matriz m y n: [1 1 3]\n"
     ]
    }
   ],
   "source": [
    "print(f'Matriz m: {matriz_m}')\n",
    "print(f'Matriz n: {matriz_n}')\n",
    "print(f'Norma de la matriz m: {norm_m:.3f}')\n",
    "print(f'Norma de la matriz n: {norm_n:.3f}')\n",
    "print(f'Maximo entre la matriz m y n: {np.maximum(matriz_m,matriz_n)}')\n",
    "print(f'Minimo entre la matriz m y n: {np.minimum(matriz_m,matriz_n)}')"
   ]
  },
  {
   "cell_type": "code",
   "execution_count": 42,
   "id": "e802045a",
   "metadata": {},
   "outputs": [],
   "source": [
    "desordenada=np.array([5,21,8,2,77,38,-90])"
   ]
  },
  {
   "cell_type": "code",
   "execution_count": 43,
   "id": "17262484",
   "metadata": {},
   "outputs": [],
   "source": [
    "desordenada.sort()"
   ]
  },
  {
   "cell_type": "code",
   "execution_count": 44,
   "id": "adf027c6",
   "metadata": {},
   "outputs": [
    {
     "data": {
      "text/plain": [
       "array([-90,   2,   5,   8,  21,  38,  77])"
      ]
     },
     "execution_count": 44,
     "metadata": {},
     "output_type": "execute_result"
    }
   ],
   "source": [
    "desordenada"
   ]
  },
  {
   "cell_type": "code",
   "execution_count": 45,
   "id": "91b2fbd3",
   "metadata": {},
   "outputs": [],
   "source": [
    "matriz_1=np.array(range(1,6))\n",
    "matriz_2=np.array(range(4,11))"
   ]
  },
  {
   "cell_type": "code",
   "execution_count": 46,
   "id": "b49bc2ec",
   "metadata": {},
   "outputs": [
    {
     "data": {
      "text/plain": [
       "array([1, 2, 3, 4, 5])"
      ]
     },
     "execution_count": 46,
     "metadata": {},
     "output_type": "execute_result"
    }
   ],
   "source": [
    "matriz_1"
   ]
  },
  {
   "cell_type": "code",
   "execution_count": 47,
   "id": "c15b14d2",
   "metadata": {
    "scrolled": true
   },
   "outputs": [
    {
     "data": {
      "text/plain": [
       "array([ 4,  5,  6,  7,  8,  9, 10])"
      ]
     },
     "execution_count": 47,
     "metadata": {},
     "output_type": "execute_result"
    }
   ],
   "source": [
    "matriz_2"
   ]
  },
  {
   "cell_type": "code",
   "execution_count": 51,
   "id": "01d538f2",
   "metadata": {},
   "outputs": [
    {
     "data": {
      "text/plain": [
       "array([ 1,  2,  3,  4,  5,  4,  5,  6,  7,  8,  9, 10])"
      ]
     },
     "execution_count": 51,
     "metadata": {},
     "output_type": "execute_result"
    }
   ],
   "source": [
    "matriz_3=np.append(matriz_1,matriz_2,axis=0)\n",
    "matriz_3"
   ]
  },
  {
   "cell_type": "code",
   "execution_count": 52,
   "id": "3d5a4697",
   "metadata": {},
   "outputs": [
    {
     "data": {
      "text/plain": [
       "array([ 1,  2, 11,  3,  4,  5,  4,  5,  6,  7,  8,  9, 10])"
      ]
     },
     "execution_count": 52,
     "metadata": {},
     "output_type": "execute_result"
    }
   ],
   "source": [
    "np.insert(matriz_3,2,11,axis=0)"
   ]
  }
 ],
 "metadata": {
  "kernelspec": {
   "display_name": "Python 3",
   "language": "python",
   "name": "python3"
  },
  "language_info": {
   "codemirror_mode": {
    "name": "ipython",
    "version": 3
   },
   "file_extension": ".py",
   "mimetype": "text/x-python",
   "name": "python",
   "nbconvert_exporter": "python",
   "pygments_lexer": "ipython3",
   "version": "3.6.13"
  }
 },
 "nbformat": 4,
 "nbformat_minor": 5
}
