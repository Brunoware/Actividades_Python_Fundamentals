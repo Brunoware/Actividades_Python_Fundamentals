{
 "cells": [
  {
   "cell_type": "code",
   "execution_count": 2,
   "id": "143381cb",
   "metadata": {},
   "outputs": [],
   "source": [
    "import pandas as pd\n",
    "import numpy as np"
   ]
  },
  {
   "cell_type": "code",
   "execution_count": 3,
   "id": "7ef5bc53",
   "metadata": {},
   "outputs": [],
   "source": [
    "dict_1={\n",
    "    'Nombre':['Ringo','John','Paul','George','Yoko'],\n",
    "    'Edad':[45,34,42,38,47],\n",
    "    'Salario':[12000,14000,13000,11000,10000],\n",
    "    'Genero':['M','M','M','M','F']\n",
    "}"
   ]
  },
  {
   "cell_type": "code",
   "execution_count": 4,
   "id": "d8844e14",
   "metadata": {},
   "outputs": [
    {
     "data": {
      "text/html": [
       "<div>\n",
       "<style scoped>\n",
       "    .dataframe tbody tr th:only-of-type {\n",
       "        vertical-align: middle;\n",
       "    }\n",
       "\n",
       "    .dataframe tbody tr th {\n",
       "        vertical-align: top;\n",
       "    }\n",
       "\n",
       "    .dataframe thead th {\n",
       "        text-align: right;\n",
       "    }\n",
       "</style>\n",
       "<table border=\"1\" class=\"dataframe\">\n",
       "  <thead>\n",
       "    <tr style=\"text-align: right;\">\n",
       "      <th></th>\n",
       "      <th>Nombre</th>\n",
       "      <th>Edad</th>\n",
       "      <th>Salario</th>\n",
       "      <th>Genero</th>\n",
       "    </tr>\n",
       "  </thead>\n",
       "  <tbody>\n",
       "    <tr>\n",
       "      <th>0</th>\n",
       "      <td>Ringo</td>\n",
       "      <td>45</td>\n",
       "      <td>12000</td>\n",
       "      <td>M</td>\n",
       "    </tr>\n",
       "    <tr>\n",
       "      <th>1</th>\n",
       "      <td>John</td>\n",
       "      <td>34</td>\n",
       "      <td>14000</td>\n",
       "      <td>M</td>\n",
       "    </tr>\n",
       "    <tr>\n",
       "      <th>2</th>\n",
       "      <td>Paul</td>\n",
       "      <td>42</td>\n",
       "      <td>13000</td>\n",
       "      <td>M</td>\n",
       "    </tr>\n",
       "    <tr>\n",
       "      <th>3</th>\n",
       "      <td>George</td>\n",
       "      <td>38</td>\n",
       "      <td>11000</td>\n",
       "      <td>M</td>\n",
       "    </tr>\n",
       "    <tr>\n",
       "      <th>4</th>\n",
       "      <td>Yoko</td>\n",
       "      <td>47</td>\n",
       "      <td>10000</td>\n",
       "      <td>F</td>\n",
       "    </tr>\n",
       "  </tbody>\n",
       "</table>\n",
       "</div>"
      ],
      "text/plain": [
       "   Nombre  Edad  Salario Genero\n",
       "0   Ringo    45    12000      M\n",
       "1    John    34    14000      M\n",
       "2    Paul    42    13000      M\n",
       "3  George    38    11000      M\n",
       "4    Yoko    47    10000      F"
      ]
     },
     "execution_count": 4,
     "metadata": {},
     "output_type": "execute_result"
    }
   ],
   "source": [
    "df=pd.DataFrame(dict_1)\n",
    "df"
   ]
  },
  {
   "cell_type": "code",
   "execution_count": 5,
   "id": "21386e91",
   "metadata": {},
   "outputs": [],
   "source": [
    "df_cat=df.select_dtypes(include=['object','category'])\n",
    "df_num=df.select_dtypes(exclude=['object','category'])"
   ]
  },
  {
   "cell_type": "code",
   "execution_count": 6,
   "id": "01add811",
   "metadata": {
    "scrolled": false
   },
   "outputs": [
    {
     "data": {
      "text/html": [
       "<div>\n",
       "<style scoped>\n",
       "    .dataframe tbody tr th:only-of-type {\n",
       "        vertical-align: middle;\n",
       "    }\n",
       "\n",
       "    .dataframe tbody tr th {\n",
       "        vertical-align: top;\n",
       "    }\n",
       "\n",
       "    .dataframe thead th {\n",
       "        text-align: right;\n",
       "    }\n",
       "</style>\n",
       "<table border=\"1\" class=\"dataframe\">\n",
       "  <thead>\n",
       "    <tr style=\"text-align: right;\">\n",
       "      <th></th>\n",
       "      <th>Edad</th>\n",
       "      <th>Salario</th>\n",
       "      <th>Nombre_John</th>\n",
       "      <th>Nombre_Paul</th>\n",
       "      <th>Nombre_Ringo</th>\n",
       "      <th>Nombre_Yoko</th>\n",
       "      <th>Genero_M</th>\n",
       "    </tr>\n",
       "  </thead>\n",
       "  <tbody>\n",
       "    <tr>\n",
       "      <th>0</th>\n",
       "      <td>0.846154</td>\n",
       "      <td>0.50</td>\n",
       "      <td>0.0</td>\n",
       "      <td>0.0</td>\n",
       "      <td>1.0</td>\n",
       "      <td>0.0</td>\n",
       "      <td>1.0</td>\n",
       "    </tr>\n",
       "    <tr>\n",
       "      <th>1</th>\n",
       "      <td>0.000000</td>\n",
       "      <td>1.00</td>\n",
       "      <td>1.0</td>\n",
       "      <td>0.0</td>\n",
       "      <td>0.0</td>\n",
       "      <td>0.0</td>\n",
       "      <td>1.0</td>\n",
       "    </tr>\n",
       "    <tr>\n",
       "      <th>2</th>\n",
       "      <td>0.615385</td>\n",
       "      <td>0.75</td>\n",
       "      <td>0.0</td>\n",
       "      <td>1.0</td>\n",
       "      <td>0.0</td>\n",
       "      <td>0.0</td>\n",
       "      <td>1.0</td>\n",
       "    </tr>\n",
       "    <tr>\n",
       "      <th>3</th>\n",
       "      <td>0.307692</td>\n",
       "      <td>0.25</td>\n",
       "      <td>0.0</td>\n",
       "      <td>0.0</td>\n",
       "      <td>0.0</td>\n",
       "      <td>0.0</td>\n",
       "      <td>1.0</td>\n",
       "    </tr>\n",
       "    <tr>\n",
       "      <th>4</th>\n",
       "      <td>1.000000</td>\n",
       "      <td>0.00</td>\n",
       "      <td>0.0</td>\n",
       "      <td>0.0</td>\n",
       "      <td>0.0</td>\n",
       "      <td>1.0</td>\n",
       "      <td>0.0</td>\n",
       "    </tr>\n",
       "  </tbody>\n",
       "</table>\n",
       "</div>"
      ],
      "text/plain": [
       "       Edad  Salario  Nombre_John  Nombre_Paul  Nombre_Ringo  Nombre_Yoko  \\\n",
       "0  0.846154     0.50          0.0          0.0           1.0          0.0   \n",
       "1  0.000000     1.00          1.0          0.0           0.0          0.0   \n",
       "2  0.615385     0.75          0.0          1.0           0.0          0.0   \n",
       "3  0.307692     0.25          0.0          0.0           0.0          0.0   \n",
       "4  1.000000     0.00          0.0          0.0           0.0          1.0   \n",
       "\n",
       "   Genero_M  \n",
       "0       1.0  \n",
       "1       1.0  \n",
       "2       1.0  \n",
       "3       1.0  \n",
       "4       0.0  "
      ]
     },
     "execution_count": 6,
     "metadata": {},
     "output_type": "execute_result"
    }
   ],
   "source": [
    "from sklearn.compose import ColumnTransformer\n",
    "from sklearn.preprocessing import MinMaxScaler,OneHotEncoder\n",
    "\n",
    "# definir atributos\n",
    "num_attrib=df_num.columns.tolist()\n",
    "cat_attrib=df_cat.columns.tolist()\n",
    "\n",
    "# definir pipeline\n",
    "full_pipe=ColumnTransformer([('num',MinMaxScaler(),num_attrib),\n",
    "                            ('cat',OneHotEncoder(sparse=False,drop='first'),cat_attrib)])\n",
    "pd.DataFrame(full_pipe.fit_transform(df),columns=num_attrib+pd.get_dummies(df_cat,drop_first=True).columns.tolist())"
   ]
  },
  {
   "cell_type": "markdown",
   "id": "baac2470",
   "metadata": {},
   "source": [
    "Metodos"
   ]
  },
  {
   "cell_type": "code",
   "execution_count": 7,
   "id": "37934356",
   "metadata": {},
   "outputs": [
    {
     "data": {
      "text/html": [
       "<div>\n",
       "<style scoped>\n",
       "    .dataframe tbody tr th:only-of-type {\n",
       "        vertical-align: middle;\n",
       "    }\n",
       "\n",
       "    .dataframe tbody tr th {\n",
       "        vertical-align: top;\n",
       "    }\n",
       "\n",
       "    .dataframe thead th {\n",
       "        text-align: right;\n",
       "    }\n",
       "</style>\n",
       "<table border=\"1\" class=\"dataframe\">\n",
       "  <thead>\n",
       "    <tr style=\"text-align: right;\">\n",
       "      <th></th>\n",
       "      <th>Nombre</th>\n",
       "      <th>Edad</th>\n",
       "      <th>Salario</th>\n",
       "      <th>Genero</th>\n",
       "    </tr>\n",
       "  </thead>\n",
       "  <tbody>\n",
       "    <tr>\n",
       "      <th>count</th>\n",
       "      <td>5</td>\n",
       "      <td>5.000000</td>\n",
       "      <td>5.00000</td>\n",
       "      <td>5</td>\n",
       "    </tr>\n",
       "    <tr>\n",
       "      <th>unique</th>\n",
       "      <td>5</td>\n",
       "      <td>NaN</td>\n",
       "      <td>NaN</td>\n",
       "      <td>2</td>\n",
       "    </tr>\n",
       "    <tr>\n",
       "      <th>top</th>\n",
       "      <td>Ringo</td>\n",
       "      <td>NaN</td>\n",
       "      <td>NaN</td>\n",
       "      <td>M</td>\n",
       "    </tr>\n",
       "    <tr>\n",
       "      <th>freq</th>\n",
       "      <td>1</td>\n",
       "      <td>NaN</td>\n",
       "      <td>NaN</td>\n",
       "      <td>4</td>\n",
       "    </tr>\n",
       "    <tr>\n",
       "      <th>mean</th>\n",
       "      <td>NaN</td>\n",
       "      <td>41.200000</td>\n",
       "      <td>12000.00000</td>\n",
       "      <td>NaN</td>\n",
       "    </tr>\n",
       "    <tr>\n",
       "      <th>std</th>\n",
       "      <td>NaN</td>\n",
       "      <td>5.263079</td>\n",
       "      <td>1581.13883</td>\n",
       "      <td>NaN</td>\n",
       "    </tr>\n",
       "    <tr>\n",
       "      <th>min</th>\n",
       "      <td>NaN</td>\n",
       "      <td>34.000000</td>\n",
       "      <td>10000.00000</td>\n",
       "      <td>NaN</td>\n",
       "    </tr>\n",
       "    <tr>\n",
       "      <th>25%</th>\n",
       "      <td>NaN</td>\n",
       "      <td>38.000000</td>\n",
       "      <td>11000.00000</td>\n",
       "      <td>NaN</td>\n",
       "    </tr>\n",
       "    <tr>\n",
       "      <th>50%</th>\n",
       "      <td>NaN</td>\n",
       "      <td>42.000000</td>\n",
       "      <td>12000.00000</td>\n",
       "      <td>NaN</td>\n",
       "    </tr>\n",
       "    <tr>\n",
       "      <th>75%</th>\n",
       "      <td>NaN</td>\n",
       "      <td>45.000000</td>\n",
       "      <td>13000.00000</td>\n",
       "      <td>NaN</td>\n",
       "    </tr>\n",
       "    <tr>\n",
       "      <th>max</th>\n",
       "      <td>NaN</td>\n",
       "      <td>47.000000</td>\n",
       "      <td>14000.00000</td>\n",
       "      <td>NaN</td>\n",
       "    </tr>\n",
       "  </tbody>\n",
       "</table>\n",
       "</div>"
      ],
      "text/plain": [
       "       Nombre       Edad      Salario Genero\n",
       "count       5   5.000000      5.00000      5\n",
       "unique      5        NaN          NaN      2\n",
       "top     Ringo        NaN          NaN      M\n",
       "freq        1        NaN          NaN      4\n",
       "mean      NaN  41.200000  12000.00000    NaN\n",
       "std       NaN   5.263079   1581.13883    NaN\n",
       "min       NaN  34.000000  10000.00000    NaN\n",
       "25%       NaN  38.000000  11000.00000    NaN\n",
       "50%       NaN  42.000000  12000.00000    NaN\n",
       "75%       NaN  45.000000  13000.00000    NaN\n",
       "max       NaN  47.000000  14000.00000    NaN"
      ]
     },
     "execution_count": 7,
     "metadata": {},
     "output_type": "execute_result"
    }
   ],
   "source": [
    "df.describe(include='all')"
   ]
  },
  {
   "cell_type": "code",
   "execution_count": 8,
   "id": "60143459",
   "metadata": {},
   "outputs": [
    {
     "data": {
      "text/plain": [
       "Edad          5.263079\n",
       "Salario    1581.138830\n",
       "dtype: float64"
      ]
     },
     "execution_count": 8,
     "metadata": {},
     "output_type": "execute_result"
    }
   ],
   "source": [
    "df.std(numeric_only=True)"
   ]
  },
  {
   "cell_type": "code",
   "execution_count": 9,
   "id": "74604711",
   "metadata": {},
   "outputs": [
    {
     "data": {
      "text/plain": [
       "Nombre     RingoJohnPaulGeorgeYoko\n",
       "Edad                           206\n",
       "Salario                      60000\n",
       "Genero                       MMMMF\n",
       "dtype: object"
      ]
     },
     "execution_count": 9,
     "metadata": {},
     "output_type": "execute_result"
    }
   ],
   "source": [
    "df.sum()"
   ]
  },
  {
   "cell_type": "code",
   "execution_count": 10,
   "id": "97a13e2d",
   "metadata": {},
   "outputs": [
    {
     "data": {
      "text/plain": [
       "Edad          42.0\n",
       "Salario    12000.0\n",
       "dtype: float64"
      ]
     },
     "execution_count": 10,
     "metadata": {},
     "output_type": "execute_result"
    }
   ],
   "source": [
    "df.median()"
   ]
  },
  {
   "cell_type": "code",
   "execution_count": 11,
   "id": "48854e72",
   "metadata": {},
   "outputs": [
    {
     "data": {
      "text/plain": [
       "Nombre      Yoko\n",
       "Edad          47\n",
       "Salario    14000\n",
       "Genero         M\n",
       "dtype: object"
      ]
     },
     "execution_count": 11,
     "metadata": {},
     "output_type": "execute_result"
    }
   ],
   "source": [
    "df.max()"
   ]
  },
  {
   "cell_type": "code",
   "execution_count": 12,
   "id": "8be71e1b",
   "metadata": {},
   "outputs": [
    {
     "data": {
      "text/plain": [
       "Nombre     George\n",
       "Edad           34\n",
       "Salario     10000\n",
       "Genero          F\n",
       "dtype: object"
      ]
     },
     "execution_count": 12,
     "metadata": {},
     "output_type": "execute_result"
    }
   ],
   "source": [
    "df.min()"
   ]
  },
  {
   "cell_type": "code",
   "execution_count": 13,
   "id": "f467f818",
   "metadata": {},
   "outputs": [
    {
     "data": {
      "text/html": [
       "<div>\n",
       "<style scoped>\n",
       "    .dataframe tbody tr th:only-of-type {\n",
       "        vertical-align: middle;\n",
       "    }\n",
       "\n",
       "    .dataframe tbody tr th {\n",
       "        vertical-align: top;\n",
       "    }\n",
       "\n",
       "    .dataframe thead th {\n",
       "        text-align: right;\n",
       "    }\n",
       "</style>\n",
       "<table border=\"1\" class=\"dataframe\">\n",
       "  <thead>\n",
       "    <tr style=\"text-align: right;\">\n",
       "      <th></th>\n",
       "      <th>Nombre</th>\n",
       "      <th>Edad</th>\n",
       "      <th>Salario</th>\n",
       "      <th>Genero</th>\n",
       "    </tr>\n",
       "  </thead>\n",
       "  <tbody>\n",
       "    <tr>\n",
       "      <th>1</th>\n",
       "      <td>John</td>\n",
       "      <td>34</td>\n",
       "      <td>14000</td>\n",
       "      <td>M</td>\n",
       "    </tr>\n",
       "  </tbody>\n",
       "</table>\n",
       "</div>"
      ],
      "text/plain": [
       "  Nombre  Edad  Salario Genero\n",
       "1   John    34    14000      M"
      ]
     },
     "execution_count": 13,
     "metadata": {},
     "output_type": "execute_result"
    }
   ],
   "source": [
    "df.loc[df.Edad==df.Edad.min()]"
   ]
  },
  {
   "cell_type": "code",
   "execution_count": 14,
   "id": "77bed1b1",
   "metadata": {},
   "outputs": [
    {
     "data": {
      "text/plain": [
       "0    45\n",
       "1    34\n",
       "2    42\n",
       "3    38\n",
       "4    47\n",
       "Name: Edad, dtype: int64"
      ]
     },
     "execution_count": 14,
     "metadata": {},
     "output_type": "execute_result"
    }
   ],
   "source": [
    "df.Edad.abs()"
   ]
  },
  {
   "cell_type": "code",
   "execution_count": 15,
   "id": "db236175",
   "metadata": {},
   "outputs": [
    {
     "data": {
      "text/plain": [
       "Edad                114768360\n",
       "Salario    432327041775828992\n",
       "dtype: int64"
      ]
     },
     "execution_count": 15,
     "metadata": {},
     "output_type": "execute_result"
    }
   ],
   "source": [
    "df.prod(numeric_only=True)"
   ]
  },
  {
   "cell_type": "code",
   "execution_count": 16,
   "id": "1728768b",
   "metadata": {},
   "outputs": [
    {
     "data": {
      "text/html": [
       "<div>\n",
       "<style scoped>\n",
       "    .dataframe tbody tr th:only-of-type {\n",
       "        vertical-align: middle;\n",
       "    }\n",
       "\n",
       "    .dataframe tbody tr th {\n",
       "        vertical-align: top;\n",
       "    }\n",
       "\n",
       "    .dataframe thead th {\n",
       "        text-align: right;\n",
       "    }\n",
       "</style>\n",
       "<table border=\"1\" class=\"dataframe\">\n",
       "  <thead>\n",
       "    <tr style=\"text-align: right;\">\n",
       "      <th></th>\n",
       "      <th>Nombre</th>\n",
       "      <th>Edad</th>\n",
       "      <th>Salario</th>\n",
       "      <th>Genero</th>\n",
       "    </tr>\n",
       "  </thead>\n",
       "  <tbody>\n",
       "    <tr>\n",
       "      <th>0</th>\n",
       "      <td>Ringo</td>\n",
       "      <td>45</td>\n",
       "      <td>12000</td>\n",
       "      <td>M</td>\n",
       "    </tr>\n",
       "    <tr>\n",
       "      <th>1</th>\n",
       "      <td>RingoJohn</td>\n",
       "      <td>79</td>\n",
       "      <td>26000</td>\n",
       "      <td>MM</td>\n",
       "    </tr>\n",
       "    <tr>\n",
       "      <th>2</th>\n",
       "      <td>RingoJohnPaul</td>\n",
       "      <td>121</td>\n",
       "      <td>39000</td>\n",
       "      <td>MMM</td>\n",
       "    </tr>\n",
       "    <tr>\n",
       "      <th>3</th>\n",
       "      <td>RingoJohnPaulGeorge</td>\n",
       "      <td>159</td>\n",
       "      <td>50000</td>\n",
       "      <td>MMMM</td>\n",
       "    </tr>\n",
       "    <tr>\n",
       "      <th>4</th>\n",
       "      <td>RingoJohnPaulGeorgeYoko</td>\n",
       "      <td>206</td>\n",
       "      <td>60000</td>\n",
       "      <td>MMMMF</td>\n",
       "    </tr>\n",
       "  </tbody>\n",
       "</table>\n",
       "</div>"
      ],
      "text/plain": [
       "                    Nombre  Edad  Salario Genero\n",
       "0                    Ringo    45    12000      M\n",
       "1                RingoJohn    79    26000     MM\n",
       "2            RingoJohnPaul   121    39000    MMM\n",
       "3      RingoJohnPaulGeorge   159    50000   MMMM\n",
       "4  RingoJohnPaulGeorgeYoko   206    60000  MMMMF"
      ]
     },
     "execution_count": 16,
     "metadata": {},
     "output_type": "execute_result"
    }
   ],
   "source": [
    "df.cumsum()"
   ]
  },
  {
   "cell_type": "code",
   "execution_count": 17,
   "id": "64016a86",
   "metadata": {},
   "outputs": [
    {
     "data": {
      "text/plain": [
       "0     45\n",
       "1     79\n",
       "2    121\n",
       "3    159\n",
       "4    206\n",
       "Name: Edad, dtype: int64"
      ]
     },
     "execution_count": 17,
     "metadata": {},
     "output_type": "execute_result"
    }
   ],
   "source": [
    "df.Edad.cumsum()"
   ]
  },
  {
   "cell_type": "code",
   "execution_count": 18,
   "id": "375e694a",
   "metadata": {},
   "outputs": [
    {
     "data": {
      "text/plain": [
       "0           45\n",
       "1         1530\n",
       "2        64260\n",
       "3      2441880\n",
       "4    114768360\n",
       "Name: Edad, dtype: int64"
      ]
     },
     "execution_count": 18,
     "metadata": {},
     "output_type": "execute_result"
    }
   ],
   "source": [
    "df.Edad.cumprod()"
   ]
  },
  {
   "cell_type": "code",
   "execution_count": 19,
   "id": "2b6a2287",
   "metadata": {},
   "outputs": [
    {
     "data": {
      "text/plain": [
       "Nombre     object\n",
       "Edad        int64\n",
       "Salario     int64\n",
       "Genero     object\n",
       "dtype: object"
      ]
     },
     "execution_count": 19,
     "metadata": {},
     "output_type": "execute_result"
    }
   ],
   "source": [
    "df.dtypes"
   ]
  },
  {
   "cell_type": "code",
   "execution_count": 20,
   "id": "c0c68521",
   "metadata": {},
   "outputs": [
    {
     "data": {
      "text/html": [
       "<div>\n",
       "<style scoped>\n",
       "    .dataframe tbody tr th:only-of-type {\n",
       "        vertical-align: middle;\n",
       "    }\n",
       "\n",
       "    .dataframe tbody tr th {\n",
       "        vertical-align: top;\n",
       "    }\n",
       "\n",
       "    .dataframe thead th {\n",
       "        text-align: right;\n",
       "    }\n",
       "</style>\n",
       "<table border=\"1\" class=\"dataframe\">\n",
       "  <thead>\n",
       "    <tr style=\"text-align: right;\">\n",
       "      <th></th>\n",
       "      <th>Genero_F</th>\n",
       "      <th>Genero_M</th>\n",
       "    </tr>\n",
       "  </thead>\n",
       "  <tbody>\n",
       "    <tr>\n",
       "      <th>0</th>\n",
       "      <td>0</td>\n",
       "      <td>1</td>\n",
       "    </tr>\n",
       "    <tr>\n",
       "      <th>1</th>\n",
       "      <td>0</td>\n",
       "      <td>1</td>\n",
       "    </tr>\n",
       "    <tr>\n",
       "      <th>2</th>\n",
       "      <td>0</td>\n",
       "      <td>1</td>\n",
       "    </tr>\n",
       "    <tr>\n",
       "      <th>3</th>\n",
       "      <td>0</td>\n",
       "      <td>1</td>\n",
       "    </tr>\n",
       "    <tr>\n",
       "      <th>4</th>\n",
       "      <td>1</td>\n",
       "      <td>0</td>\n",
       "    </tr>\n",
       "  </tbody>\n",
       "</table>\n",
       "</div>"
      ],
      "text/plain": [
       "   Genero_F  Genero_M\n",
       "0         0         1\n",
       "1         0         1\n",
       "2         0         1\n",
       "3         0         1\n",
       "4         1         0"
      ]
     },
     "execution_count": 20,
     "metadata": {},
     "output_type": "execute_result"
    }
   ],
   "source": [
    "df_dummies=pd.get_dummies(df[['Genero']])\n",
    "df_dummies"
   ]
  },
  {
   "cell_type": "code",
   "execution_count": 21,
   "id": "53192e06",
   "metadata": {},
   "outputs": [
    {
     "data": {
      "text/plain": [
       "Genero_F  Genero_M\n",
       "0         1           4\n",
       "1         0           1\n",
       "dtype: int64"
      ]
     },
     "execution_count": 21,
     "metadata": {},
     "output_type": "execute_result"
    }
   ],
   "source": [
    "df_dummies.value_counts()"
   ]
  },
  {
   "cell_type": "code",
   "execution_count": 22,
   "id": "ba075e2f",
   "metadata": {},
   "outputs": [
    {
     "data": {
      "text/plain": [
       "array([[<AxesSubplot:title={'center':'Edad'}>,\n",
       "        <AxesSubplot:title={'center':'Salario'}>]], dtype=object)"
      ]
     },
     "execution_count": 22,
     "metadata": {},
     "output_type": "execute_result"
    },
    {
     "data": {
      "image/png": "[encoded data removed]",
      "text/plain": [
       "<Figure size 432x288 with 2 Axes>"
      ]
     },
     "metadata": {
      "needs_background": "light"
     },
     "output_type": "display_data"
    }
   ],
   "source": [
    "df.hist()"
   ]
  },
  {
   "cell_type": "code",
   "execution_count": 25,
   "id": "ae25cfb1",
   "metadata": {},
   "outputs": [
    {
     "data": {
      "text/plain": [
       "<AxesSubplot:>"
      ]
     },
     "execution_count": 25,
     "metadata": {},
     "output_type": "execute_result"
    },
    {
     "data": {
      "image/png": "[encoded data removed]",
      "text/plain": [
       "<Figure size 288x288 with 1 Axes>"
      ]
     },
     "metadata": {
      "needs_background": "light"
     },
     "output_type": "display_data"
    }
   ],
   "source": [
    "df.Edad.hist(figsize=(4,4))"
   ]
  },
  {
   "cell_type": "code",
   "execution_count": 23,
   "id": "445fedc7",
   "metadata": {},
   "outputs": [],
   "source": [
    "import matplotlib.pyplot as plt"
   ]
  },
  {
   "cell_type": "code",
   "execution_count": 27,
   "id": "12a37db8",
   "metadata": {},
   "outputs": [
    {
     "data": {
      "text/plain": [
       "<AxesSubplot:>"
      ]
     },
     "execution_count": 27,
     "metadata": {},
     "output_type": "execute_result"
    },
    {
     "data": {
      "image/png": "[encoded data removed]",
      "text/plain": [
       "<Figure size 432x288 with 1 Axes>"
      ]
     },
     "metadata": {
      "needs_background": "light"
     },
     "output_type": "display_data"
    }
   ],
   "source": [
    "df.Salario.plot(kind='bar')"
   ]
  },
  {
   "cell_type": "code",
   "execution_count": 28,
   "id": "0fcb8656",
   "metadata": {},
   "outputs": [
    {
     "data": {
      "text/plain": [
       "<AxesSubplot:>"
      ]
     },
     "execution_count": 28,
     "metadata": {},
     "output_type": "execute_result"
    },
    {
     "data": {
      "image/png": "[encoded data removed]",
      "text/plain": [
       "<Figure size 432x288 with 1 Axes>"
      ]
     },
     "metadata": {
      "needs_background": "light"
     },
     "output_type": "display_data"
    }
   ],
   "source": [
    "df.Salario.plot(kind='barh')"
   ]
  },
  {
   "cell_type": "code",
   "execution_count": 29,
   "id": "ac911f29",
   "metadata": {},
   "outputs": [
    {
     "data": {
      "text/plain": [
       "<AxesSubplot:>"
      ]
     },
     "execution_count": 29,
     "metadata": {},
     "output_type": "execute_result"
    },
    {
     "data": {
      "image/png": "[encoded data removed]",
      "text/plain": [
       "<Figure size 432x288 with 1 Axes>"
      ]
     },
     "metadata": {
      "needs_background": "light"
     },
     "output_type": "display_data"
    }
   ],
   "source": [
    "df.Edad.plot(kind='box')"
   ]
  },
  {
   "cell_type": "code",
   "execution_count": 30,
   "id": "6bc8e4cf",
   "metadata": {},
   "outputs": [
    {
     "data": {
      "text/html": [
       "<div>\n",
       "<style scoped>\n",
       "    .dataframe tbody tr th:only-of-type {\n",
       "        vertical-align: middle;\n",
       "    }\n",
       "\n",
       "    .dataframe tbody tr th {\n",
       "        vertical-align: top;\n",
       "    }\n",
       "\n",
       "    .dataframe thead th {\n",
       "        text-align: right;\n",
       "    }\n",
       "</style>\n",
       "<table border=\"1\" class=\"dataframe\">\n",
       "  <thead>\n",
       "    <tr style=\"text-align: right;\">\n",
       "      <th></th>\n",
       "      <th>Nombre</th>\n",
       "      <th>Edad</th>\n",
       "      <th>Salario</th>\n",
       "      <th>Genero</th>\n",
       "    </tr>\n",
       "  </thead>\n",
       "  <tbody>\n",
       "    <tr>\n",
       "      <th>1</th>\n",
       "      <td>John</td>\n",
       "      <td>34</td>\n",
       "      <td>14000</td>\n",
       "      <td>M</td>\n",
       "    </tr>\n",
       "    <tr>\n",
       "      <th>2</th>\n",
       "      <td>Paul</td>\n",
       "      <td>42</td>\n",
       "      <td>13000</td>\n",
       "      <td>M</td>\n",
       "    </tr>\n",
       "    <tr>\n",
       "      <th>0</th>\n",
       "      <td>Ringo</td>\n",
       "      <td>45</td>\n",
       "      <td>12000</td>\n",
       "      <td>M</td>\n",
       "    </tr>\n",
       "    <tr>\n",
       "      <th>3</th>\n",
       "      <td>George</td>\n",
       "      <td>38</td>\n",
       "      <td>11000</td>\n",
       "      <td>M</td>\n",
       "    </tr>\n",
       "    <tr>\n",
       "      <th>4</th>\n",
       "      <td>Yoko</td>\n",
       "      <td>47</td>\n",
       "      <td>10000</td>\n",
       "      <td>F</td>\n",
       "    </tr>\n",
       "  </tbody>\n",
       "</table>\n",
       "</div>"
      ],
      "text/plain": [
       "   Nombre  Edad  Salario Genero\n",
       "1    John    34    14000      M\n",
       "2    Paul    42    13000      M\n",
       "0   Ringo    45    12000      M\n",
       "3  George    38    11000      M\n",
       "4    Yoko    47    10000      F"
      ]
     },
     "execution_count": 30,
     "metadata": {},
     "output_type": "execute_result"
    }
   ],
   "source": [
    "df_sorted=df.sort_values(by='Salario',ascending=False)\n",
    "df_sorted"
   ]
  },
  {
   "cell_type": "code",
   "execution_count": 31,
   "id": "2872506e",
   "metadata": {},
   "outputs": [
    {
     "data": {
      "text/plain": [
       "<AxesSubplot:>"
      ]
     },
     "execution_count": 31,
     "metadata": {},
     "output_type": "execute_result"
    },
    {
     "data": {
      "image/png": "[encoded data removed]",
      "text/plain": [
       "<Figure size 432x288 with 1 Axes>"
      ]
     },
     "metadata": {
      "needs_background": "light"
     },
     "output_type": "display_data"
    }
   ],
   "source": [
    "df_sorted.Salario.head(3).plot()"
   ]
  },
  {
   "cell_type": "code",
   "execution_count": 65,
   "id": "64cf4080",
   "metadata": {},
   "outputs": [
    {
     "data": {
      "text/html": [
       "<div>\n",
       "<style scoped>\n",
       "    .dataframe tbody tr th:only-of-type {\n",
       "        vertical-align: middle;\n",
       "    }\n",
       "\n",
       "    .dataframe tbody tr th {\n",
       "        vertical-align: top;\n",
       "    }\n",
       "\n",
       "    .dataframe thead th {\n",
       "        text-align: right;\n",
       "    }\n",
       "</style>\n",
       "<table border=\"1\" class=\"dataframe\">\n",
       "  <thead>\n",
       "    <tr style=\"text-align: right;\">\n",
       "      <th></th>\n",
       "      <th>ID</th>\n",
       "      <th>Name</th>\n",
       "      <th>Sex</th>\n",
       "      <th>Age</th>\n",
       "      <th>Height</th>\n",
       "      <th>Weight</th>\n",
       "      <th>Team</th>\n",
       "      <th>NOC</th>\n",
       "      <th>Games</th>\n",
       "      <th>Year</th>\n",
       "      <th>Season</th>\n",
       "      <th>City</th>\n",
       "      <th>Sport</th>\n",
       "      <th>Event</th>\n",
       "      <th>Medal</th>\n",
       "    </tr>\n",
       "  </thead>\n",
       "  <tbody>\n",
       "    <tr>\n",
       "      <th>0</th>\n",
       "      <td>1</td>\n",
       "      <td>A Dijiang</td>\n",
       "      <td>M</td>\n",
       "      <td>24.0</td>\n",
       "      <td>180.0</td>\n",
       "      <td>80.0</td>\n",
       "      <td>China</td>\n",
       "      <td>CHN</td>\n",
       "      <td>1992 Summer</td>\n",
       "      <td>1992</td>\n",
       "      <td>Summer</td>\n",
       "      <td>Barcelona</td>\n",
       "      <td>Basketball</td>\n",
       "      <td>Basketball Men's Basketball</td>\n",
       "      <td>NaN</td>\n",
       "    </tr>\n",
       "    <tr>\n",
       "      <th>1</th>\n",
       "      <td>2</td>\n",
       "      <td>A Lamusi</td>\n",
       "      <td>M</td>\n",
       "      <td>23.0</td>\n",
       "      <td>170.0</td>\n",
       "      <td>60.0</td>\n",
       "      <td>China</td>\n",
       "      <td>CHN</td>\n",
       "      <td>2012 Summer</td>\n",
       "      <td>2012</td>\n",
       "      <td>Summer</td>\n",
       "      <td>London</td>\n",
       "      <td>Judo</td>\n",
       "      <td>Judo Men's Extra-Lightweight</td>\n",
       "      <td>NaN</td>\n",
       "    </tr>\n",
       "    <tr>\n",
       "      <th>2</th>\n",
       "      <td>3</td>\n",
       "      <td>Gunnar Nielsen Aaby</td>\n",
       "      <td>M</td>\n",
       "      <td>24.0</td>\n",
       "      <td>NaN</td>\n",
       "      <td>NaN</td>\n",
       "      <td>Denmark</td>\n",
       "      <td>DEN</td>\n",
       "      <td>1920 Summer</td>\n",
       "      <td>1920</td>\n",
       "      <td>Summer</td>\n",
       "      <td>Antwerpen</td>\n",
       "      <td>Football</td>\n",
       "      <td>Football Men's Football</td>\n",
       "      <td>NaN</td>\n",
       "    </tr>\n",
       "    <tr>\n",
       "      <th>3</th>\n",
       "      <td>4</td>\n",
       "      <td>Edgar Lindenau Aabye</td>\n",
       "      <td>M</td>\n",
       "      <td>34.0</td>\n",
       "      <td>NaN</td>\n",
       "      <td>NaN</td>\n",
       "      <td>Denmark/Sweden</td>\n",
       "      <td>DEN</td>\n",
       "      <td>1900 Summer</td>\n",
       "      <td>1900</td>\n",
       "      <td>Summer</td>\n",
       "      <td>Paris</td>\n",
       "      <td>Tug-Of-War</td>\n",
       "      <td>Tug-Of-War Men's Tug-Of-War</td>\n",
       "      <td>Gold</td>\n",
       "    </tr>\n",
       "    <tr>\n",
       "      <th>4</th>\n",
       "      <td>5</td>\n",
       "      <td>Christine Jacoba Aaftink</td>\n",
       "      <td>F</td>\n",
       "      <td>21.0</td>\n",
       "      <td>185.0</td>\n",
       "      <td>82.0</td>\n",
       "      <td>Netherlands</td>\n",
       "      <td>NED</td>\n",
       "      <td>1988 Winter</td>\n",
       "      <td>1988</td>\n",
       "      <td>Winter</td>\n",
       "      <td>Calgary</td>\n",
       "      <td>Speed Skating</td>\n",
       "      <td>Speed Skating Women's 500 metres</td>\n",
       "      <td>NaN</td>\n",
       "    </tr>\n",
       "  </tbody>\n",
       "</table>\n",
       "</div>"
      ],
      "text/plain": [
       "   ID                      Name Sex   Age  Height  Weight            Team  \\\n",
       "0   1                 A Dijiang   M  24.0   180.0    80.0           China   \n",
       "1   2                  A Lamusi   M  23.0   170.0    60.0           China   \n",
       "2   3       Gunnar Nielsen Aaby   M  24.0     NaN     NaN         Denmark   \n",
       "3   4      Edgar Lindenau Aabye   M  34.0     NaN     NaN  Denmark/Sweden   \n",
       "4   5  Christine Jacoba Aaftink   F  21.0   185.0    82.0     Netherlands   \n",
       "\n",
       "   NOC        Games  Year  Season       City          Sport  \\\n",
       "0  CHN  1992 Summer  1992  Summer  Barcelona     Basketball   \n",
       "1  CHN  2012 Summer  2012  Summer     London           Judo   \n",
       "2  DEN  1920 Summer  1920  Summer  Antwerpen       Football   \n",
       "3  DEN  1900 Summer  1900  Summer      Paris     Tug-Of-War   \n",
       "4  NED  1988 Winter  1988  Winter    Calgary  Speed Skating   \n",
       "\n",
       "                              Event Medal  \n",
       "0       Basketball Men's Basketball   NaN  \n",
       "1      Judo Men's Extra-Lightweight   NaN  \n",
       "2           Football Men's Football   NaN  \n",
       "3       Tug-Of-War Men's Tug-Of-War  Gold  \n",
       "4  Speed Skating Women's 500 metres   NaN  "
      ]
     },
     "execution_count": 65,
     "metadata": {},
     "output_type": "execute_result"
    }
   ],
   "source": [
    "data=pd.read_csv('datasets/athlete_events.csv')\n",
    "data.head()"
   ]
  },
  {
   "cell_type": "code",
   "execution_count": 66,
   "id": "cf90eb71",
   "metadata": {},
   "outputs": [
    {
     "data": {
      "text/html": [
       "<div>\n",
       "<style scoped>\n",
       "    .dataframe tbody tr th:only-of-type {\n",
       "        vertical-align: middle;\n",
       "    }\n",
       "\n",
       "    .dataframe tbody tr th {\n",
       "        vertical-align: top;\n",
       "    }\n",
       "\n",
       "    .dataframe thead th {\n",
       "        text-align: right;\n",
       "    }\n",
       "</style>\n",
       "<table border=\"1\" class=\"dataframe\">\n",
       "  <thead>\n",
       "    <tr style=\"text-align: right;\">\n",
       "      <th></th>\n",
       "      <th>Year</th>\n",
       "      <th>Season</th>\n",
       "      <th>Medal</th>\n",
       "      <th>NOC</th>\n",
       "    </tr>\n",
       "  </thead>\n",
       "  <tbody>\n",
       "    <tr>\n",
       "      <th>0</th>\n",
       "      <td>1992</td>\n",
       "      <td>Summer</td>\n",
       "      <td>NaN</td>\n",
       "      <td>CHN</td>\n",
       "    </tr>\n",
       "    <tr>\n",
       "      <th>1</th>\n",
       "      <td>2012</td>\n",
       "      <td>Summer</td>\n",
       "      <td>NaN</td>\n",
       "      <td>CHN</td>\n",
       "    </tr>\n",
       "    <tr>\n",
       "      <th>2</th>\n",
       "      <td>1920</td>\n",
       "      <td>Summer</td>\n",
       "      <td>NaN</td>\n",
       "      <td>DEN</td>\n",
       "    </tr>\n",
       "    <tr>\n",
       "      <th>3</th>\n",
       "      <td>1900</td>\n",
       "      <td>Summer</td>\n",
       "      <td>Gold</td>\n",
       "      <td>DEN</td>\n",
       "    </tr>\n",
       "    <tr>\n",
       "      <th>4</th>\n",
       "      <td>1988</td>\n",
       "      <td>Winter</td>\n",
       "      <td>NaN</td>\n",
       "      <td>NED</td>\n",
       "    </tr>\n",
       "  </tbody>\n",
       "</table>\n",
       "</div>"
      ],
      "text/plain": [
       "   Year  Season Medal  NOC\n",
       "0  1992  Summer   NaN  CHN\n",
       "1  2012  Summer   NaN  CHN\n",
       "2  1920  Summer   NaN  DEN\n",
       "3  1900  Summer  Gold  DEN\n",
       "4  1988  Winter   NaN  NED"
      ]
     },
     "execution_count": 66,
     "metadata": {},
     "output_type": "execute_result"
    }
   ],
   "source": [
    "ejer_clase=data[['Year','Season','Medal','NOC']]\n",
    "ejer_clase.head()"
   ]
  },
  {
   "cell_type": "code",
   "execution_count": 67,
   "id": "4077b3ac",
   "metadata": {},
   "outputs": [
    {
     "data": {
      "text/html": [
       "<div>\n",
       "<style scoped>\n",
       "    .dataframe tbody tr th:only-of-type {\n",
       "        vertical-align: middle;\n",
       "    }\n",
       "\n",
       "    .dataframe tbody tr th {\n",
       "        vertical-align: top;\n",
       "    }\n",
       "\n",
       "    .dataframe thead th {\n",
       "        text-align: right;\n",
       "    }\n",
       "</style>\n",
       "<table border=\"1\" class=\"dataframe\">\n",
       "  <thead>\n",
       "    <tr style=\"text-align: right;\">\n",
       "      <th></th>\n",
       "      <th>Year</th>\n",
       "      <th>Season</th>\n",
       "      <th>NOC</th>\n",
       "      <th>Medal_Bronze</th>\n",
       "      <th>Medal_Gold</th>\n",
       "      <th>Medal_Silver</th>\n",
       "      <th>Medal</th>\n",
       "    </tr>\n",
       "  </thead>\n",
       "  <tbody>\n",
       "    <tr>\n",
       "      <th>0</th>\n",
       "      <td>1992</td>\n",
       "      <td>Summer</td>\n",
       "      <td>CHN</td>\n",
       "      <td>0</td>\n",
       "      <td>0</td>\n",
       "      <td>0</td>\n",
       "      <td>NaN</td>\n",
       "    </tr>\n",
       "    <tr>\n",
       "      <th>1</th>\n",
       "      <td>2012</td>\n",
       "      <td>Summer</td>\n",
       "      <td>CHN</td>\n",
       "      <td>0</td>\n",
       "      <td>0</td>\n",
       "      <td>0</td>\n",
       "      <td>NaN</td>\n",
       "    </tr>\n",
       "    <tr>\n",
       "      <th>2</th>\n",
       "      <td>1920</td>\n",
       "      <td>Summer</td>\n",
       "      <td>DEN</td>\n",
       "      <td>0</td>\n",
       "      <td>0</td>\n",
       "      <td>0</td>\n",
       "      <td>NaN</td>\n",
       "    </tr>\n",
       "    <tr>\n",
       "      <th>3</th>\n",
       "      <td>1900</td>\n",
       "      <td>Summer</td>\n",
       "      <td>DEN</td>\n",
       "      <td>0</td>\n",
       "      <td>1</td>\n",
       "      <td>0</td>\n",
       "      <td>Gold</td>\n",
       "    </tr>\n",
       "    <tr>\n",
       "      <th>4</th>\n",
       "      <td>1988</td>\n",
       "      <td>Winter</td>\n",
       "      <td>NED</td>\n",
       "      <td>0</td>\n",
       "      <td>0</td>\n",
       "      <td>0</td>\n",
       "      <td>NaN</td>\n",
       "    </tr>\n",
       "  </tbody>\n",
       "</table>\n",
       "</div>"
      ],
      "text/plain": [
       "   Year  Season  NOC  Medal_Bronze  Medal_Gold  Medal_Silver Medal\n",
       "0  1992  Summer  CHN             0           0             0   NaN\n",
       "1  2012  Summer  CHN             0           0             0   NaN\n",
       "2  1920  Summer  DEN             0           0             0   NaN\n",
       "3  1900  Summer  DEN             0           1             0  Gold\n",
       "4  1988  Winter  NED             0           0             0   NaN"
      ]
     },
     "execution_count": 67,
     "metadata": {},
     "output_type": "execute_result"
    }
   ],
   "source": [
    "df_dummies=pd.get_dummies(ejer_clase,columns=['Medal'])\n",
    "df_dummies['Medal']=ejer_clase['Medal']\n",
    "df_dummies.head()"
   ]
  },
  {
   "cell_type": "code",
   "execution_count": 68,
   "id": "1b2ccf06",
   "metadata": {},
   "outputs": [
    {
     "data": {
      "text/html": [
       "<div>\n",
       "<style scoped>\n",
       "    .dataframe tbody tr th:only-of-type {\n",
       "        vertical-align: middle;\n",
       "    }\n",
       "\n",
       "    .dataframe tbody tr th {\n",
       "        vertical-align: top;\n",
       "    }\n",
       "\n",
       "    .dataframe thead th {\n",
       "        text-align: right;\n",
       "    }\n",
       "</style>\n",
       "<table border=\"1\" class=\"dataframe\">\n",
       "  <thead>\n",
       "    <tr style=\"text-align: right;\">\n",
       "      <th></th>\n",
       "      <th></th>\n",
       "      <th></th>\n",
       "      <th>Medal_Bronze</th>\n",
       "      <th>Medal_Gold</th>\n",
       "      <th>Medal_Silver</th>\n",
       "    </tr>\n",
       "    <tr>\n",
       "      <th>Year</th>\n",
       "      <th>Medal</th>\n",
       "      <th>Season</th>\n",
       "      <th></th>\n",
       "      <th></th>\n",
       "      <th></th>\n",
       "    </tr>\n",
       "  </thead>\n",
       "  <tbody>\n",
       "    <tr>\n",
       "      <th rowspan=\"3\" valign=\"top\">1896</th>\n",
       "      <th>Bronze</th>\n",
       "      <th>Summer</th>\n",
       "      <td>38.0</td>\n",
       "      <td>0.0</td>\n",
       "      <td>0.0</td>\n",
       "    </tr>\n",
       "    <tr>\n",
       "      <th>Gold</th>\n",
       "      <th>Summer</th>\n",
       "      <td>0.0</td>\n",
       "      <td>62.0</td>\n",
       "      <td>0.0</td>\n",
       "    </tr>\n",
       "    <tr>\n",
       "      <th>Silver</th>\n",
       "      <th>Summer</th>\n",
       "      <td>0.0</td>\n",
       "      <td>0.0</td>\n",
       "      <td>43.0</td>\n",
       "    </tr>\n",
       "    <tr>\n",
       "      <th rowspan=\"3\" valign=\"top\">1900</th>\n",
       "      <th>Bronze</th>\n",
       "      <th>Summer</th>\n",
       "      <td>175.0</td>\n",
       "      <td>0.0</td>\n",
       "      <td>0.0</td>\n",
       "    </tr>\n",
       "    <tr>\n",
       "      <th>Gold</th>\n",
       "      <th>Summer</th>\n",
       "      <td>0.0</td>\n",
       "      <td>201.0</td>\n",
       "      <td>0.0</td>\n",
       "    </tr>\n",
       "    <tr>\n",
       "      <th>Silver</th>\n",
       "      <th>Summer</th>\n",
       "      <td>0.0</td>\n",
       "      <td>0.0</td>\n",
       "      <td>228.0</td>\n",
       "    </tr>\n",
       "    <tr>\n",
       "      <th rowspan=\"2\" valign=\"top\">1904</th>\n",
       "      <th>Bronze</th>\n",
       "      <th>Summer</th>\n",
       "      <td>150.0</td>\n",
       "      <td>0.0</td>\n",
       "      <td>0.0</td>\n",
       "    </tr>\n",
       "    <tr>\n",
       "      <th>Gold</th>\n",
       "      <th>Summer</th>\n",
       "      <td>0.0</td>\n",
       "      <td>173.0</td>\n",
       "      <td>0.0</td>\n",
       "    </tr>\n",
       "  </tbody>\n",
       "</table>\n",
       "</div>"
      ],
      "text/plain": [
       "                    Medal_Bronze  Medal_Gold  Medal_Silver\n",
       "Year Medal  Season                                        \n",
       "1896 Bronze Summer          38.0         0.0           0.0\n",
       "     Gold   Summer           0.0        62.0           0.0\n",
       "     Silver Summer           0.0         0.0          43.0\n",
       "1900 Bronze Summer         175.0         0.0           0.0\n",
       "     Gold   Summer           0.0       201.0           0.0\n",
       "     Silver Summer           0.0         0.0         228.0\n",
       "1904 Bronze Summer         150.0         0.0           0.0\n",
       "     Gold   Summer           0.0       173.0           0.0"
      ]
     },
     "execution_count": 68,
     "metadata": {},
     "output_type": "execute_result"
    }
   ],
   "source": [
    "agrupado=df_dummies.groupby(['Year','Medal','Season']).sum()\n",
    "agrupado.head(8)"
   ]
  },
  {
   "cell_type": "code",
   "execution_count": 69,
   "id": "6218415a",
   "metadata": {},
   "outputs": [
    {
     "data": {
      "text/html": [
       "<style  type=\"text/css\" >\n",
       "#T_4cf4d8c6_3439_11ed_a38d_28dfebd13a57row0_col0,#T_4cf4d8c6_3439_11ed_a38d_28dfebd13a57row1_col1,#T_4cf4d8c6_3439_11ed_a38d_28dfebd13a57row2_col2{\n",
       "            background-color:  #b40426;\n",
       "            color:  #f1f1f1;\n",
       "        }#T_4cf4d8c6_3439_11ed_a38d_28dfebd13a57row0_col1,#T_4cf4d8c6_3439_11ed_a38d_28dfebd13a57row0_col2{\n",
       "            background-color:  #3c4ec2;\n",
       "            color:  #f1f1f1;\n",
       "        }#T_4cf4d8c6_3439_11ed_a38d_28dfebd13a57row1_col0,#T_4cf4d8c6_3439_11ed_a38d_28dfebd13a57row1_col2,#T_4cf4d8c6_3439_11ed_a38d_28dfebd13a57row2_col0,#T_4cf4d8c6_3439_11ed_a38d_28dfebd13a57row2_col1{\n",
       "            background-color:  #3b4cc0;\n",
       "            color:  #f1f1f1;\n",
       "        }</style><table id=\"T_4cf4d8c6_3439_11ed_a38d_28dfebd13a57\" ><thead>    <tr>        <th class=\"blank level0\" ></th>        <th class=\"col_heading level0 col0\" >Medal_Bronze</th>        <th class=\"col_heading level0 col1\" >Medal_Gold</th>        <th class=\"col_heading level0 col2\" >Medal_Silver</th>    </tr></thead><tbody>\n",
       "                <tr>\n",
       "                        <th id=\"T_4cf4d8c6_3439_11ed_a38d_28dfebd13a57level0_row0\" class=\"row_heading level0 row0\" >Medal_Bronze</th>\n",
       "                        <td id=\"T_4cf4d8c6_3439_11ed_a38d_28dfebd13a57row0_col0\" class=\"data row0 col0\" >1.000000</td>\n",
       "                        <td id=\"T_4cf4d8c6_3439_11ed_a38d_28dfebd13a57row0_col1\" class=\"data row0 col1\" >-0.258015</td>\n",
       "                        <td id=\"T_4cf4d8c6_3439_11ed_a38d_28dfebd13a57row0_col2\" class=\"data row0 col2\" >-0.257368</td>\n",
       "            </tr>\n",
       "            <tr>\n",
       "                        <th id=\"T_4cf4d8c6_3439_11ed_a38d_28dfebd13a57level0_row1\" class=\"row_heading level0 row1\" >Medal_Gold</th>\n",
       "                        <td id=\"T_4cf4d8c6_3439_11ed_a38d_28dfebd13a57row1_col0\" class=\"data row1 col0\" >-0.258015</td>\n",
       "                        <td id=\"T_4cf4d8c6_3439_11ed_a38d_28dfebd13a57row1_col1\" class=\"data row1 col1\" >1.000000</td>\n",
       "                        <td id=\"T_4cf4d8c6_3439_11ed_a38d_28dfebd13a57row1_col2\" class=\"data row1 col2\" >-0.263463</td>\n",
       "            </tr>\n",
       "            <tr>\n",
       "                        <th id=\"T_4cf4d8c6_3439_11ed_a38d_28dfebd13a57level0_row2\" class=\"row_heading level0 row2\" >Medal_Silver</th>\n",
       "                        <td id=\"T_4cf4d8c6_3439_11ed_a38d_28dfebd13a57row2_col0\" class=\"data row2 col0\" >-0.257368</td>\n",
       "                        <td id=\"T_4cf4d8c6_3439_11ed_a38d_28dfebd13a57row2_col1\" class=\"data row2 col1\" >-0.263463</td>\n",
       "                        <td id=\"T_4cf4d8c6_3439_11ed_a38d_28dfebd13a57row2_col2\" class=\"data row2 col2\" >1.000000</td>\n",
       "            </tr>\n",
       "    </tbody></table>"
      ],
      "text/plain": [
       "<pandas.io.formats.style.Styler at 0x203282064a8>"
      ]
     },
     "execution_count": 69,
     "metadata": {},
     "output_type": "execute_result"
    }
   ],
   "source": [
    "import seaborn as sns\n",
    "pearson=agrupado.corr()\n",
    "pearson.style.background_gradient(cmap='coolwarm')"
   ]
  },
  {
   "cell_type": "code",
   "execution_count": 70,
   "id": "a6a84742",
   "metadata": {},
   "outputs": [
    {
     "data": {
      "image/png": "[encoded data removed]",
      "text/plain": [
       "<Figure size 432x288 with 2 Axes>"
      ]
     },
     "metadata": {
      "needs_background": "light"
     },
     "output_type": "display_data"
    }
   ],
   "source": [
    "import seaborn as sns\n",
    "pearson=agrupado.corr()\n",
    "sns.heatmap(pearson,annot=True,cmap='Spectral')\n",
    "plt.show()"
   ]
  },
  {
   "cell_type": "code",
   "execution_count": 71,
   "id": "857d013d",
   "metadata": {},
   "outputs": [
    {
     "data": {
      "text/html": [
       "<style  type=\"text/css\" >\n",
       "#T_4ee4c670_3439_11ed_97ab_28dfebd13a57row0_col0,#T_4ee4c670_3439_11ed_97ab_28dfebd13a57row1_col1,#T_4ee4c670_3439_11ed_97ab_28dfebd13a57row2_col2,#T_4ee4c670_3439_11ed_97ab_28dfebd13a57row3_col3,#T_4ee4c670_3439_11ed_97ab_28dfebd13a57row4_col4{\n",
       "            background-color:  #b40426;\n",
       "            color:  #f1f1f1;\n",
       "        }#T_4ee4c670_3439_11ed_97ab_28dfebd13a57row0_col1{\n",
       "            background-color:  #5977e3;\n",
       "            color:  #000000;\n",
       "        }#T_4ee4c670_3439_11ed_97ab_28dfebd13a57row0_col2,#T_4ee4c670_3439_11ed_97ab_28dfebd13a57row0_col3,#T_4ee4c670_3439_11ed_97ab_28dfebd13a57row1_col4,#T_4ee4c670_3439_11ed_97ab_28dfebd13a57row2_col0,#T_4ee4c670_3439_11ed_97ab_28dfebd13a57row3_col0,#T_4ee4c670_3439_11ed_97ab_28dfebd13a57row4_col1{\n",
       "            background-color:  #3b4cc0;\n",
       "            color:  #f1f1f1;\n",
       "        }#T_4ee4c670_3439_11ed_97ab_28dfebd13a57row0_col4{\n",
       "            background-color:  #5e7de7;\n",
       "            color:  #000000;\n",
       "        }#T_4ee4c670_3439_11ed_97ab_28dfebd13a57row1_col0{\n",
       "            background-color:  #3c4ec2;\n",
       "            color:  #f1f1f1;\n",
       "        }#T_4ee4c670_3439_11ed_97ab_28dfebd13a57row1_col2,#T_4ee4c670_3439_11ed_97ab_28dfebd13a57row2_col4{\n",
       "            background-color:  #688aef;\n",
       "            color:  #000000;\n",
       "        }#T_4ee4c670_3439_11ed_97ab_28dfebd13a57row1_col3{\n",
       "            background-color:  #82a6fb;\n",
       "            color:  #000000;\n",
       "        }#T_4ee4c670_3439_11ed_97ab_28dfebd13a57row2_col1{\n",
       "            background-color:  #85a8fc;\n",
       "            color:  #000000;\n",
       "        }#T_4ee4c670_3439_11ed_97ab_28dfebd13a57row2_col3,#T_4ee4c670_3439_11ed_97ab_28dfebd13a57row3_col2{\n",
       "            background-color:  #ee8468;\n",
       "            color:  #000000;\n",
       "        }#T_4ee4c670_3439_11ed_97ab_28dfebd13a57row3_col1{\n",
       "            background-color:  #9dbdff;\n",
       "            color:  #000000;\n",
       "        }#T_4ee4c670_3439_11ed_97ab_28dfebd13a57row3_col4{\n",
       "            background-color:  #5f7fe8;\n",
       "            color:  #000000;\n",
       "        }#T_4ee4c670_3439_11ed_97ab_28dfebd13a57row4_col0{\n",
       "            background-color:  #4055c8;\n",
       "            color:  #f1f1f1;\n",
       "        }#T_4ee4c670_3439_11ed_97ab_28dfebd13a57row4_col2{\n",
       "            background-color:  #4b64d5;\n",
       "            color:  #f1f1f1;\n",
       "        }#T_4ee4c670_3439_11ed_97ab_28dfebd13a57row4_col3{\n",
       "            background-color:  #4358cb;\n",
       "            color:  #f1f1f1;\n",
       "        }</style><table id=\"T_4ee4c670_3439_11ed_97ab_28dfebd13a57\" ><thead>    <tr>        <th class=\"blank level0\" ></th>        <th class=\"col_heading level0 col0\" >ID</th>        <th class=\"col_heading level0 col1\" >Age</th>        <th class=\"col_heading level0 col2\" >Height</th>        <th class=\"col_heading level0 col3\" >Weight</th>        <th class=\"col_heading level0 col4\" >Year</th>    </tr></thead><tbody>\n",
       "                <tr>\n",
       "                        <th id=\"T_4ee4c670_3439_11ed_97ab_28dfebd13a57level0_row0\" class=\"row_heading level0 row0\" >ID</th>\n",
       "                        <td id=\"T_4ee4c670_3439_11ed_97ab_28dfebd13a57row0_col0\" class=\"data row0 col0\" >1.000000</td>\n",
       "                        <td id=\"T_4ee4c670_3439_11ed_97ab_28dfebd13a57row0_col1\" class=\"data row0 col1\" >-0.003631</td>\n",
       "                        <td id=\"T_4ee4c670_3439_11ed_97ab_28dfebd13a57row0_col2\" class=\"data row0 col2\" >-0.011141</td>\n",
       "                        <td id=\"T_4ee4c670_3439_11ed_97ab_28dfebd13a57row0_col3\" class=\"data row0 col3\" >-0.009176</td>\n",
       "                        <td id=\"T_4ee4c670_3439_11ed_97ab_28dfebd13a57row0_col4\" class=\"data row0 col4\" >0.011885</td>\n",
       "            </tr>\n",
       "            <tr>\n",
       "                        <th id=\"T_4ee4c670_3439_11ed_97ab_28dfebd13a57level0_row1\" class=\"row_heading level0 row1\" >Age</th>\n",
       "                        <td id=\"T_4ee4c670_3439_11ed_97ab_28dfebd13a57row1_col0\" class=\"data row1 col0\" >-0.003631</td>\n",
       "                        <td id=\"T_4ee4c670_3439_11ed_97ab_28dfebd13a57row1_col1\" class=\"data row1 col1\" >1.000000</td>\n",
       "                        <td id=\"T_4ee4c670_3439_11ed_97ab_28dfebd13a57row1_col2\" class=\"data row1 col2\" >0.138246</td>\n",
       "                        <td id=\"T_4ee4c670_3439_11ed_97ab_28dfebd13a57row1_col3\" class=\"data row1 col3\" >0.212069</td>\n",
       "                        <td id=\"T_4ee4c670_3439_11ed_97ab_28dfebd13a57row1_col4\" class=\"data row1 col4\" >-0.115137</td>\n",
       "            </tr>\n",
       "            <tr>\n",
       "                        <th id=\"T_4ee4c670_3439_11ed_97ab_28dfebd13a57level0_row2\" class=\"row_heading level0 row2\" >Height</th>\n",
       "                        <td id=\"T_4ee4c670_3439_11ed_97ab_28dfebd13a57row2_col0\" class=\"data row2 col0\" >-0.011141</td>\n",
       "                        <td id=\"T_4ee4c670_3439_11ed_97ab_28dfebd13a57row2_col1\" class=\"data row2 col1\" >0.138246</td>\n",
       "                        <td id=\"T_4ee4c670_3439_11ed_97ab_28dfebd13a57row2_col2\" class=\"data row2 col2\" >1.000000</td>\n",
       "                        <td id=\"T_4ee4c670_3439_11ed_97ab_28dfebd13a57row2_col3\" class=\"data row2 col3\" >0.796213</td>\n",
       "                        <td id=\"T_4ee4c670_3439_11ed_97ab_28dfebd13a57row2_col4\" class=\"data row2 col4\" >0.047578</td>\n",
       "            </tr>\n",
       "            <tr>\n",
       "                        <th id=\"T_4ee4c670_3439_11ed_97ab_28dfebd13a57level0_row3\" class=\"row_heading level0 row3\" >Weight</th>\n",
       "                        <td id=\"T_4ee4c670_3439_11ed_97ab_28dfebd13a57row3_col0\" class=\"data row3 col0\" >-0.009176</td>\n",
       "                        <td id=\"T_4ee4c670_3439_11ed_97ab_28dfebd13a57row3_col1\" class=\"data row3 col1\" >0.212069</td>\n",
       "                        <td id=\"T_4ee4c670_3439_11ed_97ab_28dfebd13a57row3_col2\" class=\"data row3 col2\" >0.796213</td>\n",
       "                        <td id=\"T_4ee4c670_3439_11ed_97ab_28dfebd13a57row3_col3\" class=\"data row3 col3\" >1.000000</td>\n",
       "                        <td id=\"T_4ee4c670_3439_11ed_97ab_28dfebd13a57row3_col4\" class=\"data row3 col4\" >0.019095</td>\n",
       "            </tr>\n",
       "            <tr>\n",
       "                        <th id=\"T_4ee4c670_3439_11ed_97ab_28dfebd13a57level0_row4\" class=\"row_heading level0 row4\" >Year</th>\n",
       "                        <td id=\"T_4ee4c670_3439_11ed_97ab_28dfebd13a57row4_col0\" class=\"data row4 col0\" >0.011885</td>\n",
       "                        <td id=\"T_4ee4c670_3439_11ed_97ab_28dfebd13a57row4_col1\" class=\"data row4 col1\" >-0.115137</td>\n",
       "                        <td id=\"T_4ee4c670_3439_11ed_97ab_28dfebd13a57row4_col2\" class=\"data row4 col2\" >0.047578</td>\n",
       "                        <td id=\"T_4ee4c670_3439_11ed_97ab_28dfebd13a57row4_col3\" class=\"data row4 col3\" >0.019095</td>\n",
       "                        <td id=\"T_4ee4c670_3439_11ed_97ab_28dfebd13a57row4_col4\" class=\"data row4 col4\" >1.000000</td>\n",
       "            </tr>\n",
       "    </tbody></table>"
      ],
      "text/plain": [
       "<pandas.io.formats.style.Styler at 0x20327170208>"
      ]
     },
     "execution_count": 71,
     "metadata": {},
     "output_type": "execute_result"
    }
   ],
   "source": [
    "pearson=data.corr()\n",
    "pearson.style.background_gradient(cmap='coolwarm')"
   ]
  },
  {
   "cell_type": "code",
   "execution_count": 72,
   "id": "06678bdf",
   "metadata": {
    "scrolled": true
   },
   "outputs": [
    {
     "data": {
      "text/html": [
       "<div>\n",
       "<style scoped>\n",
       "    .dataframe tbody tr th:only-of-type {\n",
       "        vertical-align: middle;\n",
       "    }\n",
       "\n",
       "    .dataframe tbody tr th {\n",
       "        vertical-align: top;\n",
       "    }\n",
       "\n",
       "    .dataframe thead th {\n",
       "        text-align: right;\n",
       "    }\n",
       "</style>\n",
       "<table border=\"1\" class=\"dataframe\">\n",
       "  <thead>\n",
       "    <tr style=\"text-align: right;\">\n",
       "      <th></th>\n",
       "      <th></th>\n",
       "      <th></th>\n",
       "      <th>Medal_Bronze</th>\n",
       "      <th>Medal_Gold</th>\n",
       "      <th>Medal_Silver</th>\n",
       "      <th>Total_medals</th>\n",
       "    </tr>\n",
       "    <tr>\n",
       "      <th>Year</th>\n",
       "      <th>Medal</th>\n",
       "      <th>Season</th>\n",
       "      <th></th>\n",
       "      <th></th>\n",
       "      <th></th>\n",
       "      <th></th>\n",
       "    </tr>\n",
       "  </thead>\n",
       "  <tbody>\n",
       "    <tr>\n",
       "      <th rowspan=\"3\" valign=\"top\">1896</th>\n",
       "      <th>Bronze</th>\n",
       "      <th>Summer</th>\n",
       "      <td>38.0</td>\n",
       "      <td>0.0</td>\n",
       "      <td>0.0</td>\n",
       "      <td>38.0</td>\n",
       "    </tr>\n",
       "    <tr>\n",
       "      <th>Gold</th>\n",
       "      <th>Summer</th>\n",
       "      <td>0.0</td>\n",
       "      <td>62.0</td>\n",
       "      <td>0.0</td>\n",
       "      <td>62.0</td>\n",
       "    </tr>\n",
       "    <tr>\n",
       "      <th>Silver</th>\n",
       "      <th>Summer</th>\n",
       "      <td>0.0</td>\n",
       "      <td>0.0</td>\n",
       "      <td>43.0</td>\n",
       "      <td>43.0</td>\n",
       "    </tr>\n",
       "    <tr>\n",
       "      <th rowspan=\"2\" valign=\"top\">1900</th>\n",
       "      <th>Bronze</th>\n",
       "      <th>Summer</th>\n",
       "      <td>175.0</td>\n",
       "      <td>0.0</td>\n",
       "      <td>0.0</td>\n",
       "      <td>175.0</td>\n",
       "    </tr>\n",
       "    <tr>\n",
       "      <th>Gold</th>\n",
       "      <th>Summer</th>\n",
       "      <td>0.0</td>\n",
       "      <td>201.0</td>\n",
       "      <td>0.0</td>\n",
       "      <td>201.0</td>\n",
       "    </tr>\n",
       "    <tr>\n",
       "      <th>...</th>\n",
       "      <th>...</th>\n",
       "      <th>...</th>\n",
       "      <td>...</td>\n",
       "      <td>...</td>\n",
       "      <td>...</td>\n",
       "      <td>...</td>\n",
       "    </tr>\n",
       "    <tr>\n",
       "      <th rowspan=\"2\" valign=\"top\">2014</th>\n",
       "      <th>Gold</th>\n",
       "      <th>Winter</th>\n",
       "      <td>0.0</td>\n",
       "      <td>202.0</td>\n",
       "      <td>0.0</td>\n",
       "      <td>202.0</td>\n",
       "    </tr>\n",
       "    <tr>\n",
       "      <th>Silver</th>\n",
       "      <th>Winter</th>\n",
       "      <td>0.0</td>\n",
       "      <td>0.0</td>\n",
       "      <td>197.0</td>\n",
       "      <td>197.0</td>\n",
       "    </tr>\n",
       "    <tr>\n",
       "      <th rowspan=\"3\" valign=\"top\">2016</th>\n",
       "      <th>Bronze</th>\n",
       "      <th>Summer</th>\n",
       "      <td>703.0</td>\n",
       "      <td>0.0</td>\n",
       "      <td>0.0</td>\n",
       "      <td>703.0</td>\n",
       "    </tr>\n",
       "    <tr>\n",
       "      <th>Gold</th>\n",
       "      <th>Summer</th>\n",
       "      <td>0.0</td>\n",
       "      <td>665.0</td>\n",
       "      <td>0.0</td>\n",
       "      <td>665.0</td>\n",
       "    </tr>\n",
       "    <tr>\n",
       "      <th>Silver</th>\n",
       "      <th>Summer</th>\n",
       "      <td>0.0</td>\n",
       "      <td>0.0</td>\n",
       "      <td>655.0</td>\n",
       "      <td>655.0</td>\n",
       "    </tr>\n",
       "  </tbody>\n",
       "</table>\n",
       "<p>153 rows × 4 columns</p>\n",
       "</div>"
      ],
      "text/plain": [
       "                    Medal_Bronze  Medal_Gold  Medal_Silver  Total_medals\n",
       "Year Medal  Season                                                      \n",
       "1896 Bronze Summer          38.0         0.0           0.0          38.0\n",
       "     Gold   Summer           0.0        62.0           0.0          62.0\n",
       "     Silver Summer           0.0         0.0          43.0          43.0\n",
       "1900 Bronze Summer         175.0         0.0           0.0         175.0\n",
       "     Gold   Summer           0.0       201.0           0.0         201.0\n",
       "...                          ...         ...           ...           ...\n",
       "2014 Gold   Winter           0.0       202.0           0.0         202.0\n",
       "     Silver Winter           0.0         0.0         197.0         197.0\n",
       "2016 Bronze Summer         703.0         0.0           0.0         703.0\n",
       "     Gold   Summer           0.0       665.0           0.0         665.0\n",
       "     Silver Summer           0.0         0.0         655.0         655.0\n",
       "\n",
       "[153 rows x 4 columns]"
      ]
     },
     "execution_count": 72,
     "metadata": {},
     "output_type": "execute_result"
    }
   ],
   "source": [
    "agrupado['Total_medals']=agrupado[['Medal_Bronze','Medal_Gold','Medal_Silver']].sum(axis=1)\n",
    "agrupado"
   ]
  },
  {
   "cell_type": "code",
   "execution_count": 81,
   "id": "82430fb8",
   "metadata": {},
   "outputs": [],
   "source": [
    "import matplotlib.pyplot as plt\n",
    "\n",
    "def labels(x,y):\n",
    "    for i in range(len(x)):\n",
    "        plt.text(i,y[i]+0.3,y[i])"
   ]
  },
  {
   "cell_type": "code",
   "execution_count": 82,
   "id": "3ab45582",
   "metadata": {},
   "outputs": [],
   "source": [
    "x=['Ringo','John','Paul','George','Yoko']\n",
    "y=[45,34,42,48,47]"
   ]
  },
  {
   "cell_type": "code",
   "execution_count": 84,
   "id": "7df239d5",
   "metadata": {},
   "outputs": [
    {
     "data": {
      "image/png": "[encoded data removed]",
      "text/plain": [
       "<Figure size 720x360 with 1 Axes>"
      ]
     },
     "metadata": {
      "needs_background": "light"
     },
     "output_type": "display_data"
    }
   ],
   "source": [
    "plt.figure(figsize=(10,5))\n",
    "plt.bar(x,y)\n",
    "labels(x,y)\n",
    "plt.title('Nombres y edades')\n",
    "plt.xlabel('Nombres')\n",
    "plt.ylabel('Edades')\n",
    "plt.xticks(rotation=45)\n",
    "plt.show()"
   ]
  },
  {
   "cell_type": "code",
   "execution_count": 87,
   "id": "ae1dde97",
   "metadata": {},
   "outputs": [
    {
     "data": {
      "image/png": "[encoded data removed]",
      "text/plain": [
       "<Figure size 720x360 with 1 Axes>"
      ]
     },
     "metadata": {
      "needs_background": "light"
     },
     "output_type": "display_data"
    }
   ],
   "source": [
    "ax=agrupado[:3]['Total_medals'].plot(figsize=(10,5))\n",
    "fig=ax.get_figure()\n",
    "fig.savefig('imagenes/medallas.png')"
   ]
  }
 ],
 "metadata": {
  "kernelspec": {
   "display_name": "Python 3",
   "language": "python",
   "name": "python3"
  },
  "language_info": {
   "codemirror_mode": {
    "name": "ipython",
    "version": 3
   },
   "file_extension": ".py",
   "mimetype": "text/x-python",
   "name": "python",
   "nbconvert_exporter": "python",
   "pygments_lexer": "ipython3",
   "version": "3.6.13"
  }
 },
 "nbformat": 4,
 "nbformat_minor": 5
}
