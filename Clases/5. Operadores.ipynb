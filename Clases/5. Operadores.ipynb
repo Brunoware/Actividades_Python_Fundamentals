{
 "cells": [
  {
   "cell_type": "markdown",
   "id": "8500de56",
   "metadata": {},
   "source": [
    "# Inicializar la variable"
   ]
  },
  {
   "cell_type": "code",
   "execution_count": 1,
   "id": "dfb84cc5",
   "metadata": {},
   "outputs": [],
   "source": [
    "i=4"
   ]
  },
  {
   "cell_type": "markdown",
   "id": "a36e3d9a",
   "metadata": {},
   "source": [
    "# Elevar a un exponente"
   ]
  },
  {
   "cell_type": "code",
   "execution_count": 2,
   "id": "1ae0ffef",
   "metadata": {
    "scrolled": true
   },
   "outputs": [
    {
     "data": {
      "text/plain": [
       "256"
      ]
     },
     "execution_count": 2,
     "metadata": {},
     "output_type": "execute_result"
    }
   ],
   "source": [
    "i**4"
   ]
  },
  {
   "cell_type": "markdown",
   "id": "82d45abf",
   "metadata": {},
   "source": [
    "# Multiplicación almacenada en la misma variable"
   ]
  },
  {
   "cell_type": "code",
   "execution_count": 3,
   "id": "e3365e15",
   "metadata": {},
   "outputs": [],
   "source": [
    "i*=10 # equivalente a i=i*10"
   ]
  },
  {
   "cell_type": "code",
   "execution_count": 4,
   "id": "0cf6d89c",
   "metadata": {},
   "outputs": [
    {
     "data": {
      "text/plain": [
       "40"
      ]
     },
     "execution_count": 4,
     "metadata": {},
     "output_type": "execute_result"
    }
   ],
   "source": [
    "i"
   ]
  },
  {
   "cell_type": "markdown",
   "id": "020ded7e",
   "metadata": {},
   "source": [
    "# División almacenada en la misma variable"
   ]
  },
  {
   "cell_type": "code",
   "execution_count": 5,
   "id": "3c0e1e1a",
   "metadata": {},
   "outputs": [],
   "source": [
    "i/=10"
   ]
  },
  {
   "cell_type": "code",
   "execution_count": 6,
   "id": "57cd946d",
   "metadata": {},
   "outputs": [
    {
     "data": {
      "text/plain": [
       "4.0"
      ]
     },
     "execution_count": 6,
     "metadata": {},
     "output_type": "execute_result"
    }
   ],
   "source": [
    "i"
   ]
  },
  {
   "cell_type": "markdown",
   "id": "ce8d40e3",
   "metadata": {},
   "source": [
    "# Sustracción almacenada en la misma variable"
   ]
  },
  {
   "cell_type": "code",
   "execution_count": 7,
   "id": "5cf948f4",
   "metadata": {},
   "outputs": [],
   "source": [
    "i-=1"
   ]
  },
  {
   "cell_type": "code",
   "execution_count": 8,
   "id": "dc15724b",
   "metadata": {},
   "outputs": [
    {
     "data": {
      "text/plain": [
       "3.0"
      ]
     },
     "execution_count": 8,
     "metadata": {},
     "output_type": "execute_result"
    }
   ],
   "source": [
    "i"
   ]
  },
  {
   "cell_type": "markdown",
   "id": "e19fa6fa",
   "metadata": {},
   "source": [
    "# Adición almacenada en la misma variable"
   ]
  },
  {
   "cell_type": "code",
   "execution_count": 9,
   "id": "ebc38b7c",
   "metadata": {},
   "outputs": [],
   "source": [
    "i+=10"
   ]
  },
  {
   "cell_type": "code",
   "execution_count": 10,
   "id": "1b115484",
   "metadata": {},
   "outputs": [
    {
     "data": {
      "text/plain": [
       "13.0"
      ]
     },
     "execution_count": 10,
     "metadata": {},
     "output_type": "execute_result"
    }
   ],
   "source": [
    "i"
   ]
  },
  {
   "cell_type": "markdown",
   "id": "c1a45ee6",
   "metadata": {},
   "source": [
    "# División entera almacenada en la misma variable"
   ]
  },
  {
   "cell_type": "code",
   "execution_count": 11,
   "id": "8f40a301",
   "metadata": {},
   "outputs": [],
   "source": [
    "i //=3"
   ]
  },
  {
   "cell_type": "code",
   "execution_count": 12,
   "id": "c7fd17df",
   "metadata": {},
   "outputs": [
    {
     "data": {
      "text/plain": [
       "4.0"
      ]
     },
     "execution_count": 12,
     "metadata": {},
     "output_type": "execute_result"
    }
   ],
   "source": [
    "i"
   ]
  },
  {
   "cell_type": "markdown",
   "id": "3dfe08e4",
   "metadata": {},
   "source": [
    "# Residuo almecenado en la misma variable"
   ]
  },
  {
   "cell_type": "code",
   "execution_count": 13,
   "id": "e464c38e",
   "metadata": {},
   "outputs": [],
   "source": [
    "i%=3"
   ]
  },
  {
   "cell_type": "code",
   "execution_count": 14,
   "id": "e2a51efe",
   "metadata": {},
   "outputs": [
    {
     "data": {
      "text/plain": [
       "1.0"
      ]
     },
     "execution_count": 14,
     "metadata": {},
     "output_type": "execute_result"
    }
   ],
   "source": [
    "i"
   ]
  },
  {
   "cell_type": "markdown",
   "id": "3973b92a",
   "metadata": {},
   "source": [
    "# Iteraciones manuales"
   ]
  },
  {
   "cell_type": "code",
   "execution_count": 15,
   "id": "f77b2571",
   "metadata": {},
   "outputs": [],
   "source": [
    "contador=1"
   ]
  },
  {
   "cell_type": "code",
   "execution_count": 16,
   "id": "495790ab",
   "metadata": {},
   "outputs": [
    {
     "data": {
      "text/plain": [
       "2"
      ]
     },
     "execution_count": 16,
     "metadata": {},
     "output_type": "execute_result"
    }
   ],
   "source": [
    "contador+=1\n",
    "contador"
   ]
  },
  {
   "cell_type": "code",
   "execution_count": 17,
   "id": "bfc36570",
   "metadata": {},
   "outputs": [
    {
     "data": {
      "text/plain": [
       "3"
      ]
     },
     "execution_count": 17,
     "metadata": {},
     "output_type": "execute_result"
    }
   ],
   "source": [
    "contador+=1\n",
    "contador"
   ]
  },
  {
   "cell_type": "code",
   "execution_count": 18,
   "id": "d7fdaf2b",
   "metadata": {},
   "outputs": [
    {
     "data": {
      "text/plain": [
       "4"
      ]
     },
     "execution_count": 18,
     "metadata": {},
     "output_type": "execute_result"
    }
   ],
   "source": [
    "contador+=1\n",
    "contador"
   ]
  },
  {
   "cell_type": "markdown",
   "id": "b18abc8d",
   "metadata": {},
   "source": [
    "## Strings"
   ]
  },
  {
   "cell_type": "markdown",
   "id": "1bfb7b59",
   "metadata": {},
   "source": [
    "Comparación de cadenas"
   ]
  },
  {
   "cell_type": "code",
   "execution_count": 1,
   "id": "153f7a85",
   "metadata": {
    "scrolled": true
   },
   "outputs": [
    {
     "data": {
      "text/plain": [
       "False"
      ]
     },
     "execution_count": 1,
     "metadata": {},
     "output_type": "execute_result"
    }
   ],
   "source": [
    "cadena1,cadena2='Hola','Mundo'\n",
    "cadena1==cadena2"
   ]
  },
  {
   "cell_type": "markdown",
   "id": "7b2e4c3d",
   "metadata": {},
   "source": [
    "Comparación de listas"
   ]
  },
  {
   "cell_type": "code",
   "execution_count": 2,
   "id": "c942661c",
   "metadata": {},
   "outputs": [
    {
     "data": {
      "text/plain": [
       "False"
      ]
     },
     "execution_count": 2,
     "metadata": {},
     "output_type": "execute_result"
    }
   ],
   "source": [
    "lista1,lista2=[3,'Gato','Sofia'],[5,'Perro']\n",
    "lista1==lista2"
   ]
  },
  {
   "cell_type": "markdown",
   "id": "8aa05310",
   "metadata": {},
   "source": [
    "Extracción de letras"
   ]
  },
  {
   "cell_type": "code",
   "execution_count": 3,
   "id": "df3e7e3c",
   "metadata": {},
   "outputs": [],
   "source": [
    "b='Murcielago'"
   ]
  },
  {
   "cell_type": "code",
   "execution_count": 4,
   "id": "2766e6e3",
   "metadata": {},
   "outputs": [
    {
     "data": {
      "text/plain": [
       "'M'"
      ]
     },
     "execution_count": 4,
     "metadata": {},
     "output_type": "execute_result"
    }
   ],
   "source": [
    "b[0]"
   ]
  },
  {
   "cell_type": "code",
   "execution_count": 5,
   "id": "7c390736",
   "metadata": {},
   "outputs": [
    {
     "data": {
      "text/plain": [
       "'ogaleicruM'"
      ]
     },
     "execution_count": 5,
     "metadata": {},
     "output_type": "execute_result"
    }
   ],
   "source": [
    "b[::-1]"
   ]
  },
  {
   "cell_type": "code",
   "execution_count": 6,
   "id": "7dcf383f",
   "metadata": {},
   "outputs": [
    {
     "data": {
      "text/plain": [
       "'iela'"
      ]
     },
     "execution_count": 6,
     "metadata": {},
     "output_type": "execute_result"
    }
   ],
   "source": [
    "b[4:8]"
   ]
  },
  {
   "cell_type": "code",
   "execution_count": 7,
   "id": "1ee9fd64",
   "metadata": {},
   "outputs": [
    {
     "data": {
      "text/plain": [
       "False"
      ]
     },
     "execution_count": 7,
     "metadata": {},
     "output_type": "execute_result"
    }
   ],
   "source": [
    "b[4:8]==b"
   ]
  },
  {
   "cell_type": "code",
   "execution_count": 8,
   "id": "8ae7a0ff",
   "metadata": {},
   "outputs": [
    {
     "data": {
      "text/plain": [
       "True"
      ]
     },
     "execution_count": 8,
     "metadata": {},
     "output_type": "execute_result"
    }
   ],
   "source": [
    "b[4:8]!=b"
   ]
  },
  {
   "cell_type": "markdown",
   "id": "42f47a93",
   "metadata": {},
   "source": [
    "# Máscaras"
   ]
  },
  {
   "cell_type": "markdown",
   "id": "58da289e",
   "metadata": {},
   "source": [
    "Importar Numpy"
   ]
  },
  {
   "cell_type": "code",
   "execution_count": 9,
   "id": "dd3eac84",
   "metadata": {},
   "outputs": [],
   "source": [
    "import numpy as np"
   ]
  },
  {
   "cell_type": "markdown",
   "id": "0b561c1f",
   "metadata": {},
   "source": [
    "Crear matriz"
   ]
  },
  {
   "cell_type": "code",
   "execution_count": 15,
   "id": "49e1361d",
   "metadata": {},
   "outputs": [
    {
     "data": {
      "text/plain": [
       "array([1, 2, 3, 4, 5, 6, 7])"
      ]
     },
     "execution_count": 15,
     "metadata": {},
     "output_type": "execute_result"
    }
   ],
   "source": [
    "a=np.arange(1,8)\n",
    "a"
   ]
  },
  {
   "cell_type": "markdown",
   "id": "b3f8227b",
   "metadata": {},
   "source": [
    "Definir máscara"
   ]
  },
  {
   "cell_type": "code",
   "execution_count": 16,
   "id": "bcdad47d",
   "metadata": {},
   "outputs": [
    {
     "data": {
      "text/plain": [
       "array([False, False, False,  True,  True,  True,  True])"
      ]
     },
     "execution_count": 16,
     "metadata": {},
     "output_type": "execute_result"
    }
   ],
   "source": [
    "mascara=a>3\n",
    "mascara"
   ]
  },
  {
   "cell_type": "markdown",
   "id": "96707a2f",
   "metadata": {},
   "source": [
    "Filtrar"
   ]
  },
  {
   "cell_type": "code",
   "execution_count": 19,
   "id": "d999ab73",
   "metadata": {},
   "outputs": [
    {
     "data": {
      "text/plain": [
       "array([4, 5, 6, 7])"
      ]
     },
     "execution_count": 19,
     "metadata": {},
     "output_type": "execute_result"
    }
   ],
   "source": [
    "filtrado=np.array(list(filter(lambda x:x>3,a)))\n",
    "filtrado"
   ]
  }
 ],
 "metadata": {
  "kernelspec": {
   "display_name": "Python 3",
   "language": "python",
   "name": "python3"
  },
  "language_info": {
   "codemirror_mode": {
    "name": "ipython",
    "version": 3
   },
   "file_extension": ".py",
   "mimetype": "text/x-python",
   "name": "python",
   "nbconvert_exporter": "python",
   "pygments_lexer": "ipython3",
   "version": "3.6.13"
  }
 },
 "nbformat": 4,
 "nbformat_minor": 5
}
