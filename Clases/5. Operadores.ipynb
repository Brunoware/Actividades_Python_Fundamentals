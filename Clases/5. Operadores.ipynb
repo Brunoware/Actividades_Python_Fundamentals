{
 "cells": [
  {
   "cell_type": "markdown",
   "id": "05bc6567",
   "metadata": {},
   "source": [
    "Práctica"
   ]
  },
  {
   "cell_type": "code",
   "execution_count": 1,
   "id": "2f56dcdc",
   "metadata": {},
   "outputs": [],
   "source": [
    "i=4"
   ]
  },
  {
   "cell_type": "markdown",
   "id": "8dcaf572",
   "metadata": {},
   "source": [
    "# Elevar a un exponente"
   ]
  },
  {
   "cell_type": "code",
   "execution_count": 2,
   "id": "2ac85cf8",
   "metadata": {
    "scrolled": true
   },
   "outputs": [
    {
     "data": {
      "text/plain": [
       "256"
      ]
     },
     "execution_count": 2,
     "metadata": {},
     "output_type": "execute_result"
    }
   ],
   "source": [
    "i**4"
   ]
  },
  {
   "cell_type": "markdown",
   "id": "49bcec9b",
   "metadata": {},
   "source": [
    "# Multiplicación almacenada en la misma variable"
   ]
  },
  {
   "cell_type": "code",
   "execution_count": 3,
   "id": "36ca77d2",
   "metadata": {},
   "outputs": [],
   "source": [
    "i*=10 # equivalente a i=i*10"
   ]
  },
  {
   "cell_type": "code",
   "execution_count": 4,
   "id": "56a09138",
   "metadata": {},
   "outputs": [
    {
     "data": {
      "text/plain": [
       "40"
      ]
     },
     "execution_count": 4,
     "metadata": {},
     "output_type": "execute_result"
    }
   ],
   "source": [
    "i"
   ]
  },
  {
   "cell_type": "markdown",
   "id": "2495bf8a",
   "metadata": {},
   "source": [
    "# División almacenada en la misma variable"
   ]
  },
  {
   "cell_type": "code",
   "execution_count": 5,
   "id": "eb0e376a",
   "metadata": {},
   "outputs": [],
   "source": [
    "i/=10"
   ]
  },
  {
   "cell_type": "code",
   "execution_count": 6,
   "id": "6c337ce7",
   "metadata": {},
   "outputs": [
    {
     "data": {
      "text/plain": [
       "4.0"
      ]
     },
     "execution_count": 6,
     "metadata": {},
     "output_type": "execute_result"
    }
   ],
   "source": [
    "i"
   ]
  },
  {
   "cell_type": "markdown",
   "id": "dc2d62ac",
   "metadata": {},
   "source": [
    "# Sustracción almacenada en la misma variable"
   ]
  },
  {
   "cell_type": "code",
   "execution_count": 7,
   "id": "e03879f3",
   "metadata": {},
   "outputs": [],
   "source": [
    "i-=1"
   ]
  },
  {
   "cell_type": "code",
   "execution_count": 8,
   "id": "b5e9869e",
   "metadata": {},
   "outputs": [
    {
     "data": {
      "text/plain": [
       "3.0"
      ]
     },
     "execution_count": 8,
     "metadata": {},
     "output_type": "execute_result"
    }
   ],
   "source": [
    "i"
   ]
  },
  {
   "cell_type": "markdown",
   "id": "628782e6",
   "metadata": {},
   "source": [
    "# Adición almacenada en la misma variable"
   ]
  },
  {
   "cell_type": "code",
   "execution_count": 9,
   "id": "02c7d94a",
   "metadata": {},
   "outputs": [],
   "source": [
    "i+=10"
   ]
  },
  {
   "cell_type": "code",
   "execution_count": 10,
   "id": "1e9f83fc",
   "metadata": {},
   "outputs": [
    {
     "data": {
      "text/plain": [
       "13.0"
      ]
     },
     "execution_count": 10,
     "metadata": {},
     "output_type": "execute_result"
    }
   ],
   "source": [
    "i"
   ]
  },
  {
   "cell_type": "markdown",
   "id": "25a2e13b",
   "metadata": {},
   "source": [
    "# División entera almacenada en la misma variable"
   ]
  },
  {
   "cell_type": "code",
   "execution_count": 11,
   "id": "cc6aa550",
   "metadata": {},
   "outputs": [],
   "source": [
    "i //=3"
   ]
  },
  {
   "cell_type": "code",
   "execution_count": 12,
   "id": "e39df933",
   "metadata": {},
   "outputs": [
    {
     "data": {
      "text/plain": [
       "4.0"
      ]
     },
     "execution_count": 12,
     "metadata": {},
     "output_type": "execute_result"
    }
   ],
   "source": [
    "i"
   ]
  },
  {
   "cell_type": "markdown",
   "id": "4076dbe4",
   "metadata": {},
   "source": [
    "# Residuo almecenado en la misma variable"
   ]
  },
  {
   "cell_type": "code",
   "execution_count": 13,
   "id": "517e0b29",
   "metadata": {},
   "outputs": [],
   "source": [
    "i%=3"
   ]
  },
  {
   "cell_type": "code",
   "execution_count": 14,
   "id": "bf82e52b",
   "metadata": {},
   "outputs": [
    {
     "data": {
      "text/plain": [
       "1.0"
      ]
     },
     "execution_count": 14,
     "metadata": {},
     "output_type": "execute_result"
    }
   ],
   "source": [
    "i"
   ]
  }
 ],
 "metadata": {
  "kernelspec": {
   "display_name": "Python 3 (ipykernel)",
   "language": "python",
   "name": "python3"
  },
  "language_info": {
   "codemirror_mode": {
    "name": "ipython",
    "version": 3
   },
   "file_extension": ".py",
   "mimetype": "text/x-python",
   "name": "python",
   "nbconvert_exporter": "python",
   "pygments_lexer": "ipython3",
   "version": "3.9.12"
  }
 },
 "nbformat": 4,
 "nbformat_minor": 5
}
