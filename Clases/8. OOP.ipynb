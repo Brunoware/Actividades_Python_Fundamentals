{
 "cells": [
  {
   "cell_type": "code",
   "execution_count": 19,
   "id": "e9b942e5",
   "metadata": {},
   "outputs": [],
   "source": [
    "class Persona:\n",
    "    nombre='Bruno'\n",
    "    apellido='Miranda'\n",
    "    genero='M'\n",
    "    def hablar (self,mensaje):\n",
    "        '''HoliBoli'''\n",
    "        return mensaje"
   ]
  },
  {
   "cell_type": "code",
   "execution_count": 13,
   "id": "5f638f8d",
   "metadata": {},
   "outputs": [],
   "source": [
    "emp1=Persona"
   ]
  },
  {
   "cell_type": "code",
   "execution_count": 14,
   "id": "00bd432d",
   "metadata": {},
   "outputs": [
    {
     "data": {
      "text/plain": [
       "'Como estas'"
      ]
     },
     "execution_count": 14,
     "metadata": {},
     "output_type": "execute_result"
    }
   ],
   "source": [
    "Persona().hablar('Como estas')"
   ]
  },
  {
   "cell_type": "code",
   "execution_count": 15,
   "id": "f27a8eb7",
   "metadata": {
    "collapsed": true
   },
   "outputs": [
    {
     "data": {
      "text/plain": [
       "['__class__',\n",
       " '__delattr__',\n",
       " '__dict__',\n",
       " '__dir__',\n",
       " '__doc__',\n",
       " '__eq__',\n",
       " '__format__',\n",
       " '__ge__',\n",
       " '__getattribute__',\n",
       " '__gt__',\n",
       " '__hash__',\n",
       " '__init__',\n",
       " '__init_subclass__',\n",
       " '__le__',\n",
       " '__lt__',\n",
       " '__module__',\n",
       " '__ne__',\n",
       " '__new__',\n",
       " '__reduce__',\n",
       " '__reduce_ex__',\n",
       " '__repr__',\n",
       " '__setattr__',\n",
       " '__sizeof__',\n",
       " '__str__',\n",
       " '__subclasshook__',\n",
       " '__weakref__',\n",
       " 'apellido',\n",
       " 'genero',\n",
       " 'hablar',\n",
       " 'nombre']"
      ]
     },
     "execution_count": 15,
     "metadata": {},
     "output_type": "execute_result"
    }
   ],
   "source": [
    "dir(emp1)"
   ]
  },
  {
   "cell_type": "code",
   "execution_count": 20,
   "id": "c404c518",
   "metadata": {},
   "outputs": [
    {
     "data": {
      "text/plain": [
       "'HoliBoli'"
      ]
     },
     "execution_count": 20,
     "metadata": {},
     "output_type": "execute_result"
    }
   ],
   "source": [
    "Persona().hablar.__doc__"
   ]
  },
  {
   "cell_type": "code",
   "execution_count": 25,
   "id": "655ad98f",
   "metadata": {},
   "outputs": [],
   "source": [
    "class Persona:\n",
    "    def __init__(self,nombre,apellido,genero,cedula):\n",
    "        self.nombre=nombre\n",
    "        self.apellido=apellido\n",
    "        self.genero=genero\n",
    "        self.cedula=cedula\n",
    "    def hablar (self,mensaje):\n",
    "        return mensaje"
   ]
  },
  {
   "cell_type": "code",
   "execution_count": 21,
   "id": "649f13f6",
   "metadata": {},
   "outputs": [],
   "source": [
    "class Supervisor(Persona):\n",
    "    '''Clase que representa a un supervisor'''\n",
    "    def __init__(self,nombre,apellido,genero,cedula,puesto):\n",
    "        '''Constructor para un supervisor'''\n",
    "        Persona.__init__(self,nombre,apellido,genero,cedula)\n",
    "        self.puesto=puesto # atributo nuevo que lo diferencia de la clase Persona\n",
    "        self.tareas=[str(i) for i in range(10,14)] # nuevo atributo diferenciador por medio de Monkey Patching\n",
    "    \n",
    "    def __str__(self):\n",
    "        '''Devuelve la cadena descriptiva'''\n",
    "        return f'{self.__doc__}: {self.nombre} {self.apellido}, puesto: {self.puesto}, sus tareas son {self.consulta_tareas()}'\n",
    "    \n",
    "    def consulta_tareas(self):\n",
    "        '''Mostrar las tareas de un supervisor'''\n",
    "        return ', '.join(self.tareas)"
   ]
  },
  {
   "cell_type": "code",
   "execution_count": 26,
   "id": "fff51a9b",
   "metadata": {},
   "outputs": [],
   "source": [
    "emp2=Persona(nombre='Bruno',apellido='Miranda',genero='M',cedula='73217602')"
   ]
  },
  {
   "cell_type": "code",
   "execution_count": 28,
   "id": "f776e2b8",
   "metadata": {
    "collapsed": true
   },
   "outputs": [
    {
     "data": {
      "text/plain": [
       "['__class__',\n",
       " '__delattr__',\n",
       " '__dict__',\n",
       " '__dir__',\n",
       " '__doc__',\n",
       " '__eq__',\n",
       " '__format__',\n",
       " '__ge__',\n",
       " '__getattribute__',\n",
       " '__gt__',\n",
       " '__hash__',\n",
       " '__init__',\n",
       " '__init_subclass__',\n",
       " '__le__',\n",
       " '__lt__',\n",
       " '__module__',\n",
       " '__ne__',\n",
       " '__new__',\n",
       " '__reduce__',\n",
       " '__reduce_ex__',\n",
       " '__repr__',\n",
       " '__setattr__',\n",
       " '__sizeof__',\n",
       " '__str__',\n",
       " '__subclasshook__',\n",
       " '__weakref__',\n",
       " 'apellido',\n",
       " 'cedula',\n",
       " 'genero',\n",
       " 'hablar',\n",
       " 'nombre']"
      ]
     },
     "execution_count": 28,
     "metadata": {},
     "output_type": "execute_result"
    }
   ],
   "source": [
    "dir(emp2)"
   ]
  },
  {
   "cell_type": "code",
   "execution_count": 35,
   "id": "26978823",
   "metadata": {},
   "outputs": [],
   "source": [
    "super1=Supervisor(nombre='Bruno',apellido='Miranda',genero='M',cedula='73217602',puesto='Analista de Datos')\n",
    "super2=Supervisor(nombre='Daniel',apellido='Espinoza',genero='M',cedula='73217603',puesto='Cientifico de Datos')\n",
    "super3=Supervisor(nombre='Cesar',apellido='Leclere',genero='M',cedula='73217604',puesto='Analista de Negocio')"
   ]
  },
  {
   "cell_type": "code",
   "execution_count": 36,
   "id": "baa56b13",
   "metadata": {},
   "outputs": [
    {
     "name": "stdout",
     "output_type": "stream",
     "text": [
      "Cedula de S2: 73217603\n"
     ]
    }
   ],
   "source": [
    "print(f'Cedula de S2: {super2.cedula}')"
   ]
  },
  {
   "cell_type": "code",
   "execution_count": 39,
   "id": "c6e55278",
   "metadata": {},
   "outputs": [
    {
     "name": "stdout",
     "output_type": "stream",
     "text": [
      "\n",
      "Clase que representa a un supervisor: Cesar Leclere, puesto: Analista de Negocio, sus tareas son 10, 11, 12, 13\n"
     ]
    }
   ],
   "source": [
    "print('\\n'+str(super3))"
   ]
  },
  {
   "cell_type": "code",
   "execution_count": 37,
   "id": "dfa11190",
   "metadata": {},
   "outputs": [
    {
     "name": "stdout",
     "output_type": "stream",
     "text": [
      "Las tareas son las siguientes: 10, 11, 12, 13\n"
     ]
    }
   ],
   "source": [
    "print(f'Las tareas son las siguientes: {super2.consulta_tareas()}')"
   ]
  },
  {
   "cell_type": "markdown",
   "id": "ba6c2348",
   "metadata": {},
   "source": [
    "Parámetros *args y *kwargs"
   ]
  },
  {
   "cell_type": "code",
   "execution_count": 1,
   "id": "2bfafaa0",
   "metadata": {},
   "outputs": [],
   "source": [
    "import numpy as np\n",
    "\n",
    "class Calculadora_basica:\n",
    "    '''Calculadora que realiza suma, resta, multiplicación y promedio'''\n",
    "    def __init__(self,*valores):\n",
    "        self.valores=np.array(valores)\n",
    "        \n",
    "    def suma(self):\n",
    "        return np.sum(self.valores)\n",
    "    \n",
    "    def resta(self):\n",
    "        return np.sum(np.append(self.valores[0],(np.negative(self.valores[1:]))))\n",
    "    \n",
    "    def multiplicacion(self):\n",
    "        return np.product(self.valores)\n",
    "    \n",
    "    def promedio(self):\n",
    "        return np.average(self.valores)  "
   ]
  },
  {
   "cell_type": "code",
   "execution_count": 4,
   "id": "2e877089",
   "metadata": {
    "scrolled": true
   },
   "outputs": [
    {
     "name": "stdout",
     "output_type": "stream",
     "text": [
      "Números a evaluar:... [50 25 10  5]\n",
      "Suma:................ 90\n",
      "Resta:............... 10\n",
      "Multiplicación:...... 62500\n",
      "Promedio:............ 22.5\n"
     ]
    }
   ],
   "source": [
    "# crear instancia con numeros\n",
    "numeros=Calculadora_basica(50,25,10,5)\n",
    "\n",
    "# probar metodos\n",
    "print(f'Números a evaluar:... {numeros.valores}')\n",
    "print(f'Suma:................ {numeros.suma()}')\n",
    "print(f'Resta:............... {numeros.resta()}')\n",
    "print(f'Multiplicación:...... {numeros.multiplicacion()}')\n",
    "print(f'Promedio:............ {numeros.promedio()}')"
   ]
  },
  {
   "cell_type": "markdown",
   "id": "131999c8",
   "metadata": {},
   "source": [
    "**yield**"
   ]
  },
  {
   "cell_type": "code",
   "execution_count": 21,
   "id": "21162123",
   "metadata": {},
   "outputs": [],
   "source": [
    "def upper_case(*args):\n",
    "    for i in args:\n",
    "        yield i.upper()"
   ]
  },
  {
   "cell_type": "code",
   "execution_count": 22,
   "id": "6ff9c796",
   "metadata": {},
   "outputs": [],
   "source": [
    "q=upper_case('rosado','verde','amarillo')"
   ]
  },
  {
   "cell_type": "code",
   "execution_count": 25,
   "id": "1fd49bcb",
   "metadata": {},
   "outputs": [
    {
     "data": {
      "text/plain": [
       "'AMARILLO'"
      ]
     },
     "execution_count": 25,
     "metadata": {},
     "output_type": "execute_result"
    }
   ],
   "source": [
    "iterations=iter(q)\n",
    "next(iterations)"
   ]
  },
  {
   "cell_type": "code",
   "execution_count": 26,
   "id": "80b6e0df",
   "metadata": {},
   "outputs": [],
   "source": [
    "def suma_n(a,b,*args):\n",
    "    return a+b+sum(args)"
   ]
  },
  {
   "cell_type": "code",
   "execution_count": 27,
   "id": "cb5a2966",
   "metadata": {},
   "outputs": [
    {
     "data": {
      "text/plain": [
       "36"
      ]
     },
     "execution_count": 27,
     "metadata": {},
     "output_type": "execute_result"
    }
   ],
   "source": [
    "suma_n(1,2,3,4,5,6,7,8)"
   ]
  },
  {
   "cell_type": "code",
   "execution_count": 41,
   "id": "cb26d7e8",
   "metadata": {},
   "outputs": [],
   "source": [
    "def calculadora(a,b,c,*args,**kwargs):\n",
    "    if kwargs.get('operación')=='suma':\n",
    "        print(f'La suma de a, b y c es: {a+b+c}')\n",
    "    if kwargs.get('argumento')=='primero':\n",
    "        print(f'El primer argumento es: {a}')\n",
    "    print(f'La suma de los args es: {sum(args)}')"
   ]
  },
  {
   "cell_type": "code",
   "execution_count": 33,
   "id": "f2b1aea4",
   "metadata": {},
   "outputs": [],
   "source": [
    "numeros=list(range(1,6))"
   ]
  },
  {
   "cell_type": "code",
   "execution_count": 42,
   "id": "df5174ac",
   "metadata": {},
   "outputs": [
    {
     "name": "stdout",
     "output_type": "stream",
     "text": [
      "La suma de a, b y c es: 6\n",
      "El primer argumento es: 1\n",
      "La suma de los args es: 15\n"
     ]
    }
   ],
   "source": [
    "calculadora(1,2,3,*numeros,operación='suma',argumento='primero')"
   ]
  },
  {
   "cell_type": "code",
   "execution_count": 53,
   "id": "58281f98",
   "metadata": {},
   "outputs": [],
   "source": [
    "from sklearn.base import BaseEstimator,TransformerMixin\n",
    "import numpy as np\n",
    "\n",
    "class prueba(BaseEstimator,TransformerMixin):\n",
    "    \n",
    "    def __init__(self,typo='M'):\n",
    "        self.typo=typo\n",
    "    \n",
    "    def fit(self,X,y=None):\n",
    "        if self.typo=='P':\n",
    "            self.valor=np.average(X) \n",
    "        elif self.typo=='S':\n",
    "            self.valor=np.sum(X)\n",
    "        return self\n",
    "    \n",
    "    def transform(self,X,y=None):\n",
    "        return X*self.valor"
   ]
  },
  {
   "cell_type": "code",
   "execution_count": 56,
   "id": "2844a2d1",
   "metadata": {},
   "outputs": [
    {
     "name": "stdout",
     "output_type": "stream",
     "text": [
      "[ 6 12 18]\n",
      "[24 30]\n"
     ]
    }
   ],
   "source": [
    "list_valores1=np.arange(1,4)\n",
    "list_valores2=np.arange(4,6)\n",
    "test=prueba(typo='S').fit(list_valores1)\n",
    "print(test.transform(list_valores1))\n",
    "print(test.transform(list_valores2))"
   ]
  }
 ],
 "metadata": {
  "kernelspec": {
   "display_name": "Python 3",
   "language": "python",
   "name": "python3"
  },
  "language_info": {
   "codemirror_mode": {
    "name": "ipython",
    "version": 3
   },
   "file_extension": ".py",
   "mimetype": "text/x-python",
   "name": "python",
   "nbconvert_exporter": "python",
   "pygments_lexer": "ipython3",
   "version": "3.6.13"
  }
 },
 "nbformat": 4,
 "nbformat_minor": 5
}
