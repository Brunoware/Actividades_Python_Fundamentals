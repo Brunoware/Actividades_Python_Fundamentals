{
 "cells": [
  {
   "cell_type": "code",
   "execution_count": 19,
   "id": "e9b942e5",
   "metadata": {},
   "outputs": [],
   "source": [
    "class Persona:\n",
    "    nombre='Bruno'\n",
    "    apellido='Miranda'\n",
    "    genero='M'\n",
    "    def hablar (self,mensaje):\n",
    "        '''HoliBoli'''\n",
    "        return mensaje"
   ]
  },
  {
   "cell_type": "code",
   "execution_count": 13,
   "id": "5f638f8d",
   "metadata": {},
   "outputs": [],
   "source": [
    "emp1=Persona"
   ]
  },
  {
   "cell_type": "code",
   "execution_count": 14,
   "id": "00bd432d",
   "metadata": {},
   "outputs": [
    {
     "data": {
      "text/plain": [
       "'Como estas'"
      ]
     },
     "execution_count": 14,
     "metadata": {},
     "output_type": "execute_result"
    }
   ],
   "source": [
    "Persona().hablar('Como estas')"
   ]
  },
  {
   "cell_type": "code",
   "execution_count": 15,
   "id": "f27a8eb7",
   "metadata": {
    "collapsed": true
   },
   "outputs": [
    {
     "data": {
      "text/plain": [
       "['__class__',\n",
       " '__delattr__',\n",
       " '__dict__',\n",
       " '__dir__',\n",
       " '__doc__',\n",
       " '__eq__',\n",
       " '__format__',\n",
       " '__ge__',\n",
       " '__getattribute__',\n",
       " '__gt__',\n",
       " '__hash__',\n",
       " '__init__',\n",
       " '__init_subclass__',\n",
       " '__le__',\n",
       " '__lt__',\n",
       " '__module__',\n",
       " '__ne__',\n",
       " '__new__',\n",
       " '__reduce__',\n",
       " '__reduce_ex__',\n",
       " '__repr__',\n",
       " '__setattr__',\n",
       " '__sizeof__',\n",
       " '__str__',\n",
       " '__subclasshook__',\n",
       " '__weakref__',\n",
       " 'apellido',\n",
       " 'genero',\n",
       " 'hablar',\n",
       " 'nombre']"
      ]
     },
     "execution_count": 15,
     "metadata": {},
     "output_type": "execute_result"
    }
   ],
   "source": [
    "dir(emp1)"
   ]
  },
  {
   "cell_type": "code",
   "execution_count": 20,
   "id": "c404c518",
   "metadata": {},
   "outputs": [
    {
     "data": {
      "text/plain": [
       "'HoliBoli'"
      ]
     },
     "execution_count": 20,
     "metadata": {},
     "output_type": "execute_result"
    }
   ],
   "source": [
    "Persona().hablar.__doc__"
   ]
  },
  {
   "cell_type": "code",
   "execution_count": 25,
   "id": "655ad98f",
   "metadata": {},
   "outputs": [],
   "source": [
    "class Persona:\n",
    "    def __init__(self,nombre,apellido,genero,cedula):\n",
    "        self.nombre=nombre\n",
    "        self.apellido=apellido\n",
    "        self.genero=genero\n",
    "        self.cedula=cedula\n",
    "    def hablar (self,mensaje):\n",
    "        return mensaje"
   ]
  },
  {
   "cell_type": "code",
   "execution_count": 21,
   "id": "649f13f6",
   "metadata": {},
   "outputs": [],
   "source": [
    "class Supervisor(Persona):\n",
    "    '''Clase que representa a un supervisor'''\n",
    "    def __init__(self,nombre,apellido,genero,cedula,puesto):\n",
    "        '''Constructor para un supervisor'''\n",
    "        Persona.__init__(self,nombre,apellido,genero,cedula)\n",
    "        self.puesto=puesto # atributo nuevo que lo diferencia de la clase Persona\n",
    "        self.tareas=[str(i) for i in range(10,14)] # nuevo atributo diferenciador por medio de Monkey Patching\n",
    "    \n",
    "    def __str__(self):\n",
    "        '''Devuelve la cadena descriptiva'''\n",
    "        return f'{self.__doc__}: {self.nombre} {self.apellido}, puesto: {self.puesto}, sus tareas son {self.consulta_tareas()}'\n",
    "    \n",
    "    def consulta_tareas(self):\n",
    "        '''Mostrar las tareas de un supervisor'''\n",
    "        return ', '.join(self.tareas)"
   ]
  },
  {
   "cell_type": "code",
   "execution_count": 26,
   "id": "fff51a9b",
   "metadata": {},
   "outputs": [],
   "source": [
    "emp2=Persona(nombre='Bruno',apellido='Miranda',genero='M',cedula='73217602')"
   ]
  },
  {
   "cell_type": "code",
   "execution_count": 28,
   "id": "f776e2b8",
   "metadata": {
    "collapsed": true
   },
   "outputs": [
    {
     "data": {
      "text/plain": [
       "['__class__',\n",
       " '__delattr__',\n",
       " '__dict__',\n",
       " '__dir__',\n",
       " '__doc__',\n",
       " '__eq__',\n",
       " '__format__',\n",
       " '__ge__',\n",
       " '__getattribute__',\n",
       " '__gt__',\n",
       " '__hash__',\n",
       " '__init__',\n",
       " '__init_subclass__',\n",
       " '__le__',\n",
       " '__lt__',\n",
       " '__module__',\n",
       " '__ne__',\n",
       " '__new__',\n",
       " '__reduce__',\n",
       " '__reduce_ex__',\n",
       " '__repr__',\n",
       " '__setattr__',\n",
       " '__sizeof__',\n",
       " '__str__',\n",
       " '__subclasshook__',\n",
       " '__weakref__',\n",
       " 'apellido',\n",
       " 'cedula',\n",
       " 'genero',\n",
       " 'hablar',\n",
       " 'nombre']"
      ]
     },
     "execution_count": 28,
     "metadata": {},
     "output_type": "execute_result"
    }
   ],
   "source": [
    "dir(emp2)"
   ]
  },
  {
   "cell_type": "code",
   "execution_count": 35,
   "id": "26978823",
   "metadata": {},
   "outputs": [],
   "source": [
    "super1=Supervisor(nombre='Bruno',apellido='Miranda',genero='M',cedula='73217602',puesto='Analista de Datos')\n",
    "super2=Supervisor(nombre='Daniel',apellido='Espinoza',genero='M',cedula='73217603',puesto='Cientifico de Datos')\n",
    "super3=Supervisor(nombre='Cesar',apellido='Leclere',genero='M',cedula='73217604',puesto='Analista de Negocio')"
   ]
  },
  {
   "cell_type": "code",
   "execution_count": 36,
   "id": "baa56b13",
   "metadata": {},
   "outputs": [
    {
     "name": "stdout",
     "output_type": "stream",
     "text": [
      "Cedula de S2: 73217603\n"
     ]
    }
   ],
   "source": [
    "print(f'Cedula de S2: {super2.cedula}')"
   ]
  },
  {
   "cell_type": "code",
   "execution_count": 39,
   "id": "c6e55278",
   "metadata": {},
   "outputs": [
    {
     "name": "stdout",
     "output_type": "stream",
     "text": [
      "\n",
      "Clase que representa a un supervisor: Cesar Leclere, puesto: Analista de Negocio, sus tareas son 10, 11, 12, 13\n"
     ]
    }
   ],
   "source": [
    "print('\\n'+str(super3))"
   ]
  },
  {
   "cell_type": "code",
   "execution_count": 37,
   "id": "dfa11190",
   "metadata": {},
   "outputs": [
    {
     "name": "stdout",
     "output_type": "stream",
     "text": [
      "Las tareas son las siguientes: 10, 11, 12, 13\n"
     ]
    }
   ],
   "source": [
    "print(f'Las tareas son las siguientes: {super2.consulta_tareas()}')"
   ]
  },
  {
   "cell_type": "markdown",
   "id": "a006d6fc",
   "metadata": {},
   "source": [
    "Parámetros *args y *kwargs"
   ]
  },
  {
   "cell_type": "code",
   "execution_count": 1,
   "id": "1c143b7c",
   "metadata": {},
   "outputs": [],
   "source": [
    "import numpy as np\n",
    "\n",
    "class Calculadora_basica:\n",
    "    '''Calculadora que realiza suma, resta, multiplicación y promedio'''\n",
    "    def __init__(self,*valores):\n",
    "        self.valores=np.array(valores)\n",
    "        \n",
    "    def suma(self):\n",
    "        return np.sum(self.valores)\n",
    "    \n",
    "    def resta(self):\n",
    "        return np.sum(np.append(self.valores[0],(np.negative(self.valores[1:]))))\n",
    "    \n",
    "    def multiplicacion(self):\n",
    "        return np.product(self.valores)\n",
    "    \n",
    "    def promedio(self):\n",
    "        return np.average(self.valores)  "
   ]
  },
  {
   "cell_type": "code",
   "execution_count": 2,
   "id": "a87c5b67",
   "metadata": {},
   "outputs": [],
   "source": [
    "calculadora=Calculadora_basica(1,2,3,4)"
   ]
  },
  {
   "cell_type": "code",
   "execution_count": 3,
   "id": "1db629d4",
   "metadata": {},
   "outputs": [
    {
     "data": {
      "text/plain": [
       "10"
      ]
     },
     "execution_count": 3,
     "metadata": {},
     "output_type": "execute_result"
    }
   ],
   "source": [
    "calculadora.suma()"
   ]
  }
 ],
 "metadata": {
  "kernelspec": {
   "display_name": "Python 3",
   "language": "python",
   "name": "python3"
  },
  "language_info": {
   "codemirror_mode": {
    "name": "ipython",
    "version": 3
   },
   "file_extension": ".py",
   "mimetype": "text/x-python",
   "name": "python",
   "nbconvert_exporter": "python",
   "pygments_lexer": "ipython3",
   "version": "3.6.13"
  }
 },
 "nbformat": 4,
 "nbformat_minor": 5
}
