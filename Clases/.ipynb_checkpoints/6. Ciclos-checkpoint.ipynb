{
 "cells": [
  {
   "cell_type": "code",
   "execution_count": 1,
   "id": "f92eca18",
   "metadata": {},
   "outputs": [],
   "source": [
    "a=5"
   ]
  },
  {
   "cell_type": "code",
   "execution_count": 2,
   "id": "4c73a4e2",
   "metadata": {},
   "outputs": [
    {
     "name": "stdout",
     "output_type": "stream",
     "text": [
      "No es igual a 3\n"
     ]
    }
   ],
   "source": [
    "if a==3:\n",
    "    a*=3\n",
    "    print(a)\n",
    "else:\n",
    "    print('No es igual a 3')"
   ]
  },
  {
   "cell_type": "code",
   "execution_count": 3,
   "id": "543262c9",
   "metadata": {},
   "outputs": [],
   "source": [
    "a=3"
   ]
  },
  {
   "cell_type": "code",
   "execution_count": 4,
   "id": "5861064d",
   "metadata": {},
   "outputs": [
    {
     "name": "stdout",
     "output_type": "stream",
     "text": [
      "9\n"
     ]
    }
   ],
   "source": [
    "if a==3:\n",
    "    a*=3\n",
    "    print(a)\n",
    "else:\n",
    "    print('No es igual a 3')"
   ]
  },
  {
   "cell_type": "code",
   "execution_count": 7,
   "id": "7d13fcca",
   "metadata": {},
   "outputs": [],
   "source": [
    "a=1"
   ]
  },
  {
   "cell_type": "code",
   "execution_count": 9,
   "id": "bcb9c54f",
   "metadata": {},
   "outputs": [
    {
     "name": "stdout",
     "output_type": "stream",
     "text": [
      "1\n"
     ]
    }
   ],
   "source": [
    "if a==3:\n",
    "    a*=3\n",
    "    print(a)\n",
    "elif a>10:\n",
    "    a%=2\n",
    "    print(a)\n",
    "else:\n",
    "    print(a)"
   ]
  },
  {
   "cell_type": "code",
   "execution_count": 10,
   "id": "e5e82ca7",
   "metadata": {},
   "outputs": [],
   "source": [
    "animal=['leon','perro','gato','tigre','toro','murcielago']"
   ]
  },
  {
   "cell_type": "code",
   "execution_count": 13,
   "id": "ba8aae26",
   "metadata": {},
   "outputs": [
    {
     "name": "stdout",
     "output_type": "stream",
     "text": [
      "El primer animal es leon, su longitud es 4\n"
     ]
    }
   ],
   "source": [
    "print('El primer animal es {0}, su longitud es {1}'.format(animal[0],len(animal[0])))"
   ]
  },
  {
   "cell_type": "markdown",
   "id": "d733dc09",
   "metadata": {},
   "source": [
    "# For"
   ]
  },
  {
   "cell_type": "code",
   "execution_count": 1,
   "id": "fac2a408",
   "metadata": {},
   "outputs": [
    {
     "name": "stdout",
     "output_type": "stream",
     "text": [
      "1\n",
      "2\n",
      "3\n",
      "4\n",
      "5\n",
      "6\n",
      "7\n"
     ]
    }
   ],
   "source": [
    "for i in range(1,8):\n",
    "    print(i)"
   ]
  },
  {
   "cell_type": "code",
   "execution_count": 2,
   "id": "7063c22a",
   "metadata": {},
   "outputs": [
    {
     "name": "stdout",
     "output_type": "stream",
     "text": [
      "La llave es A\n",
      "El valor es 23\n",
      "La llave es B\n",
      "El valor es 45\n",
      "La llave es C\n",
      "El valor es 22\n"
     ]
    }
   ],
   "source": [
    "diccionario={'A':23,'B':45,'C':22}\n",
    "for key,value in diccionario.items():\n",
    "    print(f'La llave es {key}')\n",
    "    print(f'El valor es {value}')"
   ]
  },
  {
   "cell_type": "code",
   "execution_count": 3,
   "id": "63e4d607",
   "metadata": {},
   "outputs": [],
   "source": [
    "numeros=range(1,8)"
   ]
  },
  {
   "cell_type": "code",
   "execution_count": 4,
   "id": "30c103e5",
   "metadata": {},
   "outputs": [
    {
     "name": "stdout",
     "output_type": "stream",
     "text": [
      "1\n",
      "2\n",
      "3\n",
      "4\n"
     ]
    }
   ],
   "source": [
    "for n in numeros:\n",
    "    if n==5:\n",
    "        break\n",
    "    print(n)"
   ]
  },
  {
   "cell_type": "code",
   "execution_count": 5,
   "id": "6f02316d",
   "metadata": {},
   "outputs": [
    {
     "name": "stdout",
     "output_type": "stream",
     "text": [
      "1\n",
      "2\n",
      "3\n",
      "4\n",
      "6\n",
      "7\n"
     ]
    }
   ],
   "source": [
    "for n in numeros:\n",
    "    if n==5:\n",
    "        continue\n",
    "    print(n)"
   ]
  },
  {
   "cell_type": "code",
   "execution_count": 6,
   "id": "e1d07b55",
   "metadata": {},
   "outputs": [
    {
     "name": "stdout",
     "output_type": "stream",
     "text": [
      "No se encontro el numero 30\n"
     ]
    }
   ],
   "source": [
    "for n in numeros:\n",
    "    if n==30:\n",
    "        break\n",
    "else:\n",
    "    print('No se encontro el numero 30')"
   ]
  }
 ],
 "metadata": {
  "kernelspec": {
   "display_name": "Python 3",
   "language": "python",
   "name": "python3"
  },
  "language_info": {
   "codemirror_mode": {
    "name": "ipython",
    "version": 3
   },
   "file_extension": ".py",
   "mimetype": "text/x-python",
   "name": "python",
   "nbconvert_exporter": "python",
   "pygments_lexer": "ipython3",
   "version": "3.6.13"
  }
 },
 "nbformat": 4,
 "nbformat_minor": 5
}
