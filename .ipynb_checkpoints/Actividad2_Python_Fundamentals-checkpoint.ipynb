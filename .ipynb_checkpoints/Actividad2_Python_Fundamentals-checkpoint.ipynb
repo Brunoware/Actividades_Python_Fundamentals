{
 "cells": [
  {
   "cell_type": "markdown",
   "id": "9ac72af2",
   "metadata": {},
   "source": [
    "Crear tupla con una longitud 5"
   ]
  },
  {
   "cell_type": "code",
   "execution_count": 4,
   "id": "0aeeee35",
   "metadata": {},
   "outputs": [
    {
     "name": "stdout",
     "output_type": "stream",
     "text": [
      "La tupla tiene 5 elementos\n"
     ]
    }
   ],
   "source": [
    "tupla=('Bruno',22,True,[1.78,'85 kg'],{'Carrera':'Ingenieria Mecatronica','Posicion':'Analista de Datos'})\n",
    "\n",
    "# comprobar cantidad de elementos de la tupla\n",
    "print(f'La tupla tiene {len(tupla)} elementos')"
   ]
  },
  {
   "cell_type": "markdown",
   "id": "fccaf7d5",
   "metadata": {},
   "source": [
    "Cambiar tupla a lista"
   ]
  },
  {
   "cell_type": "code",
   "execution_count": 7,
   "id": "bbbc4596",
   "metadata": {},
   "outputs": [
    {
     "data": {
      "text/plain": [
       "['Bruno',\n",
       " 22,\n",
       " True,\n",
       " [1.78, '85 kg'],\n",
       " {'Carrera': 'Ingenieria Mecatronica', 'Posicion': 'Analista de Datos'}]"
      ]
     },
     "execution_count": 7,
     "metadata": {},
     "output_type": "execute_result"
    }
   ],
   "source": [
    "lista=list(tupla) # lista a partir de la tupla\n",
    "lista"
   ]
  },
  {
   "cell_type": "markdown",
   "id": "e13dc44f",
   "metadata": {},
   "source": [
    "Crear diccionario a partir de la lista"
   ]
  },
  {
   "cell_type": "code",
   "execution_count": 10,
   "id": "3591d221",
   "metadata": {},
   "outputs": [
    {
     "data": {
      "text/plain": [
       "{1: 'Bruno',\n",
       " 2: 22,\n",
       " 3: True,\n",
       " 4: [1.78, '85 kg'],\n",
       " 5: {'Carrera': 'Ingenieria Mecatronica', 'Posicion': 'Analista de Datos'}}"
      ]
     },
     "execution_count": 10,
     "metadata": {},
     "output_type": "execute_result"
    }
   ],
   "source": [
    "# crear keys\n",
    "keys=range(1,6) # piden del 1 al 5\n",
    "\n",
    "# crear values\n",
    "values=lista\n",
    "\n",
    "# crear diccionario\n",
    "diccionario=dict(zip(keys,values))\n",
    "\n",
    "# mostrar diccionario\n",
    "diccionario"
   ]
  }
 ],
 "metadata": {
  "kernelspec": {
   "display_name": "Python 3",
   "language": "python",
   "name": "python3"
  },
  "language_info": {
   "codemirror_mode": {
    "name": "ipython",
    "version": 3
   },
   "file_extension": ".py",
   "mimetype": "text/x-python",
   "name": "python",
   "nbconvert_exporter": "python",
   "pygments_lexer": "ipython3",
   "version": "3.6.13"
  }
 },
 "nbformat": 4,
 "nbformat_minor": 5
}
