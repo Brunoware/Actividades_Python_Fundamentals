{
 "cells": [
  {
   "cell_type": "markdown",
   "id": "caae2742",
   "metadata": {},
   "source": [
    "Matriz entre el rango 3 a mi edad (22)"
   ]
  },
  {
   "cell_type": "code",
   "execution_count": 4,
   "id": "cc4d1476",
   "metadata": {},
   "outputs": [
    {
     "data": {
      "text/plain": [
       "array([ 3,  4,  5,  6,  7,  8,  9, 10, 11, 12, 13, 14, 15, 16, 17, 18, 19,\n",
       "       20, 21, 22])"
      ]
     },
     "execution_count": 4,
     "metadata": {},
     "output_type": "execute_result"
    }
   ],
   "source": [
    "# importar libreria\n",
    "import numpy as np\n",
    "\n",
    "# crear matriz\n",
    "matriz=np.arange(3,23)\n",
    "\n",
    "# mostrar matriz\n",
    "matriz"
   ]
  },
  {
   "cell_type": "markdown",
   "id": "c25f2c86",
   "metadata": {},
   "source": [
    "Crear un arreglo con los siguientes elementos: [0,1,2,3,4,0,1,2,3,4]"
   ]
  },
  {
   "cell_type": "code",
   "execution_count": 2,
   "id": "8e063053",
   "metadata": {},
   "outputs": [
    {
     "data": {
      "text/plain": [
       "array([0, 1, 2, 3, 4, 0, 1, 2, 3, 4])"
      ]
     },
     "execution_count": 2,
     "metadata": {},
     "output_type": "execute_result"
    }
   ],
   "source": [
    "matriz_2=np.array([0,1,2,3,4,0,1,2,3,4])\n",
    "matriz_2"
   ]
  },
  {
   "cell_type": "markdown",
   "id": "e0a72d1a",
   "metadata": {},
   "source": [
    "Ordenar arreglo en forma ascendente"
   ]
  },
  {
   "cell_type": "code",
   "execution_count": 3,
   "id": "daee5a93",
   "metadata": {},
   "outputs": [
    {
     "data": {
      "text/plain": [
       "array([0, 0, 1, 1, 2, 2, 3, 3, 4, 4])"
      ]
     },
     "execution_count": 3,
     "metadata": {},
     "output_type": "execute_result"
    }
   ],
   "source": [
    "matriz_2.sort()\n",
    "matriz_2"
   ]
  }
 ],
 "metadata": {
  "kernelspec": {
   "display_name": "Python 3",
   "language": "python",
   "name": "python3"
  },
  "language_info": {
   "codemirror_mode": {
    "name": "ipython",
    "version": 3
   },
   "file_extension": ".py",
   "mimetype": "text/x-python",
   "name": "python",
   "nbconvert_exporter": "python",
   "pygments_lexer": "ipython3",
   "version": "3.6.13"
  }
 },
 "nbformat": 4,
 "nbformat_minor": 5
}
