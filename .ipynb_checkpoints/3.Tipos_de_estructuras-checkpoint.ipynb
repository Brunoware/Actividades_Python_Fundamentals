{
 "cells": [
  {
   "cell_type": "markdown",
   "id": "da510923",
   "metadata": {},
   "source": [
    "# Módulo"
   ]
  },
  {
   "cell_type": "code",
   "execution_count": 2,
   "id": "301ebf4b",
   "metadata": {},
   "outputs": [
    {
     "data": {
      "text/plain": [
       "3"
      ]
     },
     "execution_count": 2,
     "metadata": {},
     "output_type": "execute_result"
    }
   ],
   "source": [
    "3%216"
   ]
  },
  {
   "cell_type": "markdown",
   "id": "25e8b76f",
   "metadata": {},
   "source": [
    "# Impresiones"
   ]
  },
  {
   "cell_type": "code",
   "execution_count": 3,
   "id": "3ab91f38",
   "metadata": {},
   "outputs": [
    {
     "name": "stdout",
     "output_type": "stream",
     "text": [
      "Hola clase Python Fundamentals\n"
     ]
    }
   ],
   "source": [
    "print('Hola clase Python Fundamentals')"
   ]
  },
  {
   "cell_type": "markdown",
   "id": "259922a4",
   "metadata": {},
   "source": [
    "# Potencia"
   ]
  },
  {
   "cell_type": "code",
   "execution_count": 4,
   "id": "a653cc14",
   "metadata": {},
   "outputs": [
    {
     "data": {
      "text/plain": [
       "16"
      ]
     },
     "execution_count": 4,
     "metadata": {},
     "output_type": "execute_result"
    }
   ],
   "source": [
    "2**4 # potencia de 2 a la 4a"
   ]
  },
  {
   "cell_type": "markdown",
   "id": "a968f65d",
   "metadata": {},
   "source": [
    "# Variables"
   ]
  },
  {
   "cell_type": "code",
   "execution_count": 5,
   "id": "f474e307",
   "metadata": {},
   "outputs": [
    {
     "name": "stdout",
     "output_type": "stream",
     "text": [
      "99\n"
     ]
    }
   ],
   "source": [
    "# Precio total de 3 compras\n",
    "c1=19\n",
    "c2=24\n",
    "c3=56\n",
    "print(c1+c2+c3)"
   ]
  },
  {
   "cell_type": "code",
   "execution_count": 6,
   "id": "297e7a1f",
   "metadata": {},
   "outputs": [
    {
     "name": "stdout",
     "output_type": "stream",
     "text": [
      "99\n"
     ]
    }
   ],
   "source": [
    "# Precio total de 3 compras\n",
    "c1=19\n",
    "c2=24\n",
    "c3=56\n",
    "total=c1+c2+c3\n",
    "print(total)"
   ]
  },
  {
   "cell_type": "markdown",
   "id": "fa9ee444",
   "metadata": {},
   "source": [
    "# Eliminar variables"
   ]
  },
  {
   "cell_type": "code",
   "execution_count": 14,
   "id": "a638d1de",
   "metadata": {},
   "outputs": [],
   "source": [
    "del c3 #eliminar c3"
   ]
  },
  {
   "cell_type": "code",
   "execution_count": 16,
   "id": "04267b3f",
   "metadata": {},
   "outputs": [
    {
     "name": "stdout",
     "output_type": "stream",
     "text": [
      "No existe tal variable\n"
     ]
    }
   ],
   "source": [
    "try:\n",
    "    c3\n",
    "except NameError:\n",
    "    print('No existe tal variable')"
   ]
  },
  {
   "cell_type": "markdown",
   "id": "fcacf31e",
   "metadata": {},
   "source": [
    "# Definir variable global"
   ]
  },
  {
   "cell_type": "code",
   "execution_count": 18,
   "id": "02a6a463",
   "metadata": {},
   "outputs": [],
   "source": [
    "variable1='variable original'\n",
    "def variable_global():\n",
    "    global variable1\n",
    "    variable1='variable global modificada'"
   ]
  },
  {
   "cell_type": "code",
   "execution_count": 19,
   "id": "ef3473ce",
   "metadata": {},
   "outputs": [
    {
     "name": "stdout",
     "output_type": "stream",
     "text": [
      "Antes de llamar a la función\n",
      "variable original\n",
      "Después de imprimir la función\n",
      "variable global modificada\n"
     ]
    }
   ],
   "source": [
    "print('Antes de llamar a la función')\n",
    "print(variable1)\n",
    "variable_global()\n",
    "print('Después de imprimir la función')\n",
    "print(variable1)"
   ]
  },
  {
   "cell_type": "markdown",
   "id": "455a78f0",
   "metadata": {},
   "source": [
    "# Comparaciones"
   ]
  },
  {
   "cell_type": "code",
   "execution_count": 20,
   "id": "1d250496",
   "metadata": {},
   "outputs": [
    {
     "data": {
      "text/plain": [
       "True"
      ]
     },
     "execution_count": 20,
     "metadata": {},
     "output_type": "execute_result"
    }
   ],
   "source": [
    "False==False"
   ]
  },
  {
   "cell_type": "code",
   "execution_count": 21,
   "id": "d3766b35",
   "metadata": {},
   "outputs": [
    {
     "data": {
      "text/plain": [
       "True"
      ]
     },
     "execution_count": 21,
     "metadata": {},
     "output_type": "execute_result"
    }
   ],
   "source": [
    "0==False"
   ]
  },
  {
   "cell_type": "code",
   "execution_count": 22,
   "id": "967936e1",
   "metadata": {},
   "outputs": [
    {
     "data": {
      "text/plain": [
       "0"
      ]
     },
     "execution_count": 22,
     "metadata": {},
     "output_type": "execute_result"
    }
   ],
   "source": [
    "int(False)"
   ]
  },
  {
   "cell_type": "code",
   "execution_count": 23,
   "id": "74349602",
   "metadata": {},
   "outputs": [
    {
     "data": {
      "text/plain": [
       "1"
      ]
     },
     "execution_count": 23,
     "metadata": {},
     "output_type": "execute_result"
    }
   ],
   "source": [
    "int(True)"
   ]
  },
  {
   "cell_type": "code",
   "execution_count": 24,
   "id": "2d9f5cb7",
   "metadata": {},
   "outputs": [
    {
     "data": {
      "text/plain": [
       "False"
      ]
     },
     "execution_count": 24,
     "metadata": {},
     "output_type": "execute_result"
    }
   ],
   "source": [
    "None==False"
   ]
  },
  {
   "cell_type": "markdown",
   "id": "61a3fc84",
   "metadata": {},
   "source": [
    "# Listas"
   ]
  },
  {
   "cell_type": "code",
   "execution_count": 25,
   "id": "e3d5096a",
   "metadata": {},
   "outputs": [
    {
     "data": {
      "text/plain": [
       "['queso', 70, 'pollo', 80]"
      ]
     },
     "execution_count": 25,
     "metadata": {},
     "output_type": "execute_result"
    }
   ],
   "source": [
    "factura=['queso',70,'pollo',80]\n",
    "factura"
   ]
  },
  {
   "cell_type": "code",
   "execution_count": 26,
   "id": "414c7289",
   "metadata": {},
   "outputs": [
    {
     "data": {
      "text/plain": [
       "list"
      ]
     },
     "execution_count": 26,
     "metadata": {},
     "output_type": "execute_result"
    }
   ],
   "source": [
    "type(factura)"
   ]
  },
  {
   "cell_type": "markdown",
   "id": "c9364fc8",
   "metadata": {},
   "source": [
    "Acceder a elementos de una lista por el índice, por defecto el índice inicia en 0 desde la izquierda.\n",
    "El índice negativo inicia en la derecha"
   ]
  },
  {
   "cell_type": "code",
   "execution_count": 29,
   "id": "68ee0f62",
   "metadata": {},
   "outputs": [
    {
     "data": {
      "text/plain": [
       "'queso'"
      ]
     },
     "execution_count": 29,
     "metadata": {},
     "output_type": "execute_result"
    }
   ],
   "source": [
    "factura[0]"
   ]
  },
  {
   "cell_type": "code",
   "execution_count": 30,
   "id": "cad718ec",
   "metadata": {},
   "outputs": [
    {
     "data": {
      "text/plain": [
       "80"
      ]
     },
     "execution_count": 30,
     "metadata": {},
     "output_type": "execute_result"
    }
   ],
   "source": [
    "factura[-1]"
   ]
  },
  {
   "cell_type": "markdown",
   "id": "2f3e4df3",
   "metadata": {},
   "source": [
    "Cambiar elemento de una lista"
   ]
  },
  {
   "cell_type": "code",
   "execution_count": 32,
   "id": "5582e957",
   "metadata": {},
   "outputs": [
    {
     "data": {
      "text/plain": [
       "['papas', 70, 'pollo', 80]"
      ]
     },
     "execution_count": 32,
     "metadata": {},
     "output_type": "execute_result"
    }
   ],
   "source": [
    "factura[0]='papas'\n",
    "factura"
   ]
  },
  {
   "cell_type": "code",
   "execution_count": 33,
   "id": "c638cd58",
   "metadata": {},
   "outputs": [],
   "source": [
    "factura.append(100)"
   ]
  },
  {
   "cell_type": "code",
   "execution_count": 34,
   "id": "a2f433c9",
   "metadata": {},
   "outputs": [],
   "source": [
    "factura.append(100)\n",
    "factura.append(100)"
   ]
  },
  {
   "cell_type": "code",
   "execution_count": 35,
   "id": "01b13104",
   "metadata": {},
   "outputs": [
    {
     "data": {
      "text/plain": [
       "['papas', 70, 'pollo', 80, 100, 100, 100]"
      ]
     },
     "execution_count": 35,
     "metadata": {},
     "output_type": "execute_result"
    }
   ],
   "source": [
    "factura"
   ]
  },
  {
   "cell_type": "code",
   "execution_count": 36,
   "id": "5ae5f207",
   "metadata": {},
   "outputs": [
    {
     "data": {
      "text/plain": [
       "3"
      ]
     },
     "execution_count": 36,
     "metadata": {},
     "output_type": "execute_result"
    }
   ],
   "source": [
    "factura.count(100)"
   ]
  },
  {
   "cell_type": "code",
   "execution_count": 37,
   "id": "d5352d6f",
   "metadata": {},
   "outputs": [
    {
     "data": {
      "text/plain": [
       "['papas', 70, 'pollo', 80, 100, 100, 100, 5, 6]"
      ]
     },
     "execution_count": 37,
     "metadata": {},
     "output_type": "execute_result"
    }
   ],
   "source": [
    "factura.extend(range(5,7))\n",
    "factura"
   ]
  },
  {
   "cell_type": "code",
   "execution_count": 38,
   "id": "6905931d",
   "metadata": {},
   "outputs": [],
   "source": [
    "b=factura.copy()"
   ]
  },
  {
   "cell_type": "code",
   "execution_count": 45,
   "id": "e9c31a1e",
   "metadata": {},
   "outputs": [
    {
     "data": {
      "text/plain": [
       "['papas', 70, 'pollo', 80, 100, 100, 100, 5, 6, [5, 6]]"
      ]
     },
     "execution_count": 45,
     "metadata": {},
     "output_type": "execute_result"
    }
   ],
   "source": [
    "b.append(list(range(5,7)))\n",
    "b"
   ]
  },
  {
   "cell_type": "code",
   "execution_count": 46,
   "id": "2ce5e201",
   "metadata": {},
   "outputs": [
    {
     "data": {
      "text/plain": [
       "4"
      ]
     },
     "execution_count": 46,
     "metadata": {},
     "output_type": "execute_result"
    }
   ],
   "source": [
    "factura.index(100)"
   ]
  },
  {
   "cell_type": "code",
   "execution_count": 47,
   "id": "dd179b40",
   "metadata": {},
   "outputs": [
    {
     "data": {
      "text/plain": [
       "6"
      ]
     },
     "execution_count": 47,
     "metadata": {},
     "output_type": "execute_result"
    }
   ],
   "source": [
    "factura.pop()"
   ]
  },
  {
   "cell_type": "code",
   "execution_count": 48,
   "id": "bfceaf7a",
   "metadata": {},
   "outputs": [],
   "source": [
    "factura.remove('pollo')"
   ]
  },
  {
   "cell_type": "code",
   "execution_count": 50,
   "id": "6ade351e",
   "metadata": {},
   "outputs": [],
   "source": [
    "factura.insert(2,10)"
   ]
  },
  {
   "cell_type": "code",
   "execution_count": 51,
   "id": "8764e86a",
   "metadata": {},
   "outputs": [
    {
     "data": {
      "text/plain": [
       "['papas', 70, 10, 80, 100, 100, 100, 5]"
      ]
     },
     "execution_count": 51,
     "metadata": {},
     "output_type": "execute_result"
    }
   ],
   "source": [
    "factura"
   ]
  },
  {
   "cell_type": "code",
   "execution_count": 52,
   "id": "f9994470",
   "metadata": {},
   "outputs": [],
   "source": [
    "factura.remove(100)"
   ]
  },
  {
   "cell_type": "code",
   "execution_count": 53,
   "id": "4859d337",
   "metadata": {},
   "outputs": [
    {
     "data": {
      "text/plain": [
       "['papas', 70, 10, 80, 100, 100, 5]"
      ]
     },
     "execution_count": 53,
     "metadata": {},
     "output_type": "execute_result"
    }
   ],
   "source": [
    "factura"
   ]
  },
  {
   "cell_type": "code",
   "execution_count": 54,
   "id": "85b12332",
   "metadata": {},
   "outputs": [
    {
     "data": {
      "text/plain": [
       "10"
      ]
     },
     "execution_count": 54,
     "metadata": {},
     "output_type": "execute_result"
    }
   ],
   "source": [
    "factura.pop(2)"
   ]
  },
  {
   "cell_type": "code",
   "execution_count": 55,
   "id": "87d2b861",
   "metadata": {},
   "outputs": [
    {
     "data": {
      "text/plain": [
       "['papas', 70, 80, 100, 100, 5]"
      ]
     },
     "execution_count": 55,
     "metadata": {},
     "output_type": "execute_result"
    }
   ],
   "source": [
    "factura"
   ]
  }
 ],
 "metadata": {
  "kernelspec": {
   "display_name": "Python 3 (ipykernel)",
   "language": "python",
   "name": "python3"
  },
  "language_info": {
   "codemirror_mode": {
    "name": "ipython",
    "version": 3
   },
   "file_extension": ".py",
   "mimetype": "text/x-python",
   "name": "python",
   "nbconvert_exporter": "python",
   "pygments_lexer": "ipython3",
   "version": "3.9.12"
  }
 },
 "nbformat": 4,
 "nbformat_minor": 5
}
